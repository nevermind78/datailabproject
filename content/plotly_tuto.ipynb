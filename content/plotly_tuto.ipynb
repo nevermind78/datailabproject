{
 "cells": [
  {
   "cell_type": "markdown",
   "metadata": {},
   "source": [
    "<div style=\"\n",
    "    color: red; \n",
    "    border: 2px solid black; \n",
    "    border-radius: 15px; \n",
    "    padding: 8px; \n",
    "    font-size: 24px; \n",
    "    font-weight: bold; \n",
    "    text-align: center; \n",
    "    margin: 20px 0;\">\n",
    "    <div style=\"\n",
    "        border: 2px solid red; \n",
    "        border-radius: 10px; \n",
    "        padding: 10px;\">\n",
    "        <img src=\"https://kajabi-storefronts-production.kajabi-cdn.com/kajabi-storefronts-production/file-uploads/themes/2155698250/settings_images/dd1ab6f-208-d4e5-d187-483a245d87_logo_header_Datailab.png\" alt=\"Datailab Logo\" style=\"max-width: 100%; height: auto;\">\n",
    "        <h2 style=\"color: black; margin-top: 10px;\">Plotly </h2>\n",
    "    </div>\n",
    "</div>\n"
   ]
  },
  {
   "cell_type": "markdown",
   "metadata": {},
   "source": [
    "<div style=\"\n",
    "    color: red; \n",
    "    border: 2px solid black; \n",
    "    border-radius: 15px; \n",
    "    padding: 8px; \n",
    "    font-size: 24px; \n",
    "    font-weight: bold; \n",
    "    text-align: center; \n",
    "    margin: 20px 0;\">\n",
    "    <div style=\"\n",
    "        border: 2px solid red; \n",
    "        border-radius: 10px; \n",
    "        padding: 10px;\">\n",
    "        Prérequis\n",
    "    </div>\n",
    "</div>\n",
    "Exécuter cette ceulle\n"
   ]
  },
  {
   "cell_type": "code",
   "execution_count": null,
   "metadata": {},
   "outputs": [],
   "source": [
    "%pip install -q ipywidgets bqplot plotly nbformat>=4.2.0 ipywidgets seaborn"
   ]
  },
  {
   "cell_type": "markdown",
   "metadata": {},
   "source": [
    "<div style=\"\n",
    "    color: red; \n",
    "    border: 2px solid black; \n",
    "    border-radius: 15px; \n",
    "    padding: 8px; \n",
    "    font-size: 24px; \n",
    "    font-weight: bold; \n",
    "    text-align: center; \n",
    "    margin: 20px 0;\">\n",
    "    <div style=\"\n",
    "        border: 2px solid red; \n",
    "        border-radius: 10px; \n",
    "        padding: 10px;\">\n",
    "        Introduction\n",
    "    </div>\n",
    "    \n",
    "</div>\n",
    "Dans cet article, nous explorerons comment utiliser Pandas, Plotly, et ipywidgets pour créer des visualisations interactives dans Jupyter Lab. Nous travaillerons avec un jeu de données célèbre appelé Gapminder, qui contient des informations sur le PIB par habitant, l'espérance de vie, la population et le continent pour divers pays au fil des années. Notre objectif est de construire un diagramme à bulles interactif et un histogramme pour explorer les données en fonction de l'année sélectionnée à l'aide de widgets interactifs."
   ]
  },
  {
   "cell_type": "markdown",
   "metadata": {},
   "source": [
    "<div style=\"\n",
    "    color: red; \n",
    "    border: 2px solid black; \n",
    "    border-radius: 15px; \n",
    "    padding: 8px; \n",
    "    font-size: 24px; \n",
    "    font-weight: bold; \n",
    "    text-align: center; \n",
    "    margin: 20px 0;\">\n",
    "    <div style=\"\n",
    "        border: 2px solid red; \n",
    "        border-radius: 10px; \n",
    "        padding: 10px;\">\n",
    "        Chargement des bibliothèques\n",
    "    </div>\n",
    "    \n",
    "</div>\n",
    "Nous commençons par importer les bibliothèques nécessaires : Pandas pour la manipulation des données, Plotly pour la création de graphiques interactifs, ipywidgets pour ajouter des widgets interactifs à notre notebook, et make_subplots de Plotly pour gérer les subplots."
   ]
  },
  {
   "cell_type": "code",
   "execution_count": null,
   "metadata": {},
   "outputs": [],
   "source": [
    "import pandas as pd\n",
    "import plotly.express as px\n",
    "import plotly.graph_objects as go\n",
    "from plotly.subplots import make_subplots\n",
    "import ipywidgets as widgets\n",
    "from IPython.display import display\n"
   ]
  },
  {
   "cell_type": "markdown",
   "metadata": {},
   "source": [
    "<div style=\"\n",
    "    color: red; \n",
    "    border: 2px solid black; \n",
    "    border-radius: 15px; \n",
    "    padding: 8px; \n",
    "    font-size: 24px; \n",
    "    font-weight: bold; \n",
    "    text-align: center; \n",
    "    margin: 20px 0;\">\n",
    "    <div style=\"\n",
    "        border: 2px solid red; \n",
    "        border-radius: 10px; \n",
    "        padding: 10px;\">\n",
    "        Chargement du jeu de données Gapminder\n",
    "    </div>\n",
    "    \n",
    "</div>\n",
    "Nous chargeons le jeu de données Gapminder à l'aide de Plotly Express. Ce jeu de données contient des informations démographiques et économiques pour plusieurs pays à travers le temps."
   ]
  },
  {
   "cell_type": "code",
   "execution_count": null,
   "metadata": {},
   "outputs": [],
   "source": [
    "df = px.data.gapminder()"
   ]
  },
  {
   "cell_type": "markdown",
   "metadata": {},
   "source": [
    "<div style=\"\n",
    "    color: red; \n",
    "    border: 2px solid black; \n",
    "    border-radius: 15px; \n",
    "    padding: 8px; \n",
    "    font-size: 24px; \n",
    "    font-weight: bold; \n",
    "    text-align: center; \n",
    "    margin: 20px 0;\">\n",
    "    <div style=\"\n",
    "        border: 2px solid red; \n",
    "        border-radius: 10px; \n",
    "        padding: 10px;\">\n",
    "        Création du widget de sélection pour l'année\n",
    "    </div>\n",
    "    \n",
    "</div>\n",
    "Nous utilisons ipywidgets pour créer un menu déroulant permettant de sélectionner une année. Par défaut, la dernière année disponible est sélectionnée."
   ]
  },
  {
   "cell_type": "code",
   "execution_count": null,
   "metadata": {},
   "outputs": [],
   "source": [
    "year_dropdown = widgets.Dropdown(\n",
    "    options=df['year'].unique(),\n",
    "    description='Année:',\n",
    "    value=df['year'].max(),  # Sélectionner la dernière année par défaut\n",
    ")\n"
   ]
  },
  {
   "cell_type": "markdown",
   "metadata": {},
   "source": [
    "<div style=\"\n",
    "    color: red; \n",
    "    border: 2px solid black; \n",
    "    border-radius: 15px; \n",
    "    padding: 8px; \n",
    "    font-size: 24px; \n",
    "    font-weight: bold; \n",
    "    text-align: center; \n",
    "    margin: 20px 0;\">\n",
    "    <div style=\"\n",
    "        border: 2px solid red; \n",
    "        border-radius: 10px; \n",
    "        padding: 10px;\">\n",
    "        Fonction de mise à jour du graphique\n",
    "    </div>\n",
    "    \n",
    "</div>\n",
    "Nous définissons une fonction update_graph qui prend comme argument l'année sélectionnée par l'utilisateur. Cette fonction filtrera les données en fonction de l'année choisie, créera un diagramme à bulles et un histogramme pour explorer les relations entre le PIB par habitant, l'espérance de vie et d'autres variables."
   ]
  },
  {
   "cell_type": "code",
   "execution_count": null,
   "metadata": {},
   "outputs": [],
   "source": [
    "def update_graph(year):\n",
    "    # Filtrer les données pour l'année sélectionnée\n",
    "    filtered_df = df[df['year'] == year]\n",
    "    \n",
    "    # Création du diagramme à bulles avec Plotly Express\n",
    "    bubble_fig = px.scatter(\n",
    "        filtered_df, x='gdpPercap', y='lifeExp',\n",
    "        size='pop', color='continent', hover_name='country',\n",
    "        log_x=True, size_max=60,\n",
    "        labels={'gdpPercap': 'PIB par Habitant', 'lifeExp': 'Espérance de Vie'},\n",
    "    )\n",
    "    \n",
    "    bubble_fig.update_layout(\n",
    "        xaxis_title='PIB par Habitant (log)',\n",
    "        yaxis_title='Espérance de Vie (années)',\n",
    "    )\n",
    "    \n",
    "    # Création de l'histogramme avec Plotly Express\n",
    "    hist_fig = px.histogram(\n",
    "        filtered_df, x='lifeExp', nbins=20,\n",
    "        labels={'lifeExp': 'Espérance de Vie'},\n",
    "    )\n",
    "    \n",
    "    hist_fig.update_layout(\n",
    "        xaxis_title='Espérance de Vie (années)',\n",
    "        yaxis_title='Nombre de Pays',\n",
    "    )\n",
    "    \n",
    "    # Création de subplots avec Plotly make_subplots\n",
    "    fig = make_subplots(\n",
    "        rows=2, cols=1,\n",
    "        subplot_titles=(\n",
    "            f'Diagramme à Bulles pour {year}',\n",
    "            f'Histogramme de l\\'Espérance de Vie pour {year}'\n",
    "        ),\n",
    "        vertical_spacing=0.15\n",
    "    )\n",
    "    \n",
    "    # Ajout du diagramme à bulles au premier subplot\n",
    "    for trace in bubble_fig.data:\n",
    "        fig.add_trace(trace, row=1, col=1)\n",
    "    \n",
    "    # Ajout de l'histogramme au deuxième subplot\n",
    "    for trace in hist_fig.data:\n",
    "        fig.add_trace(trace, row=2, col=1)\n",
    "    \n",
    "    # Mise à jour de la mise en page globale du graphique\n",
    "    fig.update_layout(\n",
    "        height=800,\n",
    "        title_text=f'Diagramme à Bulles et Histogramme pour {year}',\n",
    "        title_x=0.5\n",
    "    )\n",
    "    \n",
    "    # Afficher le graphique interactif\n",
    "    fig.show()\n",
    "\n"
   ]
  },
  {
   "cell_type": "markdown",
   "metadata": {},
   "source": [
    "<div style=\"\n",
    "    color: red; \n",
    "    border: 2px solid black; \n",
    "    border-radius: 15px; \n",
    "    padding: 8px; \n",
    "    font-size: 24px; \n",
    "    font-weight: bold; \n",
    "    text-align: center; \n",
    "    margin: 20px 0;\">\n",
    "    <div style=\"\n",
    "        border: 2px solid red; \n",
    "        border-radius: 10px; \n",
    "        padding: 10px;\">\n",
    "        Affichage du widget interactif\n",
    "    </div>\n",
    "    \n",
    "</div>\n",
    "Nous utilisons `widgets.interactive` pour lier le widget de sélection d'année à la fonction `update_graph`, permettant ainsi à l'utilisateur de sélectionner une année et voir les graphiques mis à jour en conséquence."
   ]
  },
  {
   "cell_type": "code",
   "execution_count": null,
   "metadata": {},
   "outputs": [],
   "source": [
    "widgets.interactive(update_graph, year=year_dropdown)\n"
   ]
  },
  {
   "cell_type": "markdown",
   "metadata": {},
   "source": [
    "<div style=\"\n",
    "    color: red; \n",
    "    border: 2px solid black; \n",
    "    border-radius: 15px; \n",
    "    padding: 8px; \n",
    "    font-size: 24px; \n",
    "    font-weight: bold; \n",
    "    text-align: center; \n",
    "    margin: 20px 0;\">\n",
    "    <div style=\"\n",
    "        border: 2px solid red; \n",
    "        border-radius: 10px; \n",
    "        padding: 10px;\">\n",
    "        Conclusion\n",
    "    </div>\n",
    "    \n",
    "</div>\n",
    "Dans cet article, nous avons exploré comment utiliser Pandas, Plotly et ipywidgets pour créer des visualisations interactives dans un notebook Jupyter. En utilisant le jeu de données Gapminder, nous avons construit un diagramme à bulles interactif et un histogramme pour explorer les relations entre le PIB par habitant, l'espérance de vie et d'autres variables en fonction de l'année sélectionnée. Les widgets interactifs permettent une exploration dynamique des données, offrant ainsi une expérience d'apprentissage interactive et immersive."
   ]
  }
 ],
 "metadata": {
  "kernelspec": {
   "display_name": "base",
   "language": "python",
   "name": "python3"
  },
  "language_info": {
   "codemirror_mode": {
    "name": "ipython",
    "version": 3
   },
   "file_extension": ".py",
   "mimetype": "text/x-python",
   "name": "python",
   "nbconvert_exporter": "python",
   "pygments_lexer": "ipython3",
   "version": "3.11.5"
  }
 },
 "nbformat": 4,
 "nbformat_minor": 2
}
