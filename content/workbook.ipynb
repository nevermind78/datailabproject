{
 "cells": [
  {
   "cell_type": "markdown",
   "id": "3593c1fa-7d3b-4160-b479-1e88fbc225c3",
   "metadata": {},
   "source": [
    "# Exercice-1.1"
   ]
  },
  {
   "cell_type": "code",
   "execution_count": null,
   "id": "1ec895d3-f03a-4032-b8dd-5323ed058e37",
   "metadata": {},
   "outputs": [],
   "source": []
  },
  {
   "cell_type": "markdown",
   "id": "74bdf151-139b-42fb-8458-18e46c715935",
   "metadata": {},
   "source": [
    "# Exercice-1.2"
   ]
  },
  {
   "cell_type": "code",
   "execution_count": null,
   "id": "c9a109a3-7147-4f4c-bb2b-4496cf44f9ca",
   "metadata": {},
   "outputs": [],
   "source": []
  }
 ],
 "metadata": {
  "kernelspec": {
   "display_name": "Python 3 (ipykernel)",
   "language": "python",
   "name": "python3"
  },
  "language_info": {
   "codemirror_mode": {
    "name": "ipython",
    "version": 3
   },
   "file_extension": ".py",
   "mimetype": "text/x-python",
   "name": "python",
   "nbconvert_exporter": "python",
   "pygments_lexer": "ipython3",
   "version": "3.10.10"
  }
 },
 "nbformat": 4,
 "nbformat_minor": 5
}
