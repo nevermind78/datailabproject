{
  "metadata": {
    "kernelspec": {
      "name": "python",
      "display_name": "Python (Pyodide)",
      "language": "python"
    },
    "language_info": {
      "codemirror_mode": {
        "name": "python",
        "version": 3
      },
      "file_extension": ".py",
      "mimetype": "text/x-python",
      "name": "python",
      "nbconvert_exporter": "python",
      "pygments_lexer": "ipython3",
      "version": "3.8"
    },
    "colab": {
      "provenance": []
    }
  },
  "nbformat_minor": 4,
  "nbformat": 4,
  "cells": [
    {
      "cell_type": "markdown",
      "source": "<div style=\"\n    color: red; \n    border: 2px solid black; \n    border-radius: 15px; \n    padding: 8px; \n    font-size: 24px; \n    font-weight: bold; \n    text-align: center; \n    margin: 20px 0;\">\n    <div style=\"\n        border: 2px solid red; \n        border-radius: 10px; \n        padding: 10px;\">\n        <img src=\"https://kajabi-storefronts-production.kajabi-cdn.com/kajabi-storefronts-production/file-uploads/themes/2155698250/settings_images/dd1ab6f-208-d4e5-d187-483a245d87_logo_header_Datailab.png\" alt=\"Datailab Logo\" style=\"max-width: 100%; height: auto;\">\n        <h2 style=\"color: black; margin-top: 10px;\">SQL , NULL et CASE </h2>\n    </div>\n</div>",
      "metadata": {}
    },
    {
      "cell_type": "markdown",
      "source": "# Null, CASE\n\nNous couvrirons les expressions **NULL** et **CASE** dans cette section. Une valeur **NULL** n'est pas une valeur, tout comme un **None** ou **NaN** en Python indique une valeur vide. L'expression **CASE** nous permet d'associer des conditions aux valeurs résultantes, un peu comme un **if/ elif else** en Python.\n",
      "metadata": {
        "id": "SUUbQb441qcj"
      }
    },
    {
      "cell_type": "markdown",
      "source": "# SET UP",
      "metadata": {
        "id": "LIhdEwh82lhG"
      }
    },
    {
      "cell_type": "code",
      "source": "%pip install -q ipywidgets pandas matplotlib sqlite3 ipython-sql ",
      "metadata": {
        "trusted": true
      },
      "outputs": [],
      "execution_count": null
    },
    {
      "cell_type": "code",
      "source": "import sqlite3\nimport pandas as pd\n\n\n\nconn = sqlite3.connect('data/company_operations.db')",
      "metadata": {
        "id": "E3idisKE2e3S",
        "trusted": true
      },
      "outputs": [],
      "execution_count": null
    },
    {
      "cell_type": "markdown",
      "source": "# Valeurs NULL\n\nJeter un coup d'oeil sur les rapports suivants : 'LJVE08D', 'EP4AKZR', '1FC27OH', 'F4DEAK3' se trouvant dans la table WEATHER_MONITOR\n",
      "metadata": {
        "id": "6l7Kyrlp3FOm"
      }
    },
    {
      "cell_type": "code",
      "source": "sql=\"\"\"\nSELECT * FROM WEATHER_MONITOR\nWHERE REPORT_CODE IN ('LJVE08D', 'EP4AKZR', '1FC27OH', 'F4DEAK3')\n\"\"\"\npd.read_sql(sql,conn)",
      "metadata": {
        "colab": {
          "base_uri": "https://localhost:8080/",
          "height": 155
        },
        "id": "nJ1OxMw329Gj",
        "outputId": "9854dab1-e16a-4d12-b2c9-616ad358d0f0",
        "trusted": true
      },
      "outputs": [],
      "execution_count": null
    },
    {
      "cell_type": "markdown",
      "source": "* Donner tous les enregistrements tels que RAIN contient une valeur Null ( None )\n\n| | ID | RAPPORT_CODE | RAPPORT_DATE | LOCATION_ID | TEMPERATURE | OVERCAST | RAIN | SNOW | LIGHTNING | HAIL | TORNADO |\n|----:|-----:|:--------------|:--------------|--------------:|--------------:|-----------:|:-------|-------:|------------:|-------:|----------:|\n| 0 | 9 | G0UINBG | 2021-05-04 | 14 | 62.2 | 1 |None | 0 | 0 | 0 | 0 |\n| 1 | 17 | 89U7PF3 | 2021-05-02 | 2 | 67,8 | 0 |None | 0 | 0 | 0 | 0 |\n| 2 | 45 | EP4AKZR | 2021-03-11 | 32 | 64,5 | 0 |None | 0 | 0 | 0 | 0 |\n| 3 | 80 | EPQO1H8 | 2021-05-09 | 31 | 54.1 | 0 |None | 0 | 0 | 0 | 0 |\n| 159 | 2967 | 1FC27OH | 2020-12-01 | 16 | 89,7 | 0 |None | 0 | 0 | 0 | 0 |\n| 160 | 2973 | OXDUXW5 | 2020-11-02 | 44 | 100,2 | 1 |None | 0 | 0 | 0 | 0 |\n| 161 | 2975 | EA8O3S0 | 2020-12-01 | 6 | 92.2 | 1 |None | 0 | 0 | 0 | 0 |\n\n\n\n",
      "metadata": {
        "id": "zlMA-yAQ4_xn"
      }
    },
    {
      "cell_type": "code",
      "source": "sql =\"\"\"\nSELECT * FROM WEATHER_MONITOR\n-- filtrer les null : IS NULL\nWHERE RAIN IS NULL\n\"\"\"\npd.read_sql(sql,conn).tail(3)",
      "metadata": {
        "colab": {
          "base_uri": "https://localhost:8080/",
          "height": 143
        },
        "id": "yf3lLt7k36l-",
        "outputId": "99437a43-dd81-4f6f-b58b-519862d6a828",
        "trusted": true
      },
      "outputs": [],
      "execution_count": null
    },
    {
      "cell_type": "markdown",
      "source": "* Filtrer les valeurs telsque RAIN est non NULL",
      "metadata": {
        "id": "B9a_9BTu7f3G"
      }
    },
    {
      "cell_type": "code",
      "source": "sql =\"\"\"\nSELECT * FROM WEATHER_MONITOR\n-- filtrer les NON null : IS NOT NULL\nWHERE RAIN IS NOT NULL\n\"\"\"\npd.read_sql(sql,conn)",
      "metadata": {
        "colab": {
          "base_uri": "https://localhost:8080/",
          "height": 423
        },
        "id": "VJZFyrgG62kB",
        "outputId": "b48e2283-4494-4509-e3d5-ca85efbc8176",
        "trusted": true
      },
      "outputs": [],
      "execution_count": null
    },
    {
      "cell_type": "markdown",
      "source": "* Filtrer RAIN avec al conditions RAIN > 0 exclu automatiquement les valeurs NULL",
      "metadata": {
        "id": "6tth5Qda8PAx"
      }
    },
    {
      "cell_type": "code",
      "source": "sql =\"\"\"\nSELECT * FROM WEATHER_MONITOR\nWHERE RAIN > 0\n\"\"\"\npd.read_sql(sql,conn)",
      "metadata": {
        "colab": {
          "base_uri": "https://localhost:8080/",
          "height": 423
        },
        "id": "cFv4Ibvv7pYx",
        "outputId": "540fe2c6-5114-43f8-94c8-7b37be7b18a3",
        "trusted": true
      },
      "outputs": [],
      "execution_count": null
    },
    {
      "cell_type": "markdown",
      "source": "* Filtrer les valurs de RAIN > 0 **OU** les valeurs NULL",
      "metadata": {
        "id": "XtJr6RzP8dJ5"
      }
    },
    {
      "cell_type": "code",
      "source": "sql =\"\"\"\nSELECT * FROM WEATHER_MONITOR\nWHERE RAIN > 0 OR RAIN IS NULL\n\"\"\"\npd.read_sql(sql,conn).head(10)",
      "metadata": {
        "colab": {
          "base_uri": "https://localhost:8080/",
          "height": 363
        },
        "id": "Zk9EigbR8Gyw",
        "outputId": "39a4ff3f-6edd-46c2-a60a-22c3a8627229",
        "trusted": true
      },
      "outputs": [],
      "execution_count": null
    },
    {
      "cell_type": "markdown",
      "source": "# COALESCE()\n\nConvertie la valeur Null en une une valeur définie par l'utilisateur\n```sql\n-- convertir toutes les valeurs qui sont Null dans la colonne RAIN par 0 , et laisser les autres valeurs tels quelles sont\nCOALESCE(RAIN,0)\n```\n",
      "metadata": {
        "id": "MC-eHGLY9D0N"
      }
    },
    {
      "cell_type": "code",
      "source": "sql =\"\"\"\nSELECT RAIN,COALESCE(RAIN,0) AS COALESCE_  FROM WEATHER_MONITOR\n\"\"\"\npd.read_sql(sql,conn).head(20)",
      "metadata": {
        "colab": {
          "base_uri": "https://localhost:8080/",
          "height": 676
        },
        "id": "8BMjrr8d8vQE",
        "outputId": "38374d39-ec60-40a4-d821-6fa68f4a145b",
        "trusted": true
      },
      "outputs": [],
      "execution_count": null
    },
    {
      "cell_type": "code",
      "source": "sql = \"\"\"\nSELECT REPORT_CODE,\n       RAIN,\n       COALESCE(RAIN, -1) COALESCE_RAIN\nFROM WEATHER_MONITOR\nWHERE REPORT_CODE IN ('G0UINBG', 'PJVNOSP')\n\"\"\"\npd.read_sql(sql,conn)",
      "metadata": {
        "colab": {
          "base_uri": "https://localhost:8080/",
          "height": 112
        },
        "id": "jqVaf-FP9eAP",
        "outputId": "86e88bed-b99c-49c0-a8d7-45ae2dbe215c",
        "trusted": true
      },
      "outputs": [],
      "execution_count": null
    },
    {
      "cell_type": "markdown",
      "source": "# CASE",
      "metadata": {
        "id": "jJV4gjEXBBds"
      }
    },
    {
      "cell_type": "code",
      "source": "sql =\"\"\"\nSELECT REPORT_CODE,\n      TEMPERATURE\nFROM WEATHER_MONITOR\n\"\"\"\npd.read_sql(sql,conn)",
      "metadata": {
        "colab": {
          "base_uri": "https://localhost:8080/",
          "height": 423
        },
        "id": "5BQ2rFTRAI1t",
        "outputId": "56da1311-2f0e-493d-d459-eb98c9101fbe",
        "trusted": true
      },
      "outputs": [],
      "execution_count": null
    },
    {
      "cell_type": "markdown",
      "source": "* AFFICHER ceci\n  - SI la température >=78 --> HOT\n  - SI la température >=60 et < 78 --> MILD\n  - SI la température < 60 --> COLD\n\n-----------\n\n\n|      | REPORT_CODE   |   TEMPERATURE | TEMPERATURE_LABEL   |\n|-----:|:--------------|--------------:|:--------------------|\n|    0 | UVYMMWW       |          66   | MILD                |\n|    1 | 7VVYE2L       |          61.3 | MILD                |\n|    2 | PJVNOSP       |          61.6 | MILD                |\n|    3 | 3B19P7S       |          66.3 | MILD                |\n|    4 | EHVUPGY       |          58.5 | COLD                |\n|    5 | ZBAHLGO       |          65   | MILD                |",
      "metadata": {
        "id": "i4k0Si1iBY7q"
      }
    },
    {
      "cell_type": "code",
      "source": "sql = \"\"\"\nSELECT REPORT_CODE,\n      TEMPERATURE,\n      CASE\n        WHEN TEMPERATURE >=78 THEN 'HOT'\n        WHEN TEMPERATURE >=60 THEN 'MILD'\n        ELSE 'COLD'\n      END AS TEMPERATURE_LABEL\nFROM WEATHER_MONITOR\n\"\"\"\npd.read_sql(sql,conn)",
      "metadata": {
        "colab": {
          "base_uri": "https://localhost:8080/",
          "height": 423
        },
        "id": "VzHtHzPGBPYP",
        "outputId": "6841fb30-1112-4ce7-8256-4834b121ffbc",
        "trusted": true
      },
      "outputs": [],
      "execution_count": null
    },
    {
      "cell_type": "code",
      "source": "%load_ext sql",
      "metadata": {
        "trusted": true
      },
      "outputs": [],
      "execution_count": null
    },
    {
      "cell_type": "code",
      "source": "%config SqlMagic.style = '_DEPRECATED_DEFAULT'",
      "metadata": {
        "trusted": true
      },
      "outputs": [],
      "execution_count": null
    },
    {
      "cell_type": "code",
      "source": "%sql sqlite:///data/company_operations.db",
      "metadata": {
        "trusted": true
      },
      "outputs": [],
      "execution_count": null
    },
    {
      "cell_type": "code",
      "source": "%%sql\nSELECT REPORT_CODE,\n      TEMPERATURE,\n      CASE\n        WHEN TEMPERATURE >=78 THEN 'HOT'\n        WHEN TEMPERATURE >=60 THEN 'MILD'\n        ELSE 'COLD'\n      END AS TEMPERATURE_LABEL\nFROM WEATHER_MONITOR\nLIMIT 5",
      "metadata": {
        "colab": {
          "base_uri": "https://localhost:8080/",
          "height": 182
        },
        "id": "laFa-FJQDO3B",
        "outputId": "ec9447ef-b206-49f0-b3eb-e1e64a1f62af",
        "trusted": true
      },
      "outputs": [],
      "execution_count": null
    },
    {
      "cell_type": "markdown",
      "source": "```sql\nSELECT REPORT_CODE,\n      TEMPERATURE,\n      CASE\n        WHEN TEMPERATURE >=78 THEN 'HOT'\n        WHEN TEMPERATURE >=60 THEN 'MILD'\n        ELSE 'COLD'\n      END AS TEMPERATURE_LABEL\nFROM WEATHER_MONITOR\n```\n\nDans le code SQL précédent le ELSE affecte 'COLD' aux valeurs de temperatures qui sont < 60 et aussi les valeur NULL",
      "metadata": {
        "id": "Upk0jyTmD8NW"
      }
    },
    {
      "cell_type": "code",
      "source": "sql = \"\"\"\nSELECT REPORT_CODE,\n      TEMPERATURE,\n      CASE\n        WHEN TEMPERATURE >=78 THEN 'HOT'\n        WHEN TEMPERATURE >=60 THEN 'MILD'\n        WHEN TEMPERATURE < 60 THEN 'COLD'\n        -- ELSE traite seulement les valeurs Null\n        ELSE 'N/A'\n      END AS TEMPERATURE_LABEL\nFROM WEATHER_MONITOR\n\"\"\"\npd.read_sql(sql,conn)",
      "metadata": {
        "colab": {
          "base_uri": "https://localhost:8080/",
          "height": 423
        },
        "id": "gt_t3LLBDbqo",
        "outputId": "a5ce562b-31a3-4752-d876-4aa910b78e9c",
        "trusted": true
      },
      "outputs": [],
      "execution_count": null
    },
    {
      "cell_type": "code",
      "source": "df = pd.read_sql(sql,conn)",
      "metadata": {
        "id": "n8Aq2I6sEv6D",
        "trusted": true
      },
      "outputs": [],
      "execution_count": null
    },
    {
      "cell_type": "code",
      "source": "df[df['TEMPERATURE_LABEL'] == 'N/A']",
      "metadata": {
        "colab": {
          "base_uri": "https://localhost:8080/",
          "height": 143
        },
        "id": "dlvWJrQNFC2v",
        "outputId": "7b325359-534d-4c25-debb-1ef5f2426b55",
        "trusted": true
      },
      "outputs": [],
      "execution_count": null
    },
    {
      "cell_type": "markdown",
      "source": "# REMARQUES COALESCE() et CASE\n* Remplacer `COALESCE(RAIN,0)` par `CASE`\n```sql\nSELECT RAIN,COALESCE(RAIN,0) AS COALESCE_  FROM WEATHER_MONITOR\n```\n\n",
      "metadata": {
        "id": "NF3G77Yubol3"
      }
    },
    {
      "cell_type": "code",
      "source": "sql =\"\"\"\nSELECT RAIN,COALESCE(RAIN,0) AS COALESCE_  FROM WEATHER_MONITOR\n\"\"\"\npd.read_sql(sql,conn).head(20)",
      "metadata": {
        "colab": {
          "base_uri": "https://localhost:8080/",
          "height": 676
        },
        "id": "waLCQo53FDRa",
        "outputId": "b008a1d9-8f0c-4034-bfa5-70dfa566a2e8",
        "trusted": true
      },
      "outputs": [],
      "execution_count": null
    },
    {
      "cell_type": "code",
      "source": "sql = \"\"\"\nSELECT RAIN,\n      CASE\n          WHEN RAIN IS NULL THEN 1\n          ELSE RAIN\n      END AS COALESCE_\nFROM WEATHER_MONITOR\n\"\"\"\npd.read_sql(sql,conn).head(20)",
      "metadata": {
        "colab": {
          "base_uri": "https://localhost:8080/",
          "height": 676
        },
        "id": "Epy2qof0b1_o",
        "outputId": "86bef1d5-8267-44e3-c479-10bcca46e0d3",
        "trusted": true
      },
      "outputs": [],
      "execution_count": null
    },
    {
      "cell_type": "markdown",
      "source": "# NULL CASE truc et astuces\n\n* Calculer Total `Rain` groupé par `YEAR` et `MONTH` seulement pour l'année  2021 ( de la table `WEATHER_MONITOR`)\n\n|    |   YEAR |   MONTH |   TOTAL_RAIN |\n|---:|-------:|--------:|-------------:|\n|  0 |   2021 |       1 |       316.27 |\n|  1 |   2021 |       2 |       138.07 |\n|  2 |   2021 |       3 |       129.03 |\n|  3 |   2021 |       4 |       153.79 |\n|  4 |   2021 |       5 |       158.24 |",
      "metadata": {
        "id": "aREu9SRIeHdP"
      }
    },
    {
      "cell_type": "code",
      "source": "%%sql\nSELECT * FROM WEATHER_MONITOR\nLIMIT 5",
      "metadata": {
        "colab": {
          "base_uri": "https://localhost:8080/",
          "height": 182
        },
        "id": "c15EaC68hiIR",
        "outputId": "715357df-9854-4d78-d85f-4616eebdadc8",
        "trusted": true
      },
      "outputs": [],
      "execution_count": null
    },
    {
      "cell_type": "code",
      "source": "%%sql\nSELECT CAST(strftime('%Y', REPORT_DATE) AS INTEGER) AS YEAR,\n       CAST(strftime('%m', REPORT_DATE) AS INTEGER ) AS MONTH,\n       SUM(RAIN) AS TOTAL_RAIN\nFROM WEATHER_MONITOR\nWHERE YEAR = 2021\nGROUP BY YEAR, MONTH\n",
      "metadata": {
        "colab": {
          "base_uri": "https://localhost:8080/",
          "height": 182
        },
        "id": "7eNIJUNjdCMR",
        "outputId": "6992418f-198a-4925-991c-409d8bf6c1cf",
        "trusted": true
      },
      "outputs": [],
      "execution_count": null
    },
    {
      "cell_type": "code",
      "source": "sql = \"\"\"\nSELECT CAST(strftime('%Y', REPORT_DATE) AS INTEGER) AS YEAR,\n       CAST(strftime('%m', REPORT_DATE) AS INTEGER ) AS MONTH,\n       SUM(RAIN) AS TOTAL_RAIN\nFROM WEATHER_MONITOR\nWHERE YEAR = 2021\nGROUP BY YEAR, MONTH\n\"\"\"\npd.read_sql(sql,conn)",
      "metadata": {
        "colab": {
          "base_uri": "https://localhost:8080/",
          "height": 206
        },
        "id": "3JuD9VksiqdJ",
        "outputId": "2bca9fc4-2866-4e59-dc2a-6b4cab7d9c52",
        "trusted": true
      },
      "outputs": [],
      "execution_count": null
    },
    {
      "cell_type": "markdown",
      "source": "SQLITE\n\n```sql\nSELECT CAST(strftime('%Y', REPORT_DATE) AS INTEGER) AS YEAR,\n       CAST(strftime('%m', REPORT_DATE) AS INTEGER ) AS MONTH,\n       SUM(RAIN) AS TOTAL_RAIN\nFROM WEATHER_MONITOR\nWHERE YEAR = 2021\nGROUP BY YEAR, MONTH\n```\n\n\n\nORACLE SQL\n\n```sql\nSELECT\n    TO_NUMBER(TO_CHAR(REPORT_DATE, 'YYYY')) AS YEAR,\n    TO_NUMBER(TO_CHAR(REPORT_DATE, 'MM')) AS MONTH,\n    SUM(RAIN) AS TOTAL_RAIN\nFROM\n    WEATHER_MONITOR\nWHERE\n    EXTRACT(YEAR FROM REPORT_DATE) = 2021\nGROUP BY\n    TO_NUMBER(TO_CHAR(REPORT_DATE, 'YYYY')),\n    TO_NUMBER(TO_CHAR(REPORT_DATE, 'MM'));\n```\n\nSQL SERVER (T-SQL)\n\n```sql\nSELECT\n    YEAR(REPORT_DATE) AS YEAR,\n    MONTH(REPORT_DATE) AS MONTH,\n    SUM(RAIN) AS TOTAL_RAIN\nFROM\n    WEATHER_MONITOR\nWHERE\n    YEAR(REPORT_DATE) = 2021\nGROUP BY\n    YEAR(REPORT_DATE), MONTH(REPORT_DATE);\n```",
      "metadata": {
        "id": "fHDL-ySijhCb"
      }
    },
    {
      "cell_type": "markdown",
      "source": "* On veut diviser TOTAL_RAIN  en deux colonnes, une  quand  TORNADO = 1  et une autre  pour  TORNADO = 0. Quel est le problème ici ?\n\n| | ANNÉE | MOIS | TOTAL_TORNADO_RAIN | TOTAL_NON_TORNADO_RAIN |\n|---:|-------:|--------:|---------------------:|-------------------------:|\n|  0 |   2021 |       2 |                15.22 |                    15.22 |\n|  1 |   2021 |       3 |                24.92 |                    24.92 |\n|  2 |   2021 |       4 |                 9.87 |                     9.87 |\n|  3 |   2021 |       5 |                19.88 |                    19.88 |\n",
      "metadata": {
        "id": "jLYrEPuvlf0z"
      }
    },
    {
      "cell_type": "code",
      "source": "%%sql\n--by Kenza\nSELECT CAST(strftime('%Y', REPORT_DATE) AS INTEGER) AS YEAR,\n       CAST(strftime('%m', REPORT_DATE) AS INTEGER ) AS MONTH,\n       tornado,\n       round(SUM(RAIN),2) AS TOTAL_RAIN\nFROM WEATHER_MONITOR\nWHERE YEAR = 2021\nGROUP BY YEAR, MONTH, tornado",
      "metadata": {
        "colab": {
          "base_uri": "https://localhost:8080/",
          "height": 267
        },
        "id": "mfaMmkjCmshQ",
        "outputId": "f60092a0-d237-48d2-913d-1c5cf83e9bac",
        "trusted": true
      },
      "outputs": [],
      "execution_count": null
    },
    {
      "cell_type": "code",
      "source": "sql = \"\"\"\n---le filtre s'applique aux deux colonnes\nSELECT CAST(strftime('%Y', REPORT_DATE) AS INTEGER) AS YEAR,\n       CAST(strftime('%m', REPORT_DATE) AS INTEGER ) AS MONTH,\n       SUM(RAIN) AS TOTALTORNADO_RAIN,\n       SUM(RAIN) AS TOTAL_NON_TORNADO_RAIN\nFROM WEATHER_MONITOR\nWHERE TORNADO =0 AND YEAR = 2021\nGROUP BY YEAR, MONTH\n\"\"\"\npd.read_sql(sql,conn)",
      "metadata": {
        "colab": {
          "base_uri": "https://localhost:8080/",
          "height": 206
        },
        "id": "sjpMaplNjHHC",
        "outputId": "20e6d315-d962-4580-84c5-ddefe4889e1c",
        "trusted": true
      },
      "outputs": [],
      "execution_count": null
    },
    {
      "cell_type": "code",
      "source": "sql = \"\"\"\n--Solution AVEC CASE\nSELECT CAST(strftime('%Y', REPORT_DATE) AS INTEGER) AS YEAR,\n       CAST(strftime('%m', REPORT_DATE) AS INTEGER ) AS MONTH,\n       SUM( CASE WHEN TORNADO = 1 THEN RAIN ELSE 0 END ) AS TOTALTORNADO_RAIN,\n       SUM( CASE WHEN TORNADO = 0 THEN RAIN ELSE 0 END ) AS TOTAL_NON_TORNADO_RAIN\nFROM WEATHER_MONITOR\nWHERE YEAR = 2021\nGROUP BY YEAR, MONTH\n\"\"\"\npd.read_sql(sql,conn)",
      "metadata": {
        "colab": {
          "base_uri": "https://localhost:8080/",
          "height": 206
        },
        "id": "g2p5dyl1nsB7",
        "outputId": "1305853b-ee11-4318-e27d-a1292fd1f41c",
        "trusted": true
      },
      "outputs": [],
      "execution_count": null
    },
    {
      "cell_type": "markdown",
      "source": "Cependant, un 0 pour la condition fausse peut être problématique pour d'autres opérations d'agrégation comme MIN, MAX et AVG et COUNT car cela affectera ces calculs contrairement à SUM. Vous pouvez plutôt utiliser NULL car il sera ignoré par tous les opérateurs d'agrégation, y compris SUM.",
      "metadata": {
        "id": "X5cr2PYoqFVC"
      }
    },
    {
      "cell_type": "code",
      "source": "sql = \"\"\"\n--Solution AVEC CASE et NULL\nSELECT CAST(strftime('%Y', REPORT_DATE) AS INTEGER) AS YEAR,\n       CAST(strftime('%m', REPORT_DATE) AS INTEGER ) AS MONTH,\n       SUM( CASE WHEN TORNADO = 1 THEN RAIN ELSE NULL END ) AS TOTALTORNADO_RAIN,\n       SUM( CASE WHEN TORNADO = 0 THEN RAIN ELSE NULL END ) AS TOTAL_NON_TORNADO_RAIN\nFROM WEATHER_MONITOR\nWHERE YEAR = 2021\nGROUP BY YEAR, MONTH\n\"\"\"\npd.read_sql(sql,conn)",
      "metadata": {
        "colab": {
          "base_uri": "https://localhost:8080/",
          "height": 206
        },
        "id": "DW1ibihYqErs",
        "outputId": "dac542ca-8572-47a1-fa95-4af64e603f4c",
        "trusted": true
      },
      "outputs": [],
      "execution_count": null
    },
    {
      "cell_type": "markdown",
      "source": "```sql\n--T sql\nSELECT\n    YEAR(REPORT_DATE) AS YEAR,\n    MONTH(REPORT_DATE) AS MONTH,\n    SUM(CASE WHEN TORNADO = 1 THEN RAIN ELSE 0 END) AS TOTALTORNADO_RAIN,\n    SUM(CASE WHEN TORNADO = 0 THEN RAIN ELSE 0 END) AS TOTAL_NON_TORNADO_RAIN\nFROM\n    WEATHER_MONITOR\nWHERE\n    YEAR(REPORT_DATE) = 2021\nGROUP BY\n    YEAR(REPORT_DATE), MONTH(REPORT_DATE);\n\n```",
      "metadata": {
        "id": "EL9x2r0ArWyl"
      }
    },
    {
      "cell_type": "markdown",
      "source": "# EXERCICE\nPour chaque LOCATION_ID, calculez la pluie totale de l'année précédente **PY_RAIN** (2020) et la pluie totale de l'année en cours **CY_RAIN** (2021).\n\n\n* Ceci est le résultat pour les 5 premières lignes\n\n| | LOCATION_ID | CY_RAIN | PY_RAIN |\n|---:|--------------:|----------:|----------:|\n|  0 |             0 |     18.99 |     24.72 |\n|  1 |             1 |     22.51 |     45.02 |\n|  2 |             2 |     30.72 |     16.04 |\n|  3 |             3 |     15.57 |     22.8  |\n|  4 |             4 |     30.17 |     30.15 |\n|  5 |             5 |     40.71 |      7.92 |",
      "metadata": {
        "id": "E8dFwO9Pr8yU"
      }
    },
    {
      "cell_type": "code",
      "source": "# by SYLVIE\nsql = \"\"\"\nSELECT\n  LOCATION_ID,\n  ROUND(SUM(CASE WHEN strftime('%Y', REPORT_DATE) = '2021' THEN RAIN ELSE NULL END), 2) AS CY_RAIN,\n  ROUND(SUM(CASE WHEN strftime('%Y', REPORT_DATE) = '2020' THEN RAIN ELSE NULL END), 2) AS PY_RAIN\nFROM WEATHER_MONITOR\nGROUP BY LOCATION_ID\nORDER BY LOCATION_ID\nLIMIT 6\"\"\"\npd.read_sql(sql,conn)",
      "metadata": {
        "colab": {
          "base_uri": "https://localhost:8080/",
          "height": 237
        },
        "id": "_esJxHl3pJF8",
        "outputId": "3492e09b-5db7-4da1-e24c-96b10a093967",
        "trusted": true
      },
      "outputs": [],
      "execution_count": null
    },
    {
      "cell_type": "code",
      "source": "# by KENZA\nsql = \"\"\"\nSELECT LOCATION_ID,\n       SUM( CASE WHEN CAST(strftime('%Y', REPORT_DATE) AS INTEGER) = 2021 THEN RAIN ELSE null END ) AS PY_RAIN,\n       SUM( CASE WHEN CAST(strftime('%Y', REPORT_DATE) AS INTEGER) = 2020 THEN RAIN ELSE null END ) AS CY_RAIN\nFROM WEATHER_MONITOR\nGROUP BY LOCATION_ID\nLIMIT 6\n\"\"\"\npd.read_sql(sql,conn)",
      "metadata": {
        "colab": {
          "base_uri": "https://localhost:8080/",
          "height": 237
        },
        "id": "0yySf4x1vPEV",
        "outputId": "bd032d46-7f77-40d4-e427-34998a500770",
        "trusted": true
      },
      "outputs": [],
      "execution_count": null
    },
    {
      "cell_type": "code",
      "source": "",
      "metadata": {
        "id": "84NtyAjGwJyP",
        "trusted": true
      },
      "outputs": [],
      "execution_count": null
    }
  ]
}