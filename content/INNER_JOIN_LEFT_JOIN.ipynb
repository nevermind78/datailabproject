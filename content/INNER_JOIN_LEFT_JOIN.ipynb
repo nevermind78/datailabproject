{
  "metadata": {
    "kernelspec": {
      "name": "python",
      "display_name": "Python (Pyodide)",
      "language": "python"
    },
    "language_info": {
      "codemirror_mode": {
        "name": "python",
        "version": 3
      },
      "file_extension": ".py",
      "mimetype": "text/x-python",
      "name": "python",
      "nbconvert_exporter": "python",
      "pygments_lexer": "ipython3",
      "version": "3.8"
    },
    "colab": {
      "provenance": [],
      "toc_visible": true
    }
  },
  "nbformat_minor": 4,
  "nbformat": 4,
  "cells": [
    {
      "cell_type": "markdown",
      "source": "<div style=\"\n    color: red; \n    border: 2px solid black; \n    border-radius: 15px; \n    padding: 8px; \n    font-size: 24px; \n    font-weight: bold; \n    text-align: center; \n    margin: 20px 0;\">\n    <div style=\"\n        border: 2px solid red; \n        border-radius: 10px; \n        padding: 10px;\">\n        <img src=\"https://kajabi-storefronts-production.kajabi-cdn.com/kajabi-storefronts-production/file-uploads/themes/2155698250/settings_images/dd1ab6f-208-d4e5-d187-483a245d87_logo_header_Datailab.png\" alt=\"Datailab Logo\" style=\"max-width: 100%; height: auto;\">\n        <h2 style=\"color: black; margin-top: 10px;\">SQL , INNER , LEFT JOIN </h2>\n    </div>\n</div>",
      "metadata": {}
    },
    {
      "cell_type": "markdown",
      "source": "# INNER JOIN & LEFT JOIN\n\n> La fonctionnalité la plus déterminante de SQL est sans doute la jointure, car c’est pour cela que les bases de données relationnelles sont réellement conçues. Bien qu'il existe plusieurs types de jointure, aucun n'est aussi couramment utilisé que le INNER JOIN et LEFT JOIN. Nous couvrirons ces deux opérateurs dans cette section.",
      "metadata": {
        "id": "TBYDwHsUw25R"
      }
    },
    {
      "cell_type": "markdown",
      "source": "# SET UP",
      "metadata": {
        "id": "Ic-DHLq-xI6h"
      }
    },
    {
      "cell_type": "code",
      "source": "%pip install -q ipywidgets pandas matplotlib sqlite3",
      "metadata": {
        "id": "d1o8XaiKw6ad",
        "trusted": true
      },
      "outputs": [],
      "execution_count": 1
    },
    {
      "cell_type": "code",
      "source": "import sqlite3\nimport pandas as pd",
      "metadata": {
        "id": "h8Hcq1cPxMU8",
        "trusted": true
      },
      "outputs": [],
      "execution_count": 2
    },
    {
      "cell_type": "code",
      "source": "conn = sqlite3.connect('data/company_operations.db')",
      "metadata": {
        "id": "CO201F9xxPsA",
        "trusted": true
      },
      "outputs": [],
      "execution_count": 3
    },
    {
      "cell_type": "markdown",
      "source": "# Clés primaires et étrangères\n\n* Afficher les 5 première ligne de `CUSTOMER`et `CUSTOMER_ORDER`. Qu'est-ce qu'ils ont en commun?",
      "metadata": {
        "id": "a04EnoMQxYOP"
      }
    },
    {
      "cell_type": "code",
      "source": "sql=\"\"\"\nSELECT * FROM CUSTOMER\nLIMIT 5\"\"\"\npd.read_sql(sql,conn)\n",
      "metadata": {
        "colab": {
          "base_uri": "https://localhost:8080/",
          "height": 206
        },
        "id": "EtsMq4ZVxR3E",
        "outputId": "801a0a6c-73db-4036-95cc-733338192b14",
        "trusted": true
      },
      "outputs": [
        {
          "execution_count": 4,
          "output_type": "execute_result",
          "data": {
            "text/plain": "   CUSTOMER_ID         CUSTOMER_NAME              ADDRESS        CITY STATE  \\\n0            1         Alpha Medical       18745 Train Dr      Dallas    TX   \n1            2        Oak Cliff Base       2379 Cliff Ave    Abbevile    LA   \n2            3      Sports Unlimited      1605 Station Dr  Alexandrai    LA   \n3            4  Riley Sporting Goods    9854 Firefly Blvd      Austin    TX   \n4            5       Lite Industrial  462 Roadrunner Blvd     Houston    TX   \n\n     ZIP    CATEGORY  \n0  75021  INDUSTRIAL  \n1  70510  GOVERNMENT  \n2  71301  COMMERCIAL  \n3  78701  COMMERCIAL  \n4  77254  INDUSTRIAL  ",
            "text/html": "<div>\n<style scoped>\n    .dataframe tbody tr th:only-of-type {\n        vertical-align: middle;\n    }\n\n    .dataframe tbody tr th {\n        vertical-align: top;\n    }\n\n    .dataframe thead th {\n        text-align: right;\n    }\n</style>\n<table border=\"1\" class=\"dataframe\">\n  <thead>\n    <tr style=\"text-align: right;\">\n      <th></th>\n      <th>CUSTOMER_ID</th>\n      <th>CUSTOMER_NAME</th>\n      <th>ADDRESS</th>\n      <th>CITY</th>\n      <th>STATE</th>\n      <th>ZIP</th>\n      <th>CATEGORY</th>\n    </tr>\n  </thead>\n  <tbody>\n    <tr>\n      <th>0</th>\n      <td>1</td>\n      <td>Alpha Medical</td>\n      <td>18745 Train Dr</td>\n      <td>Dallas</td>\n      <td>TX</td>\n      <td>75021</td>\n      <td>INDUSTRIAL</td>\n    </tr>\n    <tr>\n      <th>1</th>\n      <td>2</td>\n      <td>Oak Cliff Base</td>\n      <td>2379 Cliff Ave</td>\n      <td>Abbevile</td>\n      <td>LA</td>\n      <td>70510</td>\n      <td>GOVERNMENT</td>\n    </tr>\n    <tr>\n      <th>2</th>\n      <td>3</td>\n      <td>Sports Unlimited</td>\n      <td>1605 Station Dr</td>\n      <td>Alexandrai</td>\n      <td>LA</td>\n      <td>71301</td>\n      <td>COMMERCIAL</td>\n    </tr>\n    <tr>\n      <th>3</th>\n      <td>4</td>\n      <td>Riley Sporting Goods</td>\n      <td>9854 Firefly Blvd</td>\n      <td>Austin</td>\n      <td>TX</td>\n      <td>78701</td>\n      <td>COMMERCIAL</td>\n    </tr>\n    <tr>\n      <th>4</th>\n      <td>5</td>\n      <td>Lite Industrial</td>\n      <td>462 Roadrunner Blvd</td>\n      <td>Houston</td>\n      <td>TX</td>\n      <td>77254</td>\n      <td>INDUSTRIAL</td>\n    </tr>\n  </tbody>\n</table>\n</div>"
          },
          "metadata": {}
        }
      ],
      "execution_count": 4
    },
    {
      "cell_type": "code",
      "source": "sql=\"\"\"\nSELECT * FROM CUSTOMER_ORDER\nLIMIT 5\"\"\"\npd.read_sql(sql,conn)",
      "metadata": {
        "colab": {
          "base_uri": "https://localhost:8080/",
          "height": 206
        },
        "id": "9Evkrnkt08F_",
        "outputId": "8643815d-e574-42b4-8d31-704e0fa2429e",
        "trusted": true
      },
      "outputs": [
        {
          "execution_count": 5,
          "output_type": "execute_result",
          "data": {
            "text/plain": "   CUSTOMER_ORDER_ID  CUSTOMER_ID  ORDER_DATE  PRODUCT_ID  QUANTITY  RUSH_SHIP\n0                  1            9  2021-01-01           7        20          0\n1                  2            5  2021-01-01          15       110          0\n2                  3            3  2021-01-01           4       120          0\n3                  4            6  2021-01-01           7       200          0\n4                  5            2  2021-01-01           3        60          0",
            "text/html": "<div>\n<style scoped>\n    .dataframe tbody tr th:only-of-type {\n        vertical-align: middle;\n    }\n\n    .dataframe tbody tr th {\n        vertical-align: top;\n    }\n\n    .dataframe thead th {\n        text-align: right;\n    }\n</style>\n<table border=\"1\" class=\"dataframe\">\n  <thead>\n    <tr style=\"text-align: right;\">\n      <th></th>\n      <th>CUSTOMER_ORDER_ID</th>\n      <th>CUSTOMER_ID</th>\n      <th>ORDER_DATE</th>\n      <th>PRODUCT_ID</th>\n      <th>QUANTITY</th>\n      <th>RUSH_SHIP</th>\n    </tr>\n  </thead>\n  <tbody>\n    <tr>\n      <th>0</th>\n      <td>1</td>\n      <td>9</td>\n      <td>2021-01-01</td>\n      <td>7</td>\n      <td>20</td>\n      <td>0</td>\n    </tr>\n    <tr>\n      <th>1</th>\n      <td>2</td>\n      <td>5</td>\n      <td>2021-01-01</td>\n      <td>15</td>\n      <td>110</td>\n      <td>0</td>\n    </tr>\n    <tr>\n      <th>2</th>\n      <td>3</td>\n      <td>3</td>\n      <td>2021-01-01</td>\n      <td>4</td>\n      <td>120</td>\n      <td>0</td>\n    </tr>\n    <tr>\n      <th>3</th>\n      <td>4</td>\n      <td>6</td>\n      <td>2021-01-01</td>\n      <td>7</td>\n      <td>200</td>\n      <td>0</td>\n    </tr>\n    <tr>\n      <th>4</th>\n      <td>5</td>\n      <td>2</td>\n      <td>2021-01-01</td>\n      <td>3</td>\n      <td>60</td>\n      <td>0</td>\n    </tr>\n  </tbody>\n</table>\n</div>"
          },
          "metadata": {}
        }
      ],
      "execution_count": 5
    },
    {
      "cell_type": "markdown",
      "source": "Les deux tables ont une colonne CUSTOMER_ID, et vous pouvez probablement déduire ce qu'elle représente pour chaque table. La table CUSTOMER a un CUSTOMER_ID unique attribué à chaque enregistrement client. Mais dans la table CUSTOMER_ORDER, il est utilisé pour attribuer une commande à un CLIENT donné, en utilisant ce CUSTOMER_ID.\n\nCela fait de la table CUSTOMER la table parente avec le CUSTOMER_ID comme clé primaire. La table CUSTOMER_ORDER est la table enfant avec le CUSTOMER_ID comme clé étrangère. Vous pouvez le considérer comme la table parente fournissant des données à la table enfant, via la clé primaire vers la clé étrangère.\n\nLa clé primaire ne peut pas avoir de valeurs en double, ce qui a du sens car aucun deux clients ne devraient avoir le même CUSTOMER_ID. Cependant, il peut y avoir plusieurs instances d'une valeur dans une colonne de clé étrangère, car un client donné peut avoir plusieurs commandes. Il s'agit d'une relation classique un-à-plusieurs.\n\nCes relations sont conçues pour être jointes, et constituent un cas d'utilisation fondamental pour les INNER JOIN et LEFT JOIN.",
      "metadata": {
        "id": "ZQITxG8-2BL4"
      }
    },
    {
      "cell_type": "markdown",
      "source": "# INNER JOIN",
      "metadata": {
        "id": "adesIcI12czL"
      }
    },
    {
      "cell_type": "markdown",
      "source": "La jointure INTERNE (INNER JOIN) est le type de jointure le plus courant en SQL. Elle assemble deux tables ou plus sur une ou plusieurs colonnes. Dans notre exemple, il serait utile de rendre nos enregistrements CUSTOMER_ORDER plus descriptifs en intégrant les informations sur les CLIENTS aux côtés de chaque enregistrement CUSTOMER_ORDER. Une jointure INTERNE peut accomplir cela comme illustré ci-dessous.",
      "metadata": {
        "id": "lIawYxmO2q1q"
      }
    },
    {
      "cell_type": "code",
      "source": "sql=\"\"\"\nSELECT\nCUSTOMER_ORDER_ID,\nCUSTOMER.CUSTOMER_ID,\nCUSTOMER_NAME,\nADDRESS,\nCITY,\nSTATE,\nZIP,\nORDER_DATE,\nPRODUCT_ID,\nQUANTITY\nFROM CUSTOMER INNER JOIN CUSTOMER_ORDER\nON CUSTOMER.CUSTOMER_ID = CUSTOMER_ORDER.CUSTOMER_ID\nLIMIT 7\"\"\"\npd.read_sql(sql,conn)",
      "metadata": {
        "colab": {
          "base_uri": "https://localhost:8080/",
          "height": 423
        },
        "id": "-_NTKzwi1EyE",
        "outputId": "9ebcdce1-7778-43e3-e644-ff98a478af65",
        "trusted": true
      },
      "outputs": [
        {
          "execution_count": 6,
          "output_type": "execute_result",
          "data": {
            "text/plain": "   CUSTOMER_ORDER_ID  CUSTOMER_ID          CUSTOMER_NAME              ADDRESS  \\\n0                  1            9          Dent Research          392 45th St   \n1                  2            5        Lite Industrial  462 Roadrunner Blvd   \n2                  3            3       Sports Unlimited      1605 Station Dr   \n3                  4            6  Prairie Sports Center      689 Stadium Way   \n4                  5            2         Oak Cliff Base       2379 Cliff Ave   \n5                  6           10        Gamma Solutions         2752 27th St   \n6                  7            7            Facility 95       2396 Runway Dr   \n\n            CITY STATE    ZIP  ORDER_DATE  PRODUCT_ID  QUANTITY  \n0           Waco    TX  76700  2021-01-01           7        20  \n1        Houston    TX  77254  2021-01-01          15       110  \n2     Alexandrai    LA  71301  2021-01-01           4       120  \n3          Tulsa    OK  74101  2021-01-01           7       200  \n4       Abbevile    LA  70510  2021-01-01           3        60  \n5        Phoenix    AZ  85001  2021-01-01          15       140  \n6  Oklahoma City    OK  73101  2021-01-01           4       150  ",
            "text/html": "<div>\n<style scoped>\n    .dataframe tbody tr th:only-of-type {\n        vertical-align: middle;\n    }\n\n    .dataframe tbody tr th {\n        vertical-align: top;\n    }\n\n    .dataframe thead th {\n        text-align: right;\n    }\n</style>\n<table border=\"1\" class=\"dataframe\">\n  <thead>\n    <tr style=\"text-align: right;\">\n      <th></th>\n      <th>CUSTOMER_ORDER_ID</th>\n      <th>CUSTOMER_ID</th>\n      <th>CUSTOMER_NAME</th>\n      <th>ADDRESS</th>\n      <th>CITY</th>\n      <th>STATE</th>\n      <th>ZIP</th>\n      <th>ORDER_DATE</th>\n      <th>PRODUCT_ID</th>\n      <th>QUANTITY</th>\n    </tr>\n  </thead>\n  <tbody>\n    <tr>\n      <th>0</th>\n      <td>1</td>\n      <td>9</td>\n      <td>Dent Research</td>\n      <td>392 45th St</td>\n      <td>Waco</td>\n      <td>TX</td>\n      <td>76700</td>\n      <td>2021-01-01</td>\n      <td>7</td>\n      <td>20</td>\n    </tr>\n    <tr>\n      <th>1</th>\n      <td>2</td>\n      <td>5</td>\n      <td>Lite Industrial</td>\n      <td>462 Roadrunner Blvd</td>\n      <td>Houston</td>\n      <td>TX</td>\n      <td>77254</td>\n      <td>2021-01-01</td>\n      <td>15</td>\n      <td>110</td>\n    </tr>\n    <tr>\n      <th>2</th>\n      <td>3</td>\n      <td>3</td>\n      <td>Sports Unlimited</td>\n      <td>1605 Station Dr</td>\n      <td>Alexandrai</td>\n      <td>LA</td>\n      <td>71301</td>\n      <td>2021-01-01</td>\n      <td>4</td>\n      <td>120</td>\n    </tr>\n    <tr>\n      <th>3</th>\n      <td>4</td>\n      <td>6</td>\n      <td>Prairie Sports Center</td>\n      <td>689 Stadium Way</td>\n      <td>Tulsa</td>\n      <td>OK</td>\n      <td>74101</td>\n      <td>2021-01-01</td>\n      <td>7</td>\n      <td>200</td>\n    </tr>\n    <tr>\n      <th>4</th>\n      <td>5</td>\n      <td>2</td>\n      <td>Oak Cliff Base</td>\n      <td>2379 Cliff Ave</td>\n      <td>Abbevile</td>\n      <td>LA</td>\n      <td>70510</td>\n      <td>2021-01-01</td>\n      <td>3</td>\n      <td>60</td>\n    </tr>\n    <tr>\n      <th>5</th>\n      <td>6</td>\n      <td>10</td>\n      <td>Gamma Solutions</td>\n      <td>2752 27th St</td>\n      <td>Phoenix</td>\n      <td>AZ</td>\n      <td>85001</td>\n      <td>2021-01-01</td>\n      <td>15</td>\n      <td>140</td>\n    </tr>\n    <tr>\n      <th>6</th>\n      <td>7</td>\n      <td>7</td>\n      <td>Facility 95</td>\n      <td>2396 Runway Dr</td>\n      <td>Oklahoma City</td>\n      <td>OK</td>\n      <td>73101</td>\n      <td>2021-01-01</td>\n      <td>4</td>\n      <td>150</td>\n    </tr>\n  </tbody>\n</table>\n</div>"
          },
          "metadata": {}
        }
      ],
      "execution_count": 6
    },
    {
      "cell_type": "markdown",
      "source": "*  INNER JOIN AVEC LA CLAUSE WHERE",
      "metadata": {
        "id": "lEBtABD46QcZ"
      }
    },
    {
      "cell_type": "code",
      "source": "sql=\"\"\"\nSELECT\nCUSTOMER_ORDER_ID,\nCUSTOMER.CUSTOMER_ID,\nCUSTOMER_NAME,\nADDRESS,\nCITY,\nSTATE,\nZIP,\nORDER_DATE,\nPRODUCT_ID,\nQUANTITY\nFROM CUSTOMER , CUSTOMER_ORDER\nWHERE CUSTOMER.CUSTOMER_ID = CUSTOMER_ORDER.CUSTOMER_ID\nLIMIT 5\"\"\"\npd.read_sql(sql,conn)",
      "metadata": {
        "colab": {
          "base_uri": "https://localhost:8080/",
          "height": 181
        },
        "id": "4Qjb2PIE5ezF",
        "outputId": "df030cca-f01f-44b3-8329-e009c9aaf685",
        "trusted": true
      },
      "outputs": [
        {
          "execution_count": 7,
          "output_type": "execute_result",
          "data": {
            "text/plain": "   CUSTOMER_ORDER_ID  CUSTOMER_ID          CUSTOMER_NAME              ADDRESS  \\\n0                  1            9          Dent Research          392 45th St   \n1                  2            5        Lite Industrial  462 Roadrunner Blvd   \n2                  3            3       Sports Unlimited      1605 Station Dr   \n3                  4            6  Prairie Sports Center      689 Stadium Way   \n4                  5            2         Oak Cliff Base       2379 Cliff Ave   \n\n         CITY STATE    ZIP  ORDER_DATE  PRODUCT_ID  QUANTITY  \n0        Waco    TX  76700  2021-01-01           7        20  \n1     Houston    TX  77254  2021-01-01          15       110  \n2  Alexandrai    LA  71301  2021-01-01           4       120  \n3       Tulsa    OK  74101  2021-01-01           7       200  \n4    Abbevile    LA  70510  2021-01-01           3        60  ",
            "text/html": "<div>\n<style scoped>\n    .dataframe tbody tr th:only-of-type {\n        vertical-align: middle;\n    }\n\n    .dataframe tbody tr th {\n        vertical-align: top;\n    }\n\n    .dataframe thead th {\n        text-align: right;\n    }\n</style>\n<table border=\"1\" class=\"dataframe\">\n  <thead>\n    <tr style=\"text-align: right;\">\n      <th></th>\n      <th>CUSTOMER_ORDER_ID</th>\n      <th>CUSTOMER_ID</th>\n      <th>CUSTOMER_NAME</th>\n      <th>ADDRESS</th>\n      <th>CITY</th>\n      <th>STATE</th>\n      <th>ZIP</th>\n      <th>ORDER_DATE</th>\n      <th>PRODUCT_ID</th>\n      <th>QUANTITY</th>\n    </tr>\n  </thead>\n  <tbody>\n    <tr>\n      <th>0</th>\n      <td>1</td>\n      <td>9</td>\n      <td>Dent Research</td>\n      <td>392 45th St</td>\n      <td>Waco</td>\n      <td>TX</td>\n      <td>76700</td>\n      <td>2021-01-01</td>\n      <td>7</td>\n      <td>20</td>\n    </tr>\n    <tr>\n      <th>1</th>\n      <td>2</td>\n      <td>5</td>\n      <td>Lite Industrial</td>\n      <td>462 Roadrunner Blvd</td>\n      <td>Houston</td>\n      <td>TX</td>\n      <td>77254</td>\n      <td>2021-01-01</td>\n      <td>15</td>\n      <td>110</td>\n    </tr>\n    <tr>\n      <th>2</th>\n      <td>3</td>\n      <td>3</td>\n      <td>Sports Unlimited</td>\n      <td>1605 Station Dr</td>\n      <td>Alexandrai</td>\n      <td>LA</td>\n      <td>71301</td>\n      <td>2021-01-01</td>\n      <td>4</td>\n      <td>120</td>\n    </tr>\n    <tr>\n      <th>3</th>\n      <td>4</td>\n      <td>6</td>\n      <td>Prairie Sports Center</td>\n      <td>689 Stadium Way</td>\n      <td>Tulsa</td>\n      <td>OK</td>\n      <td>74101</td>\n      <td>2021-01-01</td>\n      <td>7</td>\n      <td>200</td>\n    </tr>\n    <tr>\n      <th>4</th>\n      <td>5</td>\n      <td>2</td>\n      <td>Oak Cliff Base</td>\n      <td>2379 Cliff Ave</td>\n      <td>Abbevile</td>\n      <td>LA</td>\n      <td>70510</td>\n      <td>2021-01-01</td>\n      <td>3</td>\n      <td>60</td>\n    </tr>\n  </tbody>\n</table>\n</div>"
          },
          "metadata": {}
        }
      ],
      "execution_count": 7
    },
    {
      "cell_type": "markdown",
      "source": "# LEFT JOIN\n\nQue se passe-t-il s'il existe des enregistrements CLIENT qui n'ont pas d'enregistrements CUSTOMER_ORDER ? Apparaissent-ils dans une jointure INTERNE ? Par exemple, \"Alpha Medical\" avec un CUSTOMER_ID de 1 n'a pas de commandes. Apparaît-il dans notre requête INNER JOIN ? Ajoutons une condition WHERE pour le découvrir.",
      "metadata": {
        "id": "ByT2hgKl7J88"
      }
    },
    {
      "cell_type": "code",
      "source": "sql=\"\"\"\nSELECT\nCUSTOMER_ORDER_ID,\nCUSTOMER.CUSTOMER_ID,\nCUSTOMER_NAME,\nADDRESS,\nCITY,\nSTATE,\nZIP,\nORDER_DATE,\nPRODUCT_ID,\nQUANTITY\nFROM CUSTOMER INNER JOIN CUSTOMER_ORDER\nON CUSTOMER.CUSTOMER_ID = CUSTOMER_ORDER.CUSTOMER_ID\nWHERE CUSTOMER.CUSTOMER_ID = 1\"\"\"\npd.read_sql(sql,conn)",
      "metadata": {
        "colab": {
          "base_uri": "https://localhost:8080/",
          "height": 76
        },
        "id": "TyRRUjeO6fkS",
        "outputId": "b3d7c5ee-d399-4a8e-8364-35aff088bbcc",
        "trusted": true
      },
      "outputs": [
        {
          "execution_count": 8,
          "output_type": "execute_result",
          "data": {
            "text/plain": "Empty DataFrame\nColumns: [CUSTOMER_ORDER_ID, CUSTOMER_ID, CUSTOMER_NAME, ADDRESS, CITY, STATE, ZIP, ORDER_DATE, PRODUCT_ID, QUANTITY]\nIndex: []",
            "text/html": "<div>\n<style scoped>\n    .dataframe tbody tr th:only-of-type {\n        vertical-align: middle;\n    }\n\n    .dataframe tbody tr th {\n        vertical-align: top;\n    }\n\n    .dataframe thead th {\n        text-align: right;\n    }\n</style>\n<table border=\"1\" class=\"dataframe\">\n  <thead>\n    <tr style=\"text-align: right;\">\n      <th></th>\n      <th>CUSTOMER_ORDER_ID</th>\n      <th>CUSTOMER_ID</th>\n      <th>CUSTOMER_NAME</th>\n      <th>ADDRESS</th>\n      <th>CITY</th>\n      <th>STATE</th>\n      <th>ZIP</th>\n      <th>ORDER_DATE</th>\n      <th>PRODUCT_ID</th>\n      <th>QUANTITY</th>\n    </tr>\n  </thead>\n  <tbody>\n  </tbody>\n</table>\n</div>"
          },
          "metadata": {}
        }
      ],
      "execution_count": 8
    },
    {
      "cell_type": "markdown",
      "source": "nous obtenons effectivement un résultat vide. Mais regardez ce qui se passe si nous modifions notre INNER JOIN en un LEFT JOIN (ou LEFT OUTER JOIN, qui sont tous deux des alias pour la même opération).",
      "metadata": {
        "id": "-7PRG9958a3G"
      }
    },
    {
      "cell_type": "code",
      "source": "sql=\"\"\"\nSELECT\nCUSTOMER_ORDER_ID,\nCUSTOMER.CUSTOMER_ID,\nCUSTOMER_NAME,\nADDRESS,\nCITY,\nSTATE,\nZIP,\nORDER_DATE,\nPRODUCT_ID,\nQUANTITY\nFROM CUSTOMER LEFT JOIN CUSTOMER_ORDER\nON CUSTOMER.CUSTOMER_ID = CUSTOMER_ORDER.CUSTOMER_ID\nWHERE CUSTOMER.CUSTOMER_ID = 1\n\"\"\"\npd.read_sql(sql,conn)",
      "metadata": {
        "colab": {
          "base_uri": "https://localhost:8080/",
          "height": 97
        },
        "id": "1pqUq1ou7y7B",
        "outputId": "9523d52a-6ac0-4aa5-bd36-2fb60c9fcb4d",
        "trusted": true
      },
      "outputs": [
        {
          "execution_count": 9,
          "output_type": "execute_result",
          "data": {
            "text/plain": "  CUSTOMER_ORDER_ID  CUSTOMER_ID  CUSTOMER_NAME         ADDRESS    CITY STATE  \\\n0              None            1  Alpha Medical  18745 Train Dr  Dallas    TX   \n\n     ZIP ORDER_DATE PRODUCT_ID QUANTITY  \n0  75021       None       None     None  ",
            "text/html": "<div>\n<style scoped>\n    .dataframe tbody tr th:only-of-type {\n        vertical-align: middle;\n    }\n\n    .dataframe tbody tr th {\n        vertical-align: top;\n    }\n\n    .dataframe thead th {\n        text-align: right;\n    }\n</style>\n<table border=\"1\" class=\"dataframe\">\n  <thead>\n    <tr style=\"text-align: right;\">\n      <th></th>\n      <th>CUSTOMER_ORDER_ID</th>\n      <th>CUSTOMER_ID</th>\n      <th>CUSTOMER_NAME</th>\n      <th>ADDRESS</th>\n      <th>CITY</th>\n      <th>STATE</th>\n      <th>ZIP</th>\n      <th>ORDER_DATE</th>\n      <th>PRODUCT_ID</th>\n      <th>QUANTITY</th>\n    </tr>\n  </thead>\n  <tbody>\n    <tr>\n      <th>0</th>\n      <td>None</td>\n      <td>1</td>\n      <td>Alpha Medical</td>\n      <td>18745 Train Dr</td>\n      <td>Dallas</td>\n      <td>TX</td>\n      <td>75021</td>\n      <td>None</td>\n      <td>None</td>\n      <td>None</td>\n    </tr>\n  </tbody>\n</table>\n</div>"
          },
          "metadata": {}
        }
      ],
      "execution_count": 9
    },
    {
      "cell_type": "markdown",
      "source": "Remarquez comment \"Alpha Medical\" apparaît maintenant avec un enregistrement fictif même s'il n'avait aucun enregistrement CUSTOMER_ORDER. Tous ses champs CUSTOMER_ORDER sont NULL (ce que Pandas affiche comme None) car il n'y avait pas d'enregistrements CUSTOMER_ORDER pour effectuer la jointure et remplir ces informations. Cependant, le LEFT JOIN a ajouté cet enregistrement fictif pour \"Alpha Medical\".\n\nEn d'autres termes, le LEFT JOIN inclut tous les enregistrements de la table \"left\" même s'il n'y a pas d'enregistrements à joindre dans la table \"right\". Par \"left\", je veux dire la table littéralement spécifiée à gauche de l'opérateur LEFT JOIN. Cela signifie que l'ordre dans lequel vous déclarez les tables dans votre FROM est important avec un LEFT JOIN.\n\n> Il existe également un opérateur RIGHT JOIN ou RIGHT OUTER JOIN, qui inverse la direction et inclut tous les enregistrements de la table RIGHT même s'il n'y en a aucun à joindre dans la table LEFT. Cependant, il est rarement utilisé car ce qui peut être fait avec un RIGHT JOIN peut également être réalisé avec un LEFT JOIN. Il existe également un FULL OUTER JOIN qui inclut tous les enregistrements dans les deux directions, mais il est également rarement utilisé. En fait, SQLite ne prend pas en charge le RIGHT JOIN ou le FULL OUTER JOIN pour cette raison.\n\n\n\n\n\n\n",
      "metadata": {
        "id": "pyzBSpxq9QCN"
      }
    },
    {
      "cell_type": "markdown",
      "source": "Comme nous le verrons, cela peut être utile pour créer des rapports ultérieurement, car nous souhaitons probablement inclure des clients qui n'ont aucune commande. Un autre cas d'utilisation courant du LEFT JOIN est de trouver des enregistrements parent qui n'ont pas d'enfants, tels que des enregistrements CLIENT qui n'ont pas d'enregistrements CUSTOMER_ORDER. Nous pouvons le faire en qualifiant tous les champs CUSTOMER_ORDER pour qu'ils soient nuls, alors qu'ils ne sont normalement pas nuls mais deviennent nuls en conséquence du LEFT JOIN.",
      "metadata": {
        "id": "uwdpRkGW97Ha"
      }
    },
    {
      "cell_type": "markdown",
      "source": "* La liste des ID clients , noms des clients qui n'ont pas passé de commandes ?\n\n|    |   CUSTOMER_ID | CUSTOMER_NAME   |\n|---:|--------------:|:----------------|\n|  0 |             1 | Alpha Medical   |",
      "metadata": {
        "id": "rZR6O0Bm-C89"
      }
    },
    {
      "cell_type": "code",
      "source": "sql = \"\"\"\nSELECT\n      CUSTOMER.CUSTOMER_ID,\n      CUSTOMER_NAME\nFROM CUSTOMER\nLEFT JOIN CUSTOMER_ORDER\nON CUSTOMER.CUSTOMER_ID = CUSTOMER_ORDER.CUSTOMER_ID\nWHERE CUSTOMER_ORDER.CUSTOMER_ID IS NULL \"\"\"\npd.read_sql(sql,conn)",
      "metadata": {
        "colab": {
          "base_uri": "https://localhost:8080/",
          "height": 81
        },
        "id": "joc1oyOT8z7E",
        "outputId": "89ed9baa-e1b7-4489-926e-710f34155103",
        "trusted": true
      },
      "outputs": [
        {
          "execution_count": 10,
          "output_type": "execute_result",
          "data": {
            "text/plain": "   CUSTOMER_ID  CUSTOMER_NAME\n0            1  Alpha Medical",
            "text/html": "<div>\n<style scoped>\n    .dataframe tbody tr th:only-of-type {\n        vertical-align: middle;\n    }\n\n    .dataframe tbody tr th {\n        vertical-align: top;\n    }\n\n    .dataframe thead th {\n        text-align: right;\n    }\n</style>\n<table border=\"1\" class=\"dataframe\">\n  <thead>\n    <tr style=\"text-align: right;\">\n      <th></th>\n      <th>CUSTOMER_ID</th>\n      <th>CUSTOMER_NAME</th>\n    </tr>\n  </thead>\n  <tbody>\n    <tr>\n      <th>0</th>\n      <td>1</td>\n      <td>Alpha Medical</td>\n    </tr>\n  </tbody>\n</table>\n</div>"
          },
          "metadata": {}
        }
      ],
      "execution_count": 10
    },
    {
      "cell_type": "markdown",
      "source": "# JOINTURE de plusieurs tables",
      "metadata": {
        "id": "ez5VsdCM_x9v"
      }
    },
    {
      "cell_type": "markdown",
      "source": "Que se passerait-il si nous voulions ajouter les informations sur les PRODUITS à nos enregistrements CUSTOMER_ORDER en plus des informations sur les CLIENTS ?\n\nC'est possible en effectuant une deuxième jointure. Jetons un coup d'œil à la table PRODUCT et notons qu'elle utilise un PRODUCT_ID, qui existe également dans la table CUSTOMER_ORDER en tant que clé étrangère.\n\n\n\n\n\n\n",
      "metadata": {
        "id": "zvr6JlvRANC-"
      }
    },
    {
      "cell_type": "code",
      "source": "sql =\"\"\"\nSELECT * FROM PRODUCT\nLIMIT 3\n\"\"\"\npd.read_sql(sql,conn)",
      "metadata": {
        "colab": {
          "base_uri": "https://localhost:8080/",
          "height": 143
        },
        "id": "9kEphj1x-0vD",
        "outputId": "e99f4de8-7685-4315-e819-11d1c325a8e9",
        "trusted": true
      },
      "outputs": [
        {
          "execution_count": 11,
          "output_type": "execute_result",
          "data": {
            "text/plain": "   PRODUCT_ID   PRODUCT_NAME PRODUCT_GROUP  PRICE\n0           1      Eagle Kit         ALPHA    120\n1           2    Hawkeye Cam         ALPHA     80\n2           3  Sparrow Blade          BETA     40",
            "text/html": "<div>\n<style scoped>\n    .dataframe tbody tr th:only-of-type {\n        vertical-align: middle;\n    }\n\n    .dataframe tbody tr th {\n        vertical-align: top;\n    }\n\n    .dataframe thead th {\n        text-align: right;\n    }\n</style>\n<table border=\"1\" class=\"dataframe\">\n  <thead>\n    <tr style=\"text-align: right;\">\n      <th></th>\n      <th>PRODUCT_ID</th>\n      <th>PRODUCT_NAME</th>\n      <th>PRODUCT_GROUP</th>\n      <th>PRICE</th>\n    </tr>\n  </thead>\n  <tbody>\n    <tr>\n      <th>0</th>\n      <td>1</td>\n      <td>Eagle Kit</td>\n      <td>ALPHA</td>\n      <td>120</td>\n    </tr>\n    <tr>\n      <th>1</th>\n      <td>2</td>\n      <td>Hawkeye Cam</td>\n      <td>ALPHA</td>\n      <td>80</td>\n    </tr>\n    <tr>\n      <th>2</th>\n      <td>3</td>\n      <td>Sparrow Blade</td>\n      <td>BETA</td>\n      <td>40</td>\n    </tr>\n  </tbody>\n</table>\n</div>"
          },
          "metadata": {}
        }
      ],
      "execution_count": 11
    },
    {
      "cell_type": "code",
      "source": "sql =\"\"\"\nSELECT * FROM CUSTOMER_ORDER\nLIMIT 3\n\"\"\"\npd.read_sql(sql,conn)",
      "metadata": {
        "colab": {
          "base_uri": "https://localhost:8080/",
          "height": 143
        },
        "id": "szo5pl15AfYf",
        "outputId": "b9efb37b-0e8b-4180-fd43-dfbd5afbdf4d",
        "trusted": true
      },
      "outputs": [
        {
          "execution_count": 12,
          "output_type": "execute_result",
          "data": {
            "text/plain": "   CUSTOMER_ORDER_ID  CUSTOMER_ID  ORDER_DATE  PRODUCT_ID  QUANTITY  RUSH_SHIP\n0                  1            9  2021-01-01           7        20          0\n1                  2            5  2021-01-01          15       110          0\n2                  3            3  2021-01-01           4       120          0",
            "text/html": "<div>\n<style scoped>\n    .dataframe tbody tr th:only-of-type {\n        vertical-align: middle;\n    }\n\n    .dataframe tbody tr th {\n        vertical-align: top;\n    }\n\n    .dataframe thead th {\n        text-align: right;\n    }\n</style>\n<table border=\"1\" class=\"dataframe\">\n  <thead>\n    <tr style=\"text-align: right;\">\n      <th></th>\n      <th>CUSTOMER_ORDER_ID</th>\n      <th>CUSTOMER_ID</th>\n      <th>ORDER_DATE</th>\n      <th>PRODUCT_ID</th>\n      <th>QUANTITY</th>\n      <th>RUSH_SHIP</th>\n    </tr>\n  </thead>\n  <tbody>\n    <tr>\n      <th>0</th>\n      <td>1</td>\n      <td>9</td>\n      <td>2021-01-01</td>\n      <td>7</td>\n      <td>20</td>\n      <td>0</td>\n    </tr>\n    <tr>\n      <th>1</th>\n      <td>2</td>\n      <td>5</td>\n      <td>2021-01-01</td>\n      <td>15</td>\n      <td>110</td>\n      <td>0</td>\n    </tr>\n    <tr>\n      <th>2</th>\n      <td>3</td>\n      <td>3</td>\n      <td>2021-01-01</td>\n      <td>4</td>\n      <td>120</td>\n      <td>0</td>\n    </tr>\n  </tbody>\n</table>\n</div>"
          },
          "metadata": {}
        }
      ],
      "execution_count": 12
    },
    {
      "cell_type": "code",
      "source": "sql =\"\"\"\nSELECT * FROM CUSTOMER\nLIMIT 3\n\"\"\"\npd.read_sql(sql,conn)",
      "metadata": {
        "colab": {
          "base_uri": "https://localhost:8080/",
          "height": 143
        },
        "id": "GG1dDLQGAsuZ",
        "outputId": "81d7c906-f498-41f9-d06b-94a5344fd160",
        "trusted": true
      },
      "outputs": [
        {
          "execution_count": 13,
          "output_type": "execute_result",
          "data": {
            "text/plain": "   CUSTOMER_ID     CUSTOMER_NAME          ADDRESS        CITY STATE    ZIP  \\\n0            1     Alpha Medical   18745 Train Dr      Dallas    TX  75021   \n1            2    Oak Cliff Base   2379 Cliff Ave    Abbevile    LA  70510   \n2            3  Sports Unlimited  1605 Station Dr  Alexandrai    LA  71301   \n\n     CATEGORY  \n0  INDUSTRIAL  \n1  GOVERNMENT  \n2  COMMERCIAL  ",
            "text/html": "<div>\n<style scoped>\n    .dataframe tbody tr th:only-of-type {\n        vertical-align: middle;\n    }\n\n    .dataframe tbody tr th {\n        vertical-align: top;\n    }\n\n    .dataframe thead th {\n        text-align: right;\n    }\n</style>\n<table border=\"1\" class=\"dataframe\">\n  <thead>\n    <tr style=\"text-align: right;\">\n      <th></th>\n      <th>CUSTOMER_ID</th>\n      <th>CUSTOMER_NAME</th>\n      <th>ADDRESS</th>\n      <th>CITY</th>\n      <th>STATE</th>\n      <th>ZIP</th>\n      <th>CATEGORY</th>\n    </tr>\n  </thead>\n  <tbody>\n    <tr>\n      <th>0</th>\n      <td>1</td>\n      <td>Alpha Medical</td>\n      <td>18745 Train Dr</td>\n      <td>Dallas</td>\n      <td>TX</td>\n      <td>75021</td>\n      <td>INDUSTRIAL</td>\n    </tr>\n    <tr>\n      <th>1</th>\n      <td>2</td>\n      <td>Oak Cliff Base</td>\n      <td>2379 Cliff Ave</td>\n      <td>Abbevile</td>\n      <td>LA</td>\n      <td>70510</td>\n      <td>GOVERNMENT</td>\n    </tr>\n    <tr>\n      <th>2</th>\n      <td>3</td>\n      <td>Sports Unlimited</td>\n      <td>1605 Station Dr</td>\n      <td>Alexandrai</td>\n      <td>LA</td>\n      <td>71301</td>\n      <td>COMMERCIAL</td>\n    </tr>\n  </tbody>\n</table>\n</div>"
          },
          "metadata": {}
        }
      ],
      "execution_count": 13
    },
    {
      "cell_type": "markdown",
      "source": "Reproduire ce résultat avec une requète SQL\n\n\n\n|    |   CUSTOMER_ORDER_ID |   CUSTOMER_ID | CUSTOMER_NAME         | ADDRESS             | CITY       | STATE   |   ZIP | ORDER_DATE   |   PRODUCT_ID |   QUANTITY |   PRICE |\n|---:|--------------------:|--------------:|:----------------------|:--------------------|:-----------|:--------|------:|:-------------|-------------:|-----------:|--------:|\n|  0 |                   1 |             9 | Dent Research         | 392 45th St         | Waco       | TX      | 76700 | 2021-01-01   |            7 |         20 |      56 |\n|  1 |                   2 |             5 | Lite Industrial       | 462 Roadrunner Blvd | Houston    | TX      | 77254 | 2021-01-01   |           15 |        110 |      40 |\n|  2 |                   3 |             3 | Sports Unlimited      | 1605 Station Dr     | Alexandrai | LA      | 71301 | 2021-01-01   |            4 |        120 |      40 |\n|  3 |                   4 |             6 | Prairie Sports Center | 689 Stadium Way     | Tulsa      | OK      | 74101 | 2021-01-01   |            7 |        200 |      56 |\n|  4 |                   5 |             2 | Oak Cliff Base        | 2379 Cliff Ave      | Abbevile   | LA      | 70510 | 2021-01-01   |            3 |         60 |      40 |",
      "metadata": {
        "id": "r_yeJVUoCfcc"
      }
    },
    {
      "cell_type": "code",
      "source": "# INNER JOIN ENTRE 2 TABLES\n\nsql = \"\"\"\nSELECT\n    CUSTOMER_ORDER_ID,\n    CUSTOMER.CUSTOMER_ID,\n    CUSTOMER_NAME,\n    ADDRESS,\n    CITY,\n    STATE,\n    ZIP,\n    ORDER_DATE,\n    CUSTOMER_ORDER.PRODUCT_ID,\n    PRODUCT.PRODUCT_NAME,\n    QUANTITY,\n    PRICE\nFROM CUSTOMER, CUSTOMER_ORDER, PRODUCT\nWHERE CUSTOMER_ORDER.CUSTOMER_ID = CUSTOMER.CUSTOMER_ID\nAND CUSTOMER_ORDER.PRODUCT_ID = PRODUCT.PRODUCT_ID\n \"\"\"\npd.read_sql(sql,conn)",
      "metadata": {
        "colab": {
          "base_uri": "https://localhost:8080/",
          "height": 617
        },
        "id": "1oecgokSA6Z_",
        "outputId": "d657eab9-6c84-43e5-f0db-6b6419e85c79",
        "trusted": true
      },
      "outputs": [
        {
          "execution_count": 14,
          "output_type": "execute_result",
          "data": {
            "text/plain": "      CUSTOMER_ORDER_ID  CUSTOMER_ID          CUSTOMER_NAME  \\\n0                     1            9          Dent Research   \n1                     2            5        Lite Industrial   \n2                     3            3       Sports Unlimited   \n3                     4            6  Prairie Sports Center   \n4                     5            2         Oak Cliff Base   \n...                 ...          ...                    ...   \n1185               1994            9          Dent Research   \n1186               1995            5        Lite Industrial   \n1187               1996           10        Gamma Solutions   \n1188               1997            9          Dent Research   \n1189               1999            8          Allen Stadium   \n\n                  ADDRESS        CITY STATE    ZIP  ORDER_DATE  PRODUCT_ID  \\\n0             392 45th St        Waco    TX  76700  2021-01-01           7   \n1     462 Roadrunner Blvd     Houston    TX  77254  2021-01-01          15   \n2         1605 Station Dr  Alexandrai    LA  71301  2021-01-01           4   \n3         689 Stadium Way       Tulsa    OK  74101  2021-01-01           7   \n4          2379 Cliff Ave    Abbevile    LA  70510  2021-01-01           3   \n...                   ...         ...   ...    ...         ...         ...   \n1185          392 45th St        Waco    TX  76700  2021-03-31           4   \n1186  462 Roadrunner Blvd     Houston    TX  77254  2021-03-31           8   \n1187         2752 27th St     Phoenix    AZ  85001  2021-03-31           7   \n1188          392 45th St        Waco    TX  76700  2021-03-31           6   \n1189     573 HIllcrest Rd       Allen    TX  75002  2021-03-31           5   \n\n         PRODUCT_NAME  QUANTITY  PRICE  \n0           Vulture X        20     56  \n1     Kriket Light XL       110     40  \n2          Raven Klaw       120     40  \n3           Vulture X       200     56  \n4       Sparrow Blade        60     40  \n...               ...       ...    ...  \n1185       Raven Klaw        70     40  \n1186   Roadrunner Pro       140     70  \n1187        Vulture X        80     56  \n1188           Owl NV        20    100  \n1189     Kriket Light       100     25  \n\n[1190 rows x 12 columns]",
            "text/html": "<div>\n<style scoped>\n    .dataframe tbody tr th:only-of-type {\n        vertical-align: middle;\n    }\n\n    .dataframe tbody tr th {\n        vertical-align: top;\n    }\n\n    .dataframe thead th {\n        text-align: right;\n    }\n</style>\n<table border=\"1\" class=\"dataframe\">\n  <thead>\n    <tr style=\"text-align: right;\">\n      <th></th>\n      <th>CUSTOMER_ORDER_ID</th>\n      <th>CUSTOMER_ID</th>\n      <th>CUSTOMER_NAME</th>\n      <th>ADDRESS</th>\n      <th>CITY</th>\n      <th>STATE</th>\n      <th>ZIP</th>\n      <th>ORDER_DATE</th>\n      <th>PRODUCT_ID</th>\n      <th>PRODUCT_NAME</th>\n      <th>QUANTITY</th>\n      <th>PRICE</th>\n    </tr>\n  </thead>\n  <tbody>\n    <tr>\n      <th>0</th>\n      <td>1</td>\n      <td>9</td>\n      <td>Dent Research</td>\n      <td>392 45th St</td>\n      <td>Waco</td>\n      <td>TX</td>\n      <td>76700</td>\n      <td>2021-01-01</td>\n      <td>7</td>\n      <td>Vulture X</td>\n      <td>20</td>\n      <td>56</td>\n    </tr>\n    <tr>\n      <th>1</th>\n      <td>2</td>\n      <td>5</td>\n      <td>Lite Industrial</td>\n      <td>462 Roadrunner Blvd</td>\n      <td>Houston</td>\n      <td>TX</td>\n      <td>77254</td>\n      <td>2021-01-01</td>\n      <td>15</td>\n      <td>Kriket Light XL</td>\n      <td>110</td>\n      <td>40</td>\n    </tr>\n    <tr>\n      <th>2</th>\n      <td>3</td>\n      <td>3</td>\n      <td>Sports Unlimited</td>\n      <td>1605 Station Dr</td>\n      <td>Alexandrai</td>\n      <td>LA</td>\n      <td>71301</td>\n      <td>2021-01-01</td>\n      <td>4</td>\n      <td>Raven Klaw</td>\n      <td>120</td>\n      <td>40</td>\n    </tr>\n    <tr>\n      <th>3</th>\n      <td>4</td>\n      <td>6</td>\n      <td>Prairie Sports Center</td>\n      <td>689 Stadium Way</td>\n      <td>Tulsa</td>\n      <td>OK</td>\n      <td>74101</td>\n      <td>2021-01-01</td>\n      <td>7</td>\n      <td>Vulture X</td>\n      <td>200</td>\n      <td>56</td>\n    </tr>\n    <tr>\n      <th>4</th>\n      <td>5</td>\n      <td>2</td>\n      <td>Oak Cliff Base</td>\n      <td>2379 Cliff Ave</td>\n      <td>Abbevile</td>\n      <td>LA</td>\n      <td>70510</td>\n      <td>2021-01-01</td>\n      <td>3</td>\n      <td>Sparrow Blade</td>\n      <td>60</td>\n      <td>40</td>\n    </tr>\n    <tr>\n      <th>...</th>\n      <td>...</td>\n      <td>...</td>\n      <td>...</td>\n      <td>...</td>\n      <td>...</td>\n      <td>...</td>\n      <td>...</td>\n      <td>...</td>\n      <td>...</td>\n      <td>...</td>\n      <td>...</td>\n      <td>...</td>\n    </tr>\n    <tr>\n      <th>1185</th>\n      <td>1994</td>\n      <td>9</td>\n      <td>Dent Research</td>\n      <td>392 45th St</td>\n      <td>Waco</td>\n      <td>TX</td>\n      <td>76700</td>\n      <td>2021-03-31</td>\n      <td>4</td>\n      <td>Raven Klaw</td>\n      <td>70</td>\n      <td>40</td>\n    </tr>\n    <tr>\n      <th>1186</th>\n      <td>1995</td>\n      <td>5</td>\n      <td>Lite Industrial</td>\n      <td>462 Roadrunner Blvd</td>\n      <td>Houston</td>\n      <td>TX</td>\n      <td>77254</td>\n      <td>2021-03-31</td>\n      <td>8</td>\n      <td>Roadrunner Pro</td>\n      <td>140</td>\n      <td>70</td>\n    </tr>\n    <tr>\n      <th>1187</th>\n      <td>1996</td>\n      <td>10</td>\n      <td>Gamma Solutions</td>\n      <td>2752 27th St</td>\n      <td>Phoenix</td>\n      <td>AZ</td>\n      <td>85001</td>\n      <td>2021-03-31</td>\n      <td>7</td>\n      <td>Vulture X</td>\n      <td>80</td>\n      <td>56</td>\n    </tr>\n    <tr>\n      <th>1188</th>\n      <td>1997</td>\n      <td>9</td>\n      <td>Dent Research</td>\n      <td>392 45th St</td>\n      <td>Waco</td>\n      <td>TX</td>\n      <td>76700</td>\n      <td>2021-03-31</td>\n      <td>6</td>\n      <td>Owl NV</td>\n      <td>20</td>\n      <td>100</td>\n    </tr>\n    <tr>\n      <th>1189</th>\n      <td>1999</td>\n      <td>8</td>\n      <td>Allen Stadium</td>\n      <td>573 HIllcrest Rd</td>\n      <td>Allen</td>\n      <td>TX</td>\n      <td>75002</td>\n      <td>2021-03-31</td>\n      <td>5</td>\n      <td>Kriket Light</td>\n      <td>100</td>\n      <td>25</td>\n    </tr>\n  </tbody>\n</table>\n<p>1190 rows × 12 columns</p>\n</div>"
          },
          "metadata": {}
        }
      ],
      "execution_count": 14
    },
    {
      "cell_type": "code",
      "source": "# LEFT JOIN entre 2 tables\n\nsql = \"\"\"\nSELECT\n    CUSTOMER_ORDER_ID,\n    CUSTOMER.CUSTOMER_ID,\n    CUSTOMER_NAME,\n    ADDRESS,\n    CITY,\n    STATE,\n    ZIP,\n    ORDER_DATE,\n    CUSTOMER_ORDER.PRODUCT_ID,\n    PRODUCT.PRODUCT_NAME,\n    QUANTITY,\n    PRICE\nFROM CUSTOMER LEFT JOIN CUSTOMER_ORDER\nON CUSTOMER_ORDER.CUSTOMER_ID = CUSTOMER.CUSTOMER_ID\nLEFT JOIN PRODUCT\nON CUSTOMER_ORDER.PRODUCT_ID = PRODUCT.PRODUCT_ID\n \"\"\"\npd.read_sql(sql,conn)",
      "metadata": {
        "colab": {
          "base_uri": "https://localhost:8080/",
          "height": 597
        },
        "id": "v1wp-oKYHG5S",
        "outputId": "79f861b7-4d6e-4801-e849-95403607c7e6",
        "trusted": true
      },
      "outputs": [
        {
          "execution_count": 15,
          "output_type": "execute_result",
          "data": {
            "text/plain": "      CUSTOMER_ORDER_ID  CUSTOMER_ID    CUSTOMER_NAME         ADDRESS  \\\n0                   NaN            1    Alpha Medical  18745 Train Dr   \n1                   5.0            2   Oak Cliff Base  2379 Cliff Ave   \n2                  16.0            2   Oak Cliff Base  2379 Cliff Ave   \n3                  13.0            2   Oak Cliff Base  2379 Cliff Ave   \n4                 129.0            2   Oak Cliff Base  2379 Cliff Ave   \n...                 ...          ...              ...             ...   \n1186             1989.0           10  Gamma Solutions    2752 27th St   \n1187             1975.0           10  Gamma Solutions    2752 27th St   \n1188             1980.0           10  Gamma Solutions    2752 27th St   \n1189             1996.0           10  Gamma Solutions    2752 27th St   \n1190             1991.0           10  Gamma Solutions    2752 27th St   \n\n          CITY STATE    ZIP  ORDER_DATE  PRODUCT_ID      PRODUCT_NAME  \\\n0       Dallas    TX  75021        None         NaN              None   \n1     Abbevile    LA  70510  2021-01-01         3.0     Sparrow Blade   \n2     Abbevile    LA  70510  2021-01-01        13.0  Natterjack Light   \n3     Abbevile    LA  70510  2021-01-01        15.0   Kriket Light XL   \n4     Abbevile    LA  70510  2021-01-07        13.0  Natterjack Light   \n...        ...   ...    ...         ...         ...               ...   \n1186   Phoenix    AZ  85001  2021-03-31         2.0       Hawkeye Cam   \n1187   Phoenix    AZ  85001  2021-03-31         2.0       Hawkeye Cam   \n1188   Phoenix    AZ  85001  2021-03-31         4.0        Raven Klaw   \n1189   Phoenix    AZ  85001  2021-03-31         7.0         Vulture X   \n1190   Phoenix    AZ  85001  2021-03-31        14.0   Grasshopper Pro   \n\n      QUANTITY  PRICE  \n0          NaN    NaN  \n1         60.0   40.0  \n2         60.0   40.0  \n3         10.0   40.0  \n4         40.0   40.0  \n...        ...    ...  \n1186      90.0   80.0  \n1187     170.0   80.0  \n1188      30.0   40.0  \n1189      80.0   56.0  \n1190     120.0   50.0  \n\n[1191 rows x 12 columns]",
            "text/html": "<div>\n<style scoped>\n    .dataframe tbody tr th:only-of-type {\n        vertical-align: middle;\n    }\n\n    .dataframe tbody tr th {\n        vertical-align: top;\n    }\n\n    .dataframe thead th {\n        text-align: right;\n    }\n</style>\n<table border=\"1\" class=\"dataframe\">\n  <thead>\n    <tr style=\"text-align: right;\">\n      <th></th>\n      <th>CUSTOMER_ORDER_ID</th>\n      <th>CUSTOMER_ID</th>\n      <th>CUSTOMER_NAME</th>\n      <th>ADDRESS</th>\n      <th>CITY</th>\n      <th>STATE</th>\n      <th>ZIP</th>\n      <th>ORDER_DATE</th>\n      <th>PRODUCT_ID</th>\n      <th>PRODUCT_NAME</th>\n      <th>QUANTITY</th>\n      <th>PRICE</th>\n    </tr>\n  </thead>\n  <tbody>\n    <tr>\n      <th>0</th>\n      <td>NaN</td>\n      <td>1</td>\n      <td>Alpha Medical</td>\n      <td>18745 Train Dr</td>\n      <td>Dallas</td>\n      <td>TX</td>\n      <td>75021</td>\n      <td>None</td>\n      <td>NaN</td>\n      <td>None</td>\n      <td>NaN</td>\n      <td>NaN</td>\n    </tr>\n    <tr>\n      <th>1</th>\n      <td>5.0</td>\n      <td>2</td>\n      <td>Oak Cliff Base</td>\n      <td>2379 Cliff Ave</td>\n      <td>Abbevile</td>\n      <td>LA</td>\n      <td>70510</td>\n      <td>2021-01-01</td>\n      <td>3.0</td>\n      <td>Sparrow Blade</td>\n      <td>60.0</td>\n      <td>40.0</td>\n    </tr>\n    <tr>\n      <th>2</th>\n      <td>16.0</td>\n      <td>2</td>\n      <td>Oak Cliff Base</td>\n      <td>2379 Cliff Ave</td>\n      <td>Abbevile</td>\n      <td>LA</td>\n      <td>70510</td>\n      <td>2021-01-01</td>\n      <td>13.0</td>\n      <td>Natterjack Light</td>\n      <td>60.0</td>\n      <td>40.0</td>\n    </tr>\n    <tr>\n      <th>3</th>\n      <td>13.0</td>\n      <td>2</td>\n      <td>Oak Cliff Base</td>\n      <td>2379 Cliff Ave</td>\n      <td>Abbevile</td>\n      <td>LA</td>\n      <td>70510</td>\n      <td>2021-01-01</td>\n      <td>15.0</td>\n      <td>Kriket Light XL</td>\n      <td>10.0</td>\n      <td>40.0</td>\n    </tr>\n    <tr>\n      <th>4</th>\n      <td>129.0</td>\n      <td>2</td>\n      <td>Oak Cliff Base</td>\n      <td>2379 Cliff Ave</td>\n      <td>Abbevile</td>\n      <td>LA</td>\n      <td>70510</td>\n      <td>2021-01-07</td>\n      <td>13.0</td>\n      <td>Natterjack Light</td>\n      <td>40.0</td>\n      <td>40.0</td>\n    </tr>\n    <tr>\n      <th>...</th>\n      <td>...</td>\n      <td>...</td>\n      <td>...</td>\n      <td>...</td>\n      <td>...</td>\n      <td>...</td>\n      <td>...</td>\n      <td>...</td>\n      <td>...</td>\n      <td>...</td>\n      <td>...</td>\n      <td>...</td>\n    </tr>\n    <tr>\n      <th>1186</th>\n      <td>1989.0</td>\n      <td>10</td>\n      <td>Gamma Solutions</td>\n      <td>2752 27th St</td>\n      <td>Phoenix</td>\n      <td>AZ</td>\n      <td>85001</td>\n      <td>2021-03-31</td>\n      <td>2.0</td>\n      <td>Hawkeye Cam</td>\n      <td>90.0</td>\n      <td>80.0</td>\n    </tr>\n    <tr>\n      <th>1187</th>\n      <td>1975.0</td>\n      <td>10</td>\n      <td>Gamma Solutions</td>\n      <td>2752 27th St</td>\n      <td>Phoenix</td>\n      <td>AZ</td>\n      <td>85001</td>\n      <td>2021-03-31</td>\n      <td>2.0</td>\n      <td>Hawkeye Cam</td>\n      <td>170.0</td>\n      <td>80.0</td>\n    </tr>\n    <tr>\n      <th>1188</th>\n      <td>1980.0</td>\n      <td>10</td>\n      <td>Gamma Solutions</td>\n      <td>2752 27th St</td>\n      <td>Phoenix</td>\n      <td>AZ</td>\n      <td>85001</td>\n      <td>2021-03-31</td>\n      <td>4.0</td>\n      <td>Raven Klaw</td>\n      <td>30.0</td>\n      <td>40.0</td>\n    </tr>\n    <tr>\n      <th>1189</th>\n      <td>1996.0</td>\n      <td>10</td>\n      <td>Gamma Solutions</td>\n      <td>2752 27th St</td>\n      <td>Phoenix</td>\n      <td>AZ</td>\n      <td>85001</td>\n      <td>2021-03-31</td>\n      <td>7.0</td>\n      <td>Vulture X</td>\n      <td>80.0</td>\n      <td>56.0</td>\n    </tr>\n    <tr>\n      <th>1190</th>\n      <td>1991.0</td>\n      <td>10</td>\n      <td>Gamma Solutions</td>\n      <td>2752 27th St</td>\n      <td>Phoenix</td>\n      <td>AZ</td>\n      <td>85001</td>\n      <td>2021-03-31</td>\n      <td>14.0</td>\n      <td>Grasshopper Pro</td>\n      <td>120.0</td>\n      <td>50.0</td>\n    </tr>\n  </tbody>\n</table>\n<p>1191 rows × 12 columns</p>\n</div>"
          },
          "metadata": {}
        }
      ],
      "execution_count": 15
    },
    {
      "cell_type": "markdown",
      "source": "# JOINTURE ET AGGREGATION",
      "metadata": {
        "id": "7nyrpQXLJF8J"
      }
    },
    {
      "cell_type": "markdown",
      "source": "* Ajouter  le chiffre d'affaires total par client, ajoutons une expression PRICE * QUANTITY et appelons-la REVENUE.\n* Ensuite, nous pouvons utiliser la fonction SUM() sur cette expression et ajouter une clause GROUP BY pour regrouper les attributs du CLIENT.",
      "metadata": {
        "id": "g394XDTsJhnr"
      }
    },
    {
      "cell_type": "code",
      "source": "sql = \"\"\"\nSELECT CUSTOMER.CUSTOMER_ID,\nCUSTOMER_NAME,\nPRICE * QUANTITY AS REVENUE\nFROM CUSTOMER LEFT JOIN CUSTOMER_ORDER\nON CUSTOMER_ORDER.CUSTOMER_ID = CUSTOMER.CUSTOMER_ID\nLEFT JOIN PRODUCT\nON CUSTOMER_ORDER.PRODUCT_ID = PRODUCT.PRODUCT_ID\n\n\"\"\"\npd.read_sql(sql,conn)",
      "metadata": {
        "colab": {
          "base_uri": "https://localhost:8080/",
          "height": 423
        },
        "id": "eiwp1enYzkFD",
        "outputId": "140720f2-d71e-4515-ceef-b1a23564044e",
        "trusted": true
      },
      "outputs": [
        {
          "execution_count": 16,
          "output_type": "execute_result",
          "data": {
            "text/plain": "      CUSTOMER_ID    CUSTOMER_NAME  REVENUE\n0               1    Alpha Medical      NaN\n1               2   Oak Cliff Base   3600.0\n2               2   Oak Cliff Base   4800.0\n3               2   Oak Cliff Base   8400.0\n4               2   Oak Cliff Base   9600.0\n...           ...              ...      ...\n1186           10  Gamma Solutions    400.0\n1187           10  Gamma Solutions   2800.0\n1188           10  Gamma Solutions   3600.0\n1189           10  Gamma Solutions   5600.0\n1190           10  Gamma Solutions   6000.0\n\n[1191 rows x 3 columns]",
            "text/html": "<div>\n<style scoped>\n    .dataframe tbody tr th:only-of-type {\n        vertical-align: middle;\n    }\n\n    .dataframe tbody tr th {\n        vertical-align: top;\n    }\n\n    .dataframe thead th {\n        text-align: right;\n    }\n</style>\n<table border=\"1\" class=\"dataframe\">\n  <thead>\n    <tr style=\"text-align: right;\">\n      <th></th>\n      <th>CUSTOMER_ID</th>\n      <th>CUSTOMER_NAME</th>\n      <th>REVENUE</th>\n    </tr>\n  </thead>\n  <tbody>\n    <tr>\n      <th>0</th>\n      <td>1</td>\n      <td>Alpha Medical</td>\n      <td>NaN</td>\n    </tr>\n    <tr>\n      <th>1</th>\n      <td>2</td>\n      <td>Oak Cliff Base</td>\n      <td>3600.0</td>\n    </tr>\n    <tr>\n      <th>2</th>\n      <td>2</td>\n      <td>Oak Cliff Base</td>\n      <td>4800.0</td>\n    </tr>\n    <tr>\n      <th>3</th>\n      <td>2</td>\n      <td>Oak Cliff Base</td>\n      <td>8400.0</td>\n    </tr>\n    <tr>\n      <th>4</th>\n      <td>2</td>\n      <td>Oak Cliff Base</td>\n      <td>9600.0</td>\n    </tr>\n    <tr>\n      <th>...</th>\n      <td>...</td>\n      <td>...</td>\n      <td>...</td>\n    </tr>\n    <tr>\n      <th>1186</th>\n      <td>10</td>\n      <td>Gamma Solutions</td>\n      <td>400.0</td>\n    </tr>\n    <tr>\n      <th>1187</th>\n      <td>10</td>\n      <td>Gamma Solutions</td>\n      <td>2800.0</td>\n    </tr>\n    <tr>\n      <th>1188</th>\n      <td>10</td>\n      <td>Gamma Solutions</td>\n      <td>3600.0</td>\n    </tr>\n    <tr>\n      <th>1189</th>\n      <td>10</td>\n      <td>Gamma Solutions</td>\n      <td>5600.0</td>\n    </tr>\n    <tr>\n      <th>1190</th>\n      <td>10</td>\n      <td>Gamma Solutions</td>\n      <td>6000.0</td>\n    </tr>\n  </tbody>\n</table>\n<p>1191 rows × 3 columns</p>\n</div>"
          },
          "metadata": {}
        }
      ],
      "execution_count": 16
    },
    {
      "cell_type": "code",
      "source": "sql = \"\"\"\nSELECT CUSTOMER.CUSTOMER_ID,\nCUSTOMER_NAME,\nSUM(PRICE * QUANTITY) AS TOTAL_REVENUE\nFROM CUSTOMER LEFT JOIN CUSTOMER_ORDER\nON CUSTOMER_ORDER.CUSTOMER_ID = CUSTOMER.CUSTOMER_ID\nLEFT JOIN PRODUCT\nON CUSTOMER_ORDER.PRODUCT_ID = PRODUCT.PRODUCT_ID\nGROUP BY CUSTOMER.CUSTOMER_ID, CUSTOMER_NAME\nORDER BY TOTAL_REVENUE DESC\n--LIMIT 1\n\"\"\"\npd.read_sql(sql,conn)",
      "metadata": {
        "colab": {
          "base_uri": "https://localhost:8080/",
          "height": 363
        },
        "id": "3vdiirRBH23z",
        "outputId": "e304d01a-9e3c-4b03-f66b-78a852e4c36f",
        "trusted": true
      },
      "outputs": [
        {
          "execution_count": 17,
          "output_type": "execute_result",
          "data": {
            "text/plain": "   CUSTOMER_ID          CUSTOMER_NAME  TOTAL_REVENUE\n0            4   Riley Sporting Goods      1012460.0\n1            8          Allen Stadium       918920.0\n2            9          Dent Research       896720.0\n3            7            Facility 95       865410.0\n4            6  Prairie Sports Center       779870.0\n5            5        Lite Industrial       679680.0\n6           10        Gamma Solutions       673500.0\n7            3       Sports Unlimited       671070.0\n8            2         Oak Cliff Base       664660.0\n9            1          Alpha Medical            NaN",
            "text/html": "<div>\n<style scoped>\n    .dataframe tbody tr th:only-of-type {\n        vertical-align: middle;\n    }\n\n    .dataframe tbody tr th {\n        vertical-align: top;\n    }\n\n    .dataframe thead th {\n        text-align: right;\n    }\n</style>\n<table border=\"1\" class=\"dataframe\">\n  <thead>\n    <tr style=\"text-align: right;\">\n      <th></th>\n      <th>CUSTOMER_ID</th>\n      <th>CUSTOMER_NAME</th>\n      <th>TOTAL_REVENUE</th>\n    </tr>\n  </thead>\n  <tbody>\n    <tr>\n      <th>0</th>\n      <td>4</td>\n      <td>Riley Sporting Goods</td>\n      <td>1012460.0</td>\n    </tr>\n    <tr>\n      <th>1</th>\n      <td>8</td>\n      <td>Allen Stadium</td>\n      <td>918920.0</td>\n    </tr>\n    <tr>\n      <th>2</th>\n      <td>9</td>\n      <td>Dent Research</td>\n      <td>896720.0</td>\n    </tr>\n    <tr>\n      <th>3</th>\n      <td>7</td>\n      <td>Facility 95</td>\n      <td>865410.0</td>\n    </tr>\n    <tr>\n      <th>4</th>\n      <td>6</td>\n      <td>Prairie Sports Center</td>\n      <td>779870.0</td>\n    </tr>\n    <tr>\n      <th>5</th>\n      <td>5</td>\n      <td>Lite Industrial</td>\n      <td>679680.0</td>\n    </tr>\n    <tr>\n      <th>6</th>\n      <td>10</td>\n      <td>Gamma Solutions</td>\n      <td>673500.0</td>\n    </tr>\n    <tr>\n      <th>7</th>\n      <td>3</td>\n      <td>Sports Unlimited</td>\n      <td>671070.0</td>\n    </tr>\n    <tr>\n      <th>8</th>\n      <td>2</td>\n      <td>Oak Cliff Base</td>\n      <td>664660.0</td>\n    </tr>\n    <tr>\n      <th>9</th>\n      <td>1</td>\n      <td>Alpha Medical</td>\n      <td>NaN</td>\n    </tr>\n  </tbody>\n</table>\n</div>"
          },
          "metadata": {}
        }
      ],
      "execution_count": 17
    },
    {
      "cell_type": "markdown",
      "source": "Ecrire une requète pour chaque CAS :\n* **Q1** Donner Customer_id, customer_name et TOTAL_REVENUE pour les clients qui ont déjà passé des commandes\n* **Q2** Donner Customer_id, customer_name et TOTAL_REVENUE pour tous les clients en remplaçant les NAN par 0\n\n|    |   CUSTOMER_ID | CUSTOMER_NAME         |   TOTAL_REVENUE |\n|---:|--------------:|:----------------------|----------------:|\n|  0 |             4 | Riley Sporting Goods  |         1012460 |\n|  1 |             8 | Allen Stadium         |          918920 |\n|  2 |             9 | Dent Research         |          896720 |\n|  3 |             7 | Facility 95           |          865410 |\n|  4 |             6 | Prairie Sports Center |          779870 |\n|  5 |             5 | Lite Industrial       |          679680 |\n|  6 |            10 | Gamma Solutions       |          673500 |\n|  7 |             3 | Sports Unlimited      |          671070 |\n|  8 |             2 | Oak Cliff Base        |          664660 |\n|  9 |             1 | Alpha Medical         |               0 |",
      "metadata": {
        "id": "K1pnBaez1fpZ"
      }
    },
    {
      "cell_type": "code",
      "source": "# Q1\nsql = \"\"\"\nSELECT CUSTOMER.CUSTOMER_ID,\nCUSTOMER_NAME,\nSUM(PRICE * QUANTITY) AS TOTAL_REVENUE\nFROM CUSTOMER INNER JOIN CUSTOMER_ORDER\nON CUSTOMER_ORDER.CUSTOMER_ID = CUSTOMER.CUSTOMER_ID\nLEFT JOIN PRODUCT\nON CUSTOMER_ORDER.PRODUCT_ID = PRODUCT.PRODUCT_ID\nGROUP BY CUSTOMER.CUSTOMER_ID, CUSTOMER_NAME\nORDER BY TOTAL_REVENUE DESC\n--LIMIT 1\n\"\"\"\npd.read_sql(sql,conn)",
      "metadata": {
        "id": "jRgROo5qKUo1",
        "colab": {
          "base_uri": "https://localhost:8080/",
          "height": 331
        },
        "outputId": "1fc88b90-381e-4bf0-fd05-8212feb3cd24",
        "trusted": true
      },
      "outputs": [
        {
          "execution_count": 18,
          "output_type": "execute_result",
          "data": {
            "text/plain": "   CUSTOMER_ID          CUSTOMER_NAME  TOTAL_REVENUE\n0            4   Riley Sporting Goods        1012460\n1            8          Allen Stadium         918920\n2            9          Dent Research         896720\n3            7            Facility 95         865410\n4            6  Prairie Sports Center         779870\n5            5        Lite Industrial         679680\n6           10        Gamma Solutions         673500\n7            3       Sports Unlimited         671070\n8            2         Oak Cliff Base         664660",
            "text/html": "<div>\n<style scoped>\n    .dataframe tbody tr th:only-of-type {\n        vertical-align: middle;\n    }\n\n    .dataframe tbody tr th {\n        vertical-align: top;\n    }\n\n    .dataframe thead th {\n        text-align: right;\n    }\n</style>\n<table border=\"1\" class=\"dataframe\">\n  <thead>\n    <tr style=\"text-align: right;\">\n      <th></th>\n      <th>CUSTOMER_ID</th>\n      <th>CUSTOMER_NAME</th>\n      <th>TOTAL_REVENUE</th>\n    </tr>\n  </thead>\n  <tbody>\n    <tr>\n      <th>0</th>\n      <td>4</td>\n      <td>Riley Sporting Goods</td>\n      <td>1012460</td>\n    </tr>\n    <tr>\n      <th>1</th>\n      <td>8</td>\n      <td>Allen Stadium</td>\n      <td>918920</td>\n    </tr>\n    <tr>\n      <th>2</th>\n      <td>9</td>\n      <td>Dent Research</td>\n      <td>896720</td>\n    </tr>\n    <tr>\n      <th>3</th>\n      <td>7</td>\n      <td>Facility 95</td>\n      <td>865410</td>\n    </tr>\n    <tr>\n      <th>4</th>\n      <td>6</td>\n      <td>Prairie Sports Center</td>\n      <td>779870</td>\n    </tr>\n    <tr>\n      <th>5</th>\n      <td>5</td>\n      <td>Lite Industrial</td>\n      <td>679680</td>\n    </tr>\n    <tr>\n      <th>6</th>\n      <td>10</td>\n      <td>Gamma Solutions</td>\n      <td>673500</td>\n    </tr>\n    <tr>\n      <th>7</th>\n      <td>3</td>\n      <td>Sports Unlimited</td>\n      <td>671070</td>\n    </tr>\n    <tr>\n      <th>8</th>\n      <td>2</td>\n      <td>Oak Cliff Base</td>\n      <td>664660</td>\n    </tr>\n  </tbody>\n</table>\n</div>"
          },
          "metadata": {}
        }
      ],
      "execution_count": 18
    },
    {
      "cell_type": "code",
      "source": "#Q2\nsql = \"\"\"\nSELECT CUSTOMER.CUSTOMER_ID,\nCUSTOMER_NAME,\nCOALESCE(SUM(PRICE * QUANTITY),0) AS TOTAL_REVENUE\nFROM CUSTOMER LEFT JOIN CUSTOMER_ORDER\nON CUSTOMER_ORDER.CUSTOMER_ID = CUSTOMER.CUSTOMER_ID\nLEFT JOIN PRODUCT\nON CUSTOMER_ORDER.PRODUCT_ID = PRODUCT.PRODUCT_ID\nGROUP BY CUSTOMER.CUSTOMER_ID, CUSTOMER_NAME\nORDER BY TOTAL_REVENUE DESC\n--LIMIT 1\n\"\"\"\npd.read_sql(sql,conn)",
      "metadata": {
        "colab": {
          "base_uri": "https://localhost:8080/",
          "height": 363
        },
        "id": "VH4cA-Fj3ql5",
        "outputId": "d0f7b51e-5d8e-442a-842c-28dc4800372d",
        "trusted": true
      },
      "outputs": [
        {
          "execution_count": 19,
          "output_type": "execute_result",
          "data": {
            "text/plain": "   CUSTOMER_ID          CUSTOMER_NAME  TOTAL_REVENUE\n0            4   Riley Sporting Goods        1012460\n1            8          Allen Stadium         918920\n2            9          Dent Research         896720\n3            7            Facility 95         865410\n4            6  Prairie Sports Center         779870\n5            5        Lite Industrial         679680\n6           10        Gamma Solutions         673500\n7            3       Sports Unlimited         671070\n8            2         Oak Cliff Base         664660\n9            1          Alpha Medical              0",
            "text/html": "<div>\n<style scoped>\n    .dataframe tbody tr th:only-of-type {\n        vertical-align: middle;\n    }\n\n    .dataframe tbody tr th {\n        vertical-align: top;\n    }\n\n    .dataframe thead th {\n        text-align: right;\n    }\n</style>\n<table border=\"1\" class=\"dataframe\">\n  <thead>\n    <tr style=\"text-align: right;\">\n      <th></th>\n      <th>CUSTOMER_ID</th>\n      <th>CUSTOMER_NAME</th>\n      <th>TOTAL_REVENUE</th>\n    </tr>\n  </thead>\n  <tbody>\n    <tr>\n      <th>0</th>\n      <td>4</td>\n      <td>Riley Sporting Goods</td>\n      <td>1012460</td>\n    </tr>\n    <tr>\n      <th>1</th>\n      <td>8</td>\n      <td>Allen Stadium</td>\n      <td>918920</td>\n    </tr>\n    <tr>\n      <th>2</th>\n      <td>9</td>\n      <td>Dent Research</td>\n      <td>896720</td>\n    </tr>\n    <tr>\n      <th>3</th>\n      <td>7</td>\n      <td>Facility 95</td>\n      <td>865410</td>\n    </tr>\n    <tr>\n      <th>4</th>\n      <td>6</td>\n      <td>Prairie Sports Center</td>\n      <td>779870</td>\n    </tr>\n    <tr>\n      <th>5</th>\n      <td>5</td>\n      <td>Lite Industrial</td>\n      <td>679680</td>\n    </tr>\n    <tr>\n      <th>6</th>\n      <td>10</td>\n      <td>Gamma Solutions</td>\n      <td>673500</td>\n    </tr>\n    <tr>\n      <th>7</th>\n      <td>3</td>\n      <td>Sports Unlimited</td>\n      <td>671070</td>\n    </tr>\n    <tr>\n      <th>8</th>\n      <td>2</td>\n      <td>Oak Cliff Base</td>\n      <td>664660</td>\n    </tr>\n    <tr>\n      <th>9</th>\n      <td>1</td>\n      <td>Alpha Medical</td>\n      <td>0</td>\n    </tr>\n  </tbody>\n</table>\n</div>"
          },
          "metadata": {}
        }
      ],
      "execution_count": 19
    },
    {
      "cell_type": "markdown",
      "source": "# EXERCICE\nDonner le Revenue Total par Product\n\n|    |   PRODUCT_ID | PRODUCT_NAME     |   TOTAL_REVENUE |\n|---:|-------------:|:-----------------|----------------:|\n|  0 |           12 | Wolverine Kit    |         1101000 |\n|  1 |            6 | Owl NV           |          924000 |\n|  2 |            1 | Eagle Kit        |          772800 |\n|  3 |            2 | Hawkeye Cam      |          630400 |\n|  4 |            8 | Roadrunner Pro   |          615300 |\n|  5 |           14 | Grasshopper Pro  |          460000 |\n|  6 |            7 | Vulture X        |          425040 |\n|  7 |            4 | Raven Klaw       |          353600 |\n|  8 |           13 | Natterjack Light |          352000 |\n|  9 |           15 | Kriket Light XL  |          351600 |\n| 10 |            3 | Sparrow Blade    |          339200 |\n| 11 |           10 | Emu Handheld     |          272300 |\n| 12 |           11 | Pelican Handheld |          199500 |\n| 13 |            9 | Falcon Tracker   |          183800 |\n| 14 |            5 | Kriket Light     |          181750 |",
      "metadata": {
        "id": "h7zakq2E2qfV"
      }
    },
    {
      "cell_type": "markdown",
      "source": "# CORRECTION\n * Commencer par Selectionner PRODUCT_ID,PRODUCT_NAME, QUANTITY et PRICE",
      "metadata": {
        "id": "_sTLpxvs8LCG"
      }
    },
    {
      "cell_type": "code",
      "source": "sql = \"\"\"\nSELECT PRODUCT.PRODUCT_ID,\n      PRODUCT_NAME,\n      QUANTITY,\n      PRICE\nFROM PRODUCT LEFT JOIN CUSTOMER_ORDER\nON PRODUCT.PRODUCT_ID = CUSTOMER_ORDER.PRODUCT_ID\n\"\"\"\npd.read_sql(sql,conn)",
      "metadata": {
        "colab": {
          "base_uri": "https://localhost:8080/",
          "height": 423
        },
        "id": "heVsonP72v6j",
        "outputId": "3bef7ca0-ab8e-4214-ca36-f19ab4472911",
        "trusted": true
      },
      "outputs": [
        {
          "execution_count": 20,
          "output_type": "execute_result",
          "data": {
            "text/plain": "      PRODUCT_ID     PRODUCT_NAME  QUANTITY  PRICE\n0              1        Eagle Kit        10    120\n1              1        Eagle Kit        10    120\n2              1        Eagle Kit        10    120\n3              1        Eagle Kit        10    120\n4              1        Eagle Kit        10    120\n...          ...              ...       ...    ...\n1185          15  Kriket Light XL       190     40\n1186          15  Kriket Light XL       190     40\n1187          15  Kriket Light XL       200     40\n1188          15  Kriket Light XL       200     40\n1189          15  Kriket Light XL       200     40\n\n[1190 rows x 4 columns]",
            "text/html": "<div>\n<style scoped>\n    .dataframe tbody tr th:only-of-type {\n        vertical-align: middle;\n    }\n\n    .dataframe tbody tr th {\n        vertical-align: top;\n    }\n\n    .dataframe thead th {\n        text-align: right;\n    }\n</style>\n<table border=\"1\" class=\"dataframe\">\n  <thead>\n    <tr style=\"text-align: right;\">\n      <th></th>\n      <th>PRODUCT_ID</th>\n      <th>PRODUCT_NAME</th>\n      <th>QUANTITY</th>\n      <th>PRICE</th>\n    </tr>\n  </thead>\n  <tbody>\n    <tr>\n      <th>0</th>\n      <td>1</td>\n      <td>Eagle Kit</td>\n      <td>10</td>\n      <td>120</td>\n    </tr>\n    <tr>\n      <th>1</th>\n      <td>1</td>\n      <td>Eagle Kit</td>\n      <td>10</td>\n      <td>120</td>\n    </tr>\n    <tr>\n      <th>2</th>\n      <td>1</td>\n      <td>Eagle Kit</td>\n      <td>10</td>\n      <td>120</td>\n    </tr>\n    <tr>\n      <th>3</th>\n      <td>1</td>\n      <td>Eagle Kit</td>\n      <td>10</td>\n      <td>120</td>\n    </tr>\n    <tr>\n      <th>4</th>\n      <td>1</td>\n      <td>Eagle Kit</td>\n      <td>10</td>\n      <td>120</td>\n    </tr>\n    <tr>\n      <th>...</th>\n      <td>...</td>\n      <td>...</td>\n      <td>...</td>\n      <td>...</td>\n    </tr>\n    <tr>\n      <th>1185</th>\n      <td>15</td>\n      <td>Kriket Light XL</td>\n      <td>190</td>\n      <td>40</td>\n    </tr>\n    <tr>\n      <th>1186</th>\n      <td>15</td>\n      <td>Kriket Light XL</td>\n      <td>190</td>\n      <td>40</td>\n    </tr>\n    <tr>\n      <th>1187</th>\n      <td>15</td>\n      <td>Kriket Light XL</td>\n      <td>200</td>\n      <td>40</td>\n    </tr>\n    <tr>\n      <th>1188</th>\n      <td>15</td>\n      <td>Kriket Light XL</td>\n      <td>200</td>\n      <td>40</td>\n    </tr>\n    <tr>\n      <th>1189</th>\n      <td>15</td>\n      <td>Kriket Light XL</td>\n      <td>200</td>\n      <td>40</td>\n    </tr>\n  </tbody>\n</table>\n<p>1190 rows × 4 columns</p>\n</div>"
          },
          "metadata": {}
        }
      ],
      "execution_count": 20
    },
    {
      "cell_type": "markdown",
      "source": "* Ajouter le Revenue da chaque produit au SELECT",
      "metadata": {
        "id": "hEFDL2cO98xQ"
      }
    },
    {
      "cell_type": "code",
      "source": "sql = \"\"\"\nSELECT PRODUCT.PRODUCT_ID,\n      PRODUCT_NAME,\n      QUANTITY,\n      PRICE,\n      QUANTITY * PRICE AS REVENUE\nFROM PRODUCT LEFT JOIN CUSTOMER_ORDER\nON PRODUCT.PRODUCT_ID = CUSTOMER_ORDER.PRODUCT_ID\n\"\"\"\npd.read_sql(sql,conn)",
      "metadata": {
        "colab": {
          "base_uri": "https://localhost:8080/",
          "height": 423
        },
        "id": "fvK9DPaH9rWF",
        "outputId": "aa711603-38f7-4acc-b337-63de2a44484c",
        "trusted": true
      },
      "outputs": [
        {
          "execution_count": 21,
          "output_type": "execute_result",
          "data": {
            "text/plain": "      PRODUCT_ID     PRODUCT_NAME  QUANTITY  PRICE  REVENUE\n0              1        Eagle Kit        10    120     1200\n1              1        Eagle Kit        10    120     1200\n2              1        Eagle Kit        10    120     1200\n3              1        Eagle Kit        10    120     1200\n4              1        Eagle Kit        10    120     1200\n...          ...              ...       ...    ...      ...\n1185          15  Kriket Light XL       190     40     7600\n1186          15  Kriket Light XL       190     40     7600\n1187          15  Kriket Light XL       200     40     8000\n1188          15  Kriket Light XL       200     40     8000\n1189          15  Kriket Light XL       200     40     8000\n\n[1190 rows x 5 columns]",
            "text/html": "<div>\n<style scoped>\n    .dataframe tbody tr th:only-of-type {\n        vertical-align: middle;\n    }\n\n    .dataframe tbody tr th {\n        vertical-align: top;\n    }\n\n    .dataframe thead th {\n        text-align: right;\n    }\n</style>\n<table border=\"1\" class=\"dataframe\">\n  <thead>\n    <tr style=\"text-align: right;\">\n      <th></th>\n      <th>PRODUCT_ID</th>\n      <th>PRODUCT_NAME</th>\n      <th>QUANTITY</th>\n      <th>PRICE</th>\n      <th>REVENUE</th>\n    </tr>\n  </thead>\n  <tbody>\n    <tr>\n      <th>0</th>\n      <td>1</td>\n      <td>Eagle Kit</td>\n      <td>10</td>\n      <td>120</td>\n      <td>1200</td>\n    </tr>\n    <tr>\n      <th>1</th>\n      <td>1</td>\n      <td>Eagle Kit</td>\n      <td>10</td>\n      <td>120</td>\n      <td>1200</td>\n    </tr>\n    <tr>\n      <th>2</th>\n      <td>1</td>\n      <td>Eagle Kit</td>\n      <td>10</td>\n      <td>120</td>\n      <td>1200</td>\n    </tr>\n    <tr>\n      <th>3</th>\n      <td>1</td>\n      <td>Eagle Kit</td>\n      <td>10</td>\n      <td>120</td>\n      <td>1200</td>\n    </tr>\n    <tr>\n      <th>4</th>\n      <td>1</td>\n      <td>Eagle Kit</td>\n      <td>10</td>\n      <td>120</td>\n      <td>1200</td>\n    </tr>\n    <tr>\n      <th>...</th>\n      <td>...</td>\n      <td>...</td>\n      <td>...</td>\n      <td>...</td>\n      <td>...</td>\n    </tr>\n    <tr>\n      <th>1185</th>\n      <td>15</td>\n      <td>Kriket Light XL</td>\n      <td>190</td>\n      <td>40</td>\n      <td>7600</td>\n    </tr>\n    <tr>\n      <th>1186</th>\n      <td>15</td>\n      <td>Kriket Light XL</td>\n      <td>190</td>\n      <td>40</td>\n      <td>7600</td>\n    </tr>\n    <tr>\n      <th>1187</th>\n      <td>15</td>\n      <td>Kriket Light XL</td>\n      <td>200</td>\n      <td>40</td>\n      <td>8000</td>\n    </tr>\n    <tr>\n      <th>1188</th>\n      <td>15</td>\n      <td>Kriket Light XL</td>\n      <td>200</td>\n      <td>40</td>\n      <td>8000</td>\n    </tr>\n    <tr>\n      <th>1189</th>\n      <td>15</td>\n      <td>Kriket Light XL</td>\n      <td>200</td>\n      <td>40</td>\n      <td>8000</td>\n    </tr>\n  </tbody>\n</table>\n<p>1190 rows × 5 columns</p>\n</div>"
          },
          "metadata": {}
        }
      ],
      "execution_count": 21
    },
    {
      "cell_type": "markdown",
      "source": "* Aggrégation avec SUM() et réponse Final",
      "metadata": {
        "id": "ReDptGUk-aTw"
      }
    },
    {
      "cell_type": "code",
      "source": "sql = \"\"\"\nSELECT PRODUCT.PRODUCT_ID,\n      PRODUCT_NAME,\n      SUM(QUANTITY * PRICE) AS TOTAL_REVENUE\nFROM PRODUCT LEFT JOIN CUSTOMER_ORDER\nON PRODUCT.PRODUCT_ID = CUSTOMER_ORDER.PRODUCT_ID\nGROUP BY PRODUCT.PRODUCT_ID, PRODUCT_NAME\nORDER BY TOTAL_REVENUE DESC\n\"\"\"\npd.read_sql(sql,conn)",
      "metadata": {
        "colab": {
          "base_uri": "https://localhost:8080/",
          "height": 519
        },
        "id": "Kax3L_n8-PI2",
        "outputId": "a0c802f1-a4d7-4b79-fccd-fa4f3a3b3535",
        "trusted": true
      },
      "outputs": [
        {
          "execution_count": 22,
          "output_type": "execute_result",
          "data": {
            "text/plain": "    PRODUCT_ID      PRODUCT_NAME  TOTAL_REVENUE\n0           12     Wolverine Kit        1101000\n1            6            Owl NV         924000\n2            1         Eagle Kit         772800\n3            2       Hawkeye Cam         630400\n4            8    Roadrunner Pro         615300\n5           14   Grasshopper Pro         460000\n6            7         Vulture X         425040\n7            4        Raven Klaw         353600\n8           13  Natterjack Light         352000\n9           15   Kriket Light XL         351600\n10           3     Sparrow Blade         339200\n11          10      Emu Handheld         272300\n12          11  Pelican Handheld         199500\n13           9    Falcon Tracker         183800\n14           5      Kriket Light         181750",
            "text/html": "<div>\n<style scoped>\n    .dataframe tbody tr th:only-of-type {\n        vertical-align: middle;\n    }\n\n    .dataframe tbody tr th {\n        vertical-align: top;\n    }\n\n    .dataframe thead th {\n        text-align: right;\n    }\n</style>\n<table border=\"1\" class=\"dataframe\">\n  <thead>\n    <tr style=\"text-align: right;\">\n      <th></th>\n      <th>PRODUCT_ID</th>\n      <th>PRODUCT_NAME</th>\n      <th>TOTAL_REVENUE</th>\n    </tr>\n  </thead>\n  <tbody>\n    <tr>\n      <th>0</th>\n      <td>12</td>\n      <td>Wolverine Kit</td>\n      <td>1101000</td>\n    </tr>\n    <tr>\n      <th>1</th>\n      <td>6</td>\n      <td>Owl NV</td>\n      <td>924000</td>\n    </tr>\n    <tr>\n      <th>2</th>\n      <td>1</td>\n      <td>Eagle Kit</td>\n      <td>772800</td>\n    </tr>\n    <tr>\n      <th>3</th>\n      <td>2</td>\n      <td>Hawkeye Cam</td>\n      <td>630400</td>\n    </tr>\n    <tr>\n      <th>4</th>\n      <td>8</td>\n      <td>Roadrunner Pro</td>\n      <td>615300</td>\n    </tr>\n    <tr>\n      <th>5</th>\n      <td>14</td>\n      <td>Grasshopper Pro</td>\n      <td>460000</td>\n    </tr>\n    <tr>\n      <th>6</th>\n      <td>7</td>\n      <td>Vulture X</td>\n      <td>425040</td>\n    </tr>\n    <tr>\n      <th>7</th>\n      <td>4</td>\n      <td>Raven Klaw</td>\n      <td>353600</td>\n    </tr>\n    <tr>\n      <th>8</th>\n      <td>13</td>\n      <td>Natterjack Light</td>\n      <td>352000</td>\n    </tr>\n    <tr>\n      <th>9</th>\n      <td>15</td>\n      <td>Kriket Light XL</td>\n      <td>351600</td>\n    </tr>\n    <tr>\n      <th>10</th>\n      <td>3</td>\n      <td>Sparrow Blade</td>\n      <td>339200</td>\n    </tr>\n    <tr>\n      <th>11</th>\n      <td>10</td>\n      <td>Emu Handheld</td>\n      <td>272300</td>\n    </tr>\n    <tr>\n      <th>12</th>\n      <td>11</td>\n      <td>Pelican Handheld</td>\n      <td>199500</td>\n    </tr>\n    <tr>\n      <th>13</th>\n      <td>9</td>\n      <td>Falcon Tracker</td>\n      <td>183800</td>\n    </tr>\n    <tr>\n      <th>14</th>\n      <td>5</td>\n      <td>Kriket Light</td>\n      <td>181750</td>\n    </tr>\n  </tbody>\n</table>\n</div>"
          },
          "metadata": {}
        }
      ],
      "execution_count": 22
    }
  ]
}
