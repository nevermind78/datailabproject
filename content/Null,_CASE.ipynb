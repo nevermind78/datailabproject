{
  "metadata": {
    "kernelspec": {
      "name": "python",
      "display_name": "Python (Pyodide)",
      "language": "python"
    },
    "language_info": {
      "codemirror_mode": {
        "name": "python",
        "version": 3
      },
      "file_extension": ".py",
      "mimetype": "text/x-python",
      "name": "python",
      "nbconvert_exporter": "python",
      "pygments_lexer": "ipython3",
      "version": "3.8"
    },
    "colab": {
      "provenance": []
    }
  },
  "nbformat_minor": 4,
  "nbformat": 4,
  "cells": [
    {
      "cell_type": "markdown",
      "source": "# Null, CASE\n\nNous couvrirons les expressions **NULL** et **CASE** dans cette section. Une valeur **NULL** n'est pas une valeur, tout comme un **None** ou **NaN** en Python indique une valeur vide. L'expression **CASE** nous permet d'associer des conditions aux valeurs résultantes, un peu comme un **if/ elif else** en Python.\n",
      "metadata": {
        "id": "SUUbQb441qcj"
      }
    },
    {
      "cell_type": "markdown",
      "source": "# SET UP",
      "metadata": {
        "id": "LIhdEwh82lhG"
      }
    },
    {
      "cell_type": "code",
      "source": "%pip install -q ipywidgets pandas matplotlib sqlite3 ipython-sql",
      "metadata": {
        "trusted": true
      },
      "outputs": [],
      "execution_count": 14
    },
    {
      "cell_type": "code",
      "source": "import sqlite3\nimport pandas as pd\n\n\n\nconn = sqlite3.connect('data/company_operations.db')",
      "metadata": {
        "id": "E3idisKE2e3S",
        "trusted": true
      },
      "outputs": [],
      "execution_count": 2
    },
    {
      "cell_type": "markdown",
      "source": "# Valeurs NULL\n\nJeter un coup d'oeil sur les rapports suivants : 'LJVE08D', 'EP4AKZR', '1FC27OH', 'F4DEAK3' se trouvant dans la table WEATHER_MONITOR\n",
      "metadata": {
        "id": "6l7Kyrlp3FOm"
      }
    },
    {
      "cell_type": "code",
      "source": "sql=\"\"\"\nSELECT * FROM WEATHER_MONITOR\nWHERE REPORT_CODE IN ('LJVE08D', 'EP4AKZR', '1FC27OH', 'F4DEAK3')\n\"\"\"\npd.read_sql(sql,conn)",
      "metadata": {
        "colab": {
          "base_uri": "https://localhost:8080/",
          "height": 155
        },
        "id": "nJ1OxMw329Gj",
        "outputId": "9854dab1-e16a-4d12-b2c9-616ad358d0f0",
        "trusted": true
      },
      "outputs": [
        {
          "execution_count": 4,
          "output_type": "execute_result",
          "data": {
            "text/plain": "     ID REPORT_CODE REPORT_DATE  LOCATION_ID  TEMPERATURE  OVERCAST  RAIN  \\\n0    45     EP4AKZR  2021-03-11           32         64.5         0   NaN   \n1    98     LJVE08D  2021-04-09           45         58.8         1   NaN   \n2  1449     F4DEAK3  2021-01-15           17         35.3         1   0.0   \n3  2967     1FC27OH  2020-12-01           16         89.7         0   NaN   \n\n   SNOW  LIGHTNING  HAIL  TORNADO  \n0   0.0          0     0        0  \n1   0.0          0     0        0  \n2   NaN          0     0        0  \n3   0.0          0     0        0  ",
            "text/html": "<div>\n<style scoped>\n    .dataframe tbody tr th:only-of-type {\n        vertical-align: middle;\n    }\n\n    .dataframe tbody tr th {\n        vertical-align: top;\n    }\n\n    .dataframe thead th {\n        text-align: right;\n    }\n</style>\n<table border=\"1\" class=\"dataframe\">\n  <thead>\n    <tr style=\"text-align: right;\">\n      <th></th>\n      <th>ID</th>\n      <th>REPORT_CODE</th>\n      <th>REPORT_DATE</th>\n      <th>LOCATION_ID</th>\n      <th>TEMPERATURE</th>\n      <th>OVERCAST</th>\n      <th>RAIN</th>\n      <th>SNOW</th>\n      <th>LIGHTNING</th>\n      <th>HAIL</th>\n      <th>TORNADO</th>\n    </tr>\n  </thead>\n  <tbody>\n    <tr>\n      <th>0</th>\n      <td>45</td>\n      <td>EP4AKZR</td>\n      <td>2021-03-11</td>\n      <td>32</td>\n      <td>64.5</td>\n      <td>0</td>\n      <td>NaN</td>\n      <td>0.0</td>\n      <td>0</td>\n      <td>0</td>\n      <td>0</td>\n    </tr>\n    <tr>\n      <th>1</th>\n      <td>98</td>\n      <td>LJVE08D</td>\n      <td>2021-04-09</td>\n      <td>45</td>\n      <td>58.8</td>\n      <td>1</td>\n      <td>NaN</td>\n      <td>0.0</td>\n      <td>0</td>\n      <td>0</td>\n      <td>0</td>\n    </tr>\n    <tr>\n      <th>2</th>\n      <td>1449</td>\n      <td>F4DEAK3</td>\n      <td>2021-01-15</td>\n      <td>17</td>\n      <td>35.3</td>\n      <td>1</td>\n      <td>0.0</td>\n      <td>NaN</td>\n      <td>0</td>\n      <td>0</td>\n      <td>0</td>\n    </tr>\n    <tr>\n      <th>3</th>\n      <td>2967</td>\n      <td>1FC27OH</td>\n      <td>2020-12-01</td>\n      <td>16</td>\n      <td>89.7</td>\n      <td>0</td>\n      <td>NaN</td>\n      <td>0.0</td>\n      <td>0</td>\n      <td>0</td>\n      <td>0</td>\n    </tr>\n  </tbody>\n</table>\n</div>"
          },
          "metadata": {}
        }
      ],
      "execution_count": 4
    },
    {
      "cell_type": "markdown",
      "source": "* Donner tous les enregistrements tels que RAIN contient une valeur Null ( None )\n\n| | ID | RAPPORT_CODE | RAPPORT_DATE | LOCATION_ID | TEMPERATURE | OVERCAST | RAIN | SNOW | LIGHTNING | HAIL | TORNADO |\n|----:|-----:|:--------------|:--------------|--------------:|--------------:|-----------:|:-------|-------:|------------:|-------:|----------:|\n| 0 | 9 | G0UINBG | 2021-05-04 | 14 | 62.2 | 1 |None | 0 | 0 | 0 | 0 |\n| 1 | 17 | 89U7PF3 | 2021-05-02 | 2 | 67,8 | 0 |None | 0 | 0 | 0 | 0 |\n| 2 | 45 | EP4AKZR | 2021-03-11 | 32 | 64,5 | 0 |None | 0 | 0 | 0 | 0 |\n| 3 | 80 | EPQO1H8 | 2021-05-09 | 31 | 54.1 | 0 |None | 0 | 0 | 0 | 0 |\n| 159 | 2967 | 1FC27OH | 2020-12-01 | 16 | 89,7 | 0 |None | 0 | 0 | 0 | 0 |\n| 160 | 2973 | OXDUXW5 | 2020-11-02 | 44 | 100,2 | 1 |None | 0 | 0 | 0 | 0 |\n| 161 | 2975 | EA8O3S0 | 2020-12-01 | 6 | 92.2 | 1 |None | 0 | 0 | 0 | 0 |\n\n\n\n",
      "metadata": {
        "id": "zlMA-yAQ4_xn"
      }
    },
    {
      "cell_type": "code",
      "source": "sql =\"\"\"\nSELECT * FROM WEATHER_MONITOR\n-- filtrer les null : IS NULL\nWHERE RAIN IS NULL\n\"\"\"\npd.read_sql(sql,conn).tail(3)",
      "metadata": {
        "colab": {
          "base_uri": "https://localhost:8080/",
          "height": 143
        },
        "id": "yf3lLt7k36l-",
        "outputId": "99437a43-dd81-4f6f-b58b-519862d6a828",
        "trusted": true
      },
      "outputs": [
        {
          "execution_count": 5,
          "output_type": "execute_result",
          "data": {
            "text/plain": "       ID REPORT_CODE REPORT_DATE  LOCATION_ID  TEMPERATURE  OVERCAST  RAIN  \\\n159  2967     1FC27OH  2020-12-01           16         89.7         0  None   \n160  2973     OXDUXW5  2020-11-02           44        100.2         1  None   \n161  2975     EA8O3S0  2020-12-01            6         92.2         1  None   \n\n     SNOW  LIGHTNING  HAIL  TORNADO  \n159   0.0          0     0        0  \n160   0.0          0     0        0  \n161   0.0          0     0        0  ",
            "text/html": "<div>\n<style scoped>\n    .dataframe tbody tr th:only-of-type {\n        vertical-align: middle;\n    }\n\n    .dataframe tbody tr th {\n        vertical-align: top;\n    }\n\n    .dataframe thead th {\n        text-align: right;\n    }\n</style>\n<table border=\"1\" class=\"dataframe\">\n  <thead>\n    <tr style=\"text-align: right;\">\n      <th></th>\n      <th>ID</th>\n      <th>REPORT_CODE</th>\n      <th>REPORT_DATE</th>\n      <th>LOCATION_ID</th>\n      <th>TEMPERATURE</th>\n      <th>OVERCAST</th>\n      <th>RAIN</th>\n      <th>SNOW</th>\n      <th>LIGHTNING</th>\n      <th>HAIL</th>\n      <th>TORNADO</th>\n    </tr>\n  </thead>\n  <tbody>\n    <tr>\n      <th>159</th>\n      <td>2967</td>\n      <td>1FC27OH</td>\n      <td>2020-12-01</td>\n      <td>16</td>\n      <td>89.7</td>\n      <td>0</td>\n      <td>None</td>\n      <td>0.0</td>\n      <td>0</td>\n      <td>0</td>\n      <td>0</td>\n    </tr>\n    <tr>\n      <th>160</th>\n      <td>2973</td>\n      <td>OXDUXW5</td>\n      <td>2020-11-02</td>\n      <td>44</td>\n      <td>100.2</td>\n      <td>1</td>\n      <td>None</td>\n      <td>0.0</td>\n      <td>0</td>\n      <td>0</td>\n      <td>0</td>\n    </tr>\n    <tr>\n      <th>161</th>\n      <td>2975</td>\n      <td>EA8O3S0</td>\n      <td>2020-12-01</td>\n      <td>6</td>\n      <td>92.2</td>\n      <td>1</td>\n      <td>None</td>\n      <td>0.0</td>\n      <td>0</td>\n      <td>0</td>\n      <td>0</td>\n    </tr>\n  </tbody>\n</table>\n</div>"
          },
          "metadata": {}
        }
      ],
      "execution_count": 5
    },
    {
      "cell_type": "markdown",
      "source": "* Filtrer les valeurs telsque RAIN est non NULL",
      "metadata": {
        "id": "B9a_9BTu7f3G"
      }
    },
    {
      "cell_type": "code",
      "source": "sql =\"\"\"\nSELECT * FROM WEATHER_MONITOR\n-- filtrer les NON null : IS NOT NULL\nWHERE RAIN IS NOT NULL\n\"\"\"\npd.read_sql(sql,conn)",
      "metadata": {
        "colab": {
          "base_uri": "https://localhost:8080/",
          "height": 423
        },
        "id": "VJZFyrgG62kB",
        "outputId": "b48e2283-4494-4509-e3d5-ca85efbc8176",
        "trusted": true
      },
      "outputs": [
        {
          "execution_count": 6,
          "output_type": "execute_result",
          "data": {
            "text/plain": "        ID REPORT_CODE REPORT_DATE  LOCATION_ID  TEMPERATURE  OVERCAST  RAIN  \\\n0        1     UVYMMWW  2021-03-20            0         66.0         1  3.74   \n1        2     7VVYE2L  2021-04-10           24         61.3         0  0.00   \n2        3     PJVNOSP  2021-02-26           32         61.6         1  1.58   \n3        4     3B19P7S  2021-05-30           39         66.3         0  0.00   \n4        5     EHVUPGY  2021-04-09           48         58.5         0  0.00   \n...    ...         ...         ...          ...          ...       ...   ...   \n2833  2996     RWG4DY4  2020-11-26            6        106.6         1  0.00   \n2834  2997     9A9EQNQ  2020-11-29           12         85.8         1  2.24   \n2835  2998     C7ALVIK  2021-01-14           48         96.8         0  0.00   \n2836  2999     V660AWC  2021-01-10           29        103.6         1  2.73   \n2837  3000     IC35HCE  2021-01-07           48         64.0         1  2.32   \n\n      SNOW  LIGHTNING  HAIL  TORNADO  \n0      0.0          0     0        0  \n1      0.0          0     0        0  \n2      0.0          0     0        0  \n3      0.0          0     0        0  \n4      0.0          0     0        0  \n...    ...        ...   ...      ...  \n2833   0.0          0     0        0  \n2834   0.0          0     0        0  \n2835   0.0          0     0        0  \n2836   0.0          0     0        0  \n2837   0.0          0     0        0  \n\n[2838 rows x 11 columns]",
            "text/html": "<div>\n<style scoped>\n    .dataframe tbody tr th:only-of-type {\n        vertical-align: middle;\n    }\n\n    .dataframe tbody tr th {\n        vertical-align: top;\n    }\n\n    .dataframe thead th {\n        text-align: right;\n    }\n</style>\n<table border=\"1\" class=\"dataframe\">\n  <thead>\n    <tr style=\"text-align: right;\">\n      <th></th>\n      <th>ID</th>\n      <th>REPORT_CODE</th>\n      <th>REPORT_DATE</th>\n      <th>LOCATION_ID</th>\n      <th>TEMPERATURE</th>\n      <th>OVERCAST</th>\n      <th>RAIN</th>\n      <th>SNOW</th>\n      <th>LIGHTNING</th>\n      <th>HAIL</th>\n      <th>TORNADO</th>\n    </tr>\n  </thead>\n  <tbody>\n    <tr>\n      <th>0</th>\n      <td>1</td>\n      <td>UVYMMWW</td>\n      <td>2021-03-20</td>\n      <td>0</td>\n      <td>66.0</td>\n      <td>1</td>\n      <td>3.74</td>\n      <td>0.0</td>\n      <td>0</td>\n      <td>0</td>\n      <td>0</td>\n    </tr>\n    <tr>\n      <th>1</th>\n      <td>2</td>\n      <td>7VVYE2L</td>\n      <td>2021-04-10</td>\n      <td>24</td>\n      <td>61.3</td>\n      <td>0</td>\n      <td>0.00</td>\n      <td>0.0</td>\n      <td>0</td>\n      <td>0</td>\n      <td>0</td>\n    </tr>\n    <tr>\n      <th>2</th>\n      <td>3</td>\n      <td>PJVNOSP</td>\n      <td>2021-02-26</td>\n      <td>32</td>\n      <td>61.6</td>\n      <td>1</td>\n      <td>1.58</td>\n      <td>0.0</td>\n      <td>0</td>\n      <td>0</td>\n      <td>0</td>\n    </tr>\n    <tr>\n      <th>3</th>\n      <td>4</td>\n      <td>3B19P7S</td>\n      <td>2021-05-30</td>\n      <td>39</td>\n      <td>66.3</td>\n      <td>0</td>\n      <td>0.00</td>\n      <td>0.0</td>\n      <td>0</td>\n      <td>0</td>\n      <td>0</td>\n    </tr>\n    <tr>\n      <th>4</th>\n      <td>5</td>\n      <td>EHVUPGY</td>\n      <td>2021-04-09</td>\n      <td>48</td>\n      <td>58.5</td>\n      <td>0</td>\n      <td>0.00</td>\n      <td>0.0</td>\n      <td>0</td>\n      <td>0</td>\n      <td>0</td>\n    </tr>\n    <tr>\n      <th>...</th>\n      <td>...</td>\n      <td>...</td>\n      <td>...</td>\n      <td>...</td>\n      <td>...</td>\n      <td>...</td>\n      <td>...</td>\n      <td>...</td>\n      <td>...</td>\n      <td>...</td>\n      <td>...</td>\n    </tr>\n    <tr>\n      <th>2833</th>\n      <td>2996</td>\n      <td>RWG4DY4</td>\n      <td>2020-11-26</td>\n      <td>6</td>\n      <td>106.6</td>\n      <td>1</td>\n      <td>0.00</td>\n      <td>0.0</td>\n      <td>0</td>\n      <td>0</td>\n      <td>0</td>\n    </tr>\n    <tr>\n      <th>2834</th>\n      <td>2997</td>\n      <td>9A9EQNQ</td>\n      <td>2020-11-29</td>\n      <td>12</td>\n      <td>85.8</td>\n      <td>1</td>\n      <td>2.24</td>\n      <td>0.0</td>\n      <td>0</td>\n      <td>0</td>\n      <td>0</td>\n    </tr>\n    <tr>\n      <th>2835</th>\n      <td>2998</td>\n      <td>C7ALVIK</td>\n      <td>2021-01-14</td>\n      <td>48</td>\n      <td>96.8</td>\n      <td>0</td>\n      <td>0.00</td>\n      <td>0.0</td>\n      <td>0</td>\n      <td>0</td>\n      <td>0</td>\n    </tr>\n    <tr>\n      <th>2836</th>\n      <td>2999</td>\n      <td>V660AWC</td>\n      <td>2021-01-10</td>\n      <td>29</td>\n      <td>103.6</td>\n      <td>1</td>\n      <td>2.73</td>\n      <td>0.0</td>\n      <td>0</td>\n      <td>0</td>\n      <td>0</td>\n    </tr>\n    <tr>\n      <th>2837</th>\n      <td>3000</td>\n      <td>IC35HCE</td>\n      <td>2021-01-07</td>\n      <td>48</td>\n      <td>64.0</td>\n      <td>1</td>\n      <td>2.32</td>\n      <td>0.0</td>\n      <td>0</td>\n      <td>0</td>\n      <td>0</td>\n    </tr>\n  </tbody>\n</table>\n<p>2838 rows × 11 columns</p>\n</div>"
          },
          "metadata": {}
        }
      ],
      "execution_count": 6
    },
    {
      "cell_type": "markdown",
      "source": "* Filtrer RAIN avec al conditions RAIN > 0 exclu automatiquement les valeurs NULL",
      "metadata": {
        "id": "6tth5Qda8PAx"
      }
    },
    {
      "cell_type": "code",
      "source": "sql =\"\"\"\nSELECT * FROM WEATHER_MONITOR\nWHERE RAIN > 0\n\"\"\"\npd.read_sql(sql,conn)",
      "metadata": {
        "colab": {
          "base_uri": "https://localhost:8080/",
          "height": 423
        },
        "id": "cFv4Ibvv7pYx",
        "outputId": "540fe2c6-5114-43f8-94c8-7b37be7b18a3",
        "trusted": true
      },
      "outputs": [
        {
          "execution_count": 7,
          "output_type": "execute_result",
          "data": {
            "text/plain": "       ID REPORT_CODE REPORT_DATE  LOCATION_ID  TEMPERATURE  OVERCAST  RAIN  \\\n0       1     UVYMMWW  2021-03-20            0         66.0         1  3.74   \n1       3     PJVNOSP  2021-02-26           32         61.6         1  1.58   \n2       8     R238Q5U  2021-05-15           39         62.9         1  1.45   \n3      14     DWGYB58  2021-05-01           17         60.0         1  2.92   \n4      15     6ALC472  2021-05-22            1         56.2         1  2.45   \n..    ...         ...         ...          ...          ...       ...   ...   \n825  2991     B92HYWK  2020-11-30           17         98.3         1  0.91   \n826  2995     XV1UQZ4  2021-01-15            6         89.8         1  1.69   \n827  2997     9A9EQNQ  2020-11-29           12         85.8         1  2.24   \n828  2999     V660AWC  2021-01-10           29        103.6         1  2.73   \n829  3000     IC35HCE  2021-01-07           48         64.0         1  2.32   \n\n     SNOW  LIGHTNING  HAIL  TORNADO  \n0     0.0          0     0        0  \n1     0.0          0     0        0  \n2     0.0          0     0        0  \n3     0.0          1     0        0  \n4     0.0          0     0        0  \n..    ...        ...   ...      ...  \n825   0.0          0     0        0  \n826   0.0          0     0        0  \n827   0.0          0     0        0  \n828   0.0          0     0        0  \n829   0.0          0     0        0  \n\n[830 rows x 11 columns]",
            "text/html": "<div>\n<style scoped>\n    .dataframe tbody tr th:only-of-type {\n        vertical-align: middle;\n    }\n\n    .dataframe tbody tr th {\n        vertical-align: top;\n    }\n\n    .dataframe thead th {\n        text-align: right;\n    }\n</style>\n<table border=\"1\" class=\"dataframe\">\n  <thead>\n    <tr style=\"text-align: right;\">\n      <th></th>\n      <th>ID</th>\n      <th>REPORT_CODE</th>\n      <th>REPORT_DATE</th>\n      <th>LOCATION_ID</th>\n      <th>TEMPERATURE</th>\n      <th>OVERCAST</th>\n      <th>RAIN</th>\n      <th>SNOW</th>\n      <th>LIGHTNING</th>\n      <th>HAIL</th>\n      <th>TORNADO</th>\n    </tr>\n  </thead>\n  <tbody>\n    <tr>\n      <th>0</th>\n      <td>1</td>\n      <td>UVYMMWW</td>\n      <td>2021-03-20</td>\n      <td>0</td>\n      <td>66.0</td>\n      <td>1</td>\n      <td>3.74</td>\n      <td>0.0</td>\n      <td>0</td>\n      <td>0</td>\n      <td>0</td>\n    </tr>\n    <tr>\n      <th>1</th>\n      <td>3</td>\n      <td>PJVNOSP</td>\n      <td>2021-02-26</td>\n      <td>32</td>\n      <td>61.6</td>\n      <td>1</td>\n      <td>1.58</td>\n      <td>0.0</td>\n      <td>0</td>\n      <td>0</td>\n      <td>0</td>\n    </tr>\n    <tr>\n      <th>2</th>\n      <td>8</td>\n      <td>R238Q5U</td>\n      <td>2021-05-15</td>\n      <td>39</td>\n      <td>62.9</td>\n      <td>1</td>\n      <td>1.45</td>\n      <td>0.0</td>\n      <td>0</td>\n      <td>0</td>\n      <td>0</td>\n    </tr>\n    <tr>\n      <th>3</th>\n      <td>14</td>\n      <td>DWGYB58</td>\n      <td>2021-05-01</td>\n      <td>17</td>\n      <td>60.0</td>\n      <td>1</td>\n      <td>2.92</td>\n      <td>0.0</td>\n      <td>1</td>\n      <td>0</td>\n      <td>0</td>\n    </tr>\n    <tr>\n      <th>4</th>\n      <td>15</td>\n      <td>6ALC472</td>\n      <td>2021-05-22</td>\n      <td>1</td>\n      <td>56.2</td>\n      <td>1</td>\n      <td>2.45</td>\n      <td>0.0</td>\n      <td>0</td>\n      <td>0</td>\n      <td>0</td>\n    </tr>\n    <tr>\n      <th>...</th>\n      <td>...</td>\n      <td>...</td>\n      <td>...</td>\n      <td>...</td>\n      <td>...</td>\n      <td>...</td>\n      <td>...</td>\n      <td>...</td>\n      <td>...</td>\n      <td>...</td>\n      <td>...</td>\n    </tr>\n    <tr>\n      <th>825</th>\n      <td>2991</td>\n      <td>B92HYWK</td>\n      <td>2020-11-30</td>\n      <td>17</td>\n      <td>98.3</td>\n      <td>1</td>\n      <td>0.91</td>\n      <td>0.0</td>\n      <td>0</td>\n      <td>0</td>\n      <td>0</td>\n    </tr>\n    <tr>\n      <th>826</th>\n      <td>2995</td>\n      <td>XV1UQZ4</td>\n      <td>2021-01-15</td>\n      <td>6</td>\n      <td>89.8</td>\n      <td>1</td>\n      <td>1.69</td>\n      <td>0.0</td>\n      <td>0</td>\n      <td>0</td>\n      <td>0</td>\n    </tr>\n    <tr>\n      <th>827</th>\n      <td>2997</td>\n      <td>9A9EQNQ</td>\n      <td>2020-11-29</td>\n      <td>12</td>\n      <td>85.8</td>\n      <td>1</td>\n      <td>2.24</td>\n      <td>0.0</td>\n      <td>0</td>\n      <td>0</td>\n      <td>0</td>\n    </tr>\n    <tr>\n      <th>828</th>\n      <td>2999</td>\n      <td>V660AWC</td>\n      <td>2021-01-10</td>\n      <td>29</td>\n      <td>103.6</td>\n      <td>1</td>\n      <td>2.73</td>\n      <td>0.0</td>\n      <td>0</td>\n      <td>0</td>\n      <td>0</td>\n    </tr>\n    <tr>\n      <th>829</th>\n      <td>3000</td>\n      <td>IC35HCE</td>\n      <td>2021-01-07</td>\n      <td>48</td>\n      <td>64.0</td>\n      <td>1</td>\n      <td>2.32</td>\n      <td>0.0</td>\n      <td>0</td>\n      <td>0</td>\n      <td>0</td>\n    </tr>\n  </tbody>\n</table>\n<p>830 rows × 11 columns</p>\n</div>"
          },
          "metadata": {}
        }
      ],
      "execution_count": 7
    },
    {
      "cell_type": "markdown",
      "source": "* Filtrer les valurs de RAIN > 0 **OU** les valeurs NULL",
      "metadata": {
        "id": "XtJr6RzP8dJ5"
      }
    },
    {
      "cell_type": "code",
      "source": "sql =\"\"\"\nSELECT * FROM WEATHER_MONITOR\nWHERE RAIN > 0 OR RAIN IS NULL\n\"\"\"\npd.read_sql(sql,conn).head(10)",
      "metadata": {
        "colab": {
          "base_uri": "https://localhost:8080/",
          "height": 363
        },
        "id": "Zk9EigbR8Gyw",
        "outputId": "39a4ff3f-6edd-46c2-a60a-22c3a8627229",
        "trusted": true
      },
      "outputs": [
        {
          "execution_count": 8,
          "output_type": "execute_result",
          "data": {
            "text/plain": "   ID REPORT_CODE REPORT_DATE  LOCATION_ID  TEMPERATURE  OVERCAST  RAIN  SNOW  \\\n0   1     UVYMMWW  2021-03-20            0         66.0         1  3.74   0.0   \n1   3     PJVNOSP  2021-02-26           32         61.6         1  1.58   0.0   \n2   8     R238Q5U  2021-05-15           39         62.9         1  1.45   0.0   \n3   9     G0UINBG  2021-05-04           14         62.2         1   NaN   0.0   \n4  14     DWGYB58  2021-05-01           17         60.0         1  2.92   0.0   \n5  15     6ALC472  2021-05-22            1         56.2         1  2.45   0.0   \n6  16     H3TOK27  2021-03-15           46         69.4         1  3.16   0.0   \n7  17     89U7PF3  2021-05-02            2         67.8         0   NaN   0.0   \n8  18     OBO0LTC  2021-02-09           47         59.5         1  3.00   0.0   \n9  20     H9C85JV  2021-05-14            9         60.6         1  2.31   0.0   \n\n   LIGHTNING  HAIL  TORNADO  \n0          0     0        0  \n1          0     0        0  \n2          0     0        0  \n3          0     0        0  \n4          1     0        0  \n5          0     0        0  \n6          1     1        1  \n7          0     0        0  \n8          1     0        0  \n9          0     0        0  ",
            "text/html": "<div>\n<style scoped>\n    .dataframe tbody tr th:only-of-type {\n        vertical-align: middle;\n    }\n\n    .dataframe tbody tr th {\n        vertical-align: top;\n    }\n\n    .dataframe thead th {\n        text-align: right;\n    }\n</style>\n<table border=\"1\" class=\"dataframe\">\n  <thead>\n    <tr style=\"text-align: right;\">\n      <th></th>\n      <th>ID</th>\n      <th>REPORT_CODE</th>\n      <th>REPORT_DATE</th>\n      <th>LOCATION_ID</th>\n      <th>TEMPERATURE</th>\n      <th>OVERCAST</th>\n      <th>RAIN</th>\n      <th>SNOW</th>\n      <th>LIGHTNING</th>\n      <th>HAIL</th>\n      <th>TORNADO</th>\n    </tr>\n  </thead>\n  <tbody>\n    <tr>\n      <th>0</th>\n      <td>1</td>\n      <td>UVYMMWW</td>\n      <td>2021-03-20</td>\n      <td>0</td>\n      <td>66.0</td>\n      <td>1</td>\n      <td>3.74</td>\n      <td>0.0</td>\n      <td>0</td>\n      <td>0</td>\n      <td>0</td>\n    </tr>\n    <tr>\n      <th>1</th>\n      <td>3</td>\n      <td>PJVNOSP</td>\n      <td>2021-02-26</td>\n      <td>32</td>\n      <td>61.6</td>\n      <td>1</td>\n      <td>1.58</td>\n      <td>0.0</td>\n      <td>0</td>\n      <td>0</td>\n      <td>0</td>\n    </tr>\n    <tr>\n      <th>2</th>\n      <td>8</td>\n      <td>R238Q5U</td>\n      <td>2021-05-15</td>\n      <td>39</td>\n      <td>62.9</td>\n      <td>1</td>\n      <td>1.45</td>\n      <td>0.0</td>\n      <td>0</td>\n      <td>0</td>\n      <td>0</td>\n    </tr>\n    <tr>\n      <th>3</th>\n      <td>9</td>\n      <td>G0UINBG</td>\n      <td>2021-05-04</td>\n      <td>14</td>\n      <td>62.2</td>\n      <td>1</td>\n      <td>NaN</td>\n      <td>0.0</td>\n      <td>0</td>\n      <td>0</td>\n      <td>0</td>\n    </tr>\n    <tr>\n      <th>4</th>\n      <td>14</td>\n      <td>DWGYB58</td>\n      <td>2021-05-01</td>\n      <td>17</td>\n      <td>60.0</td>\n      <td>1</td>\n      <td>2.92</td>\n      <td>0.0</td>\n      <td>1</td>\n      <td>0</td>\n      <td>0</td>\n    </tr>\n    <tr>\n      <th>5</th>\n      <td>15</td>\n      <td>6ALC472</td>\n      <td>2021-05-22</td>\n      <td>1</td>\n      <td>56.2</td>\n      <td>1</td>\n      <td>2.45</td>\n      <td>0.0</td>\n      <td>0</td>\n      <td>0</td>\n      <td>0</td>\n    </tr>\n    <tr>\n      <th>6</th>\n      <td>16</td>\n      <td>H3TOK27</td>\n      <td>2021-03-15</td>\n      <td>46</td>\n      <td>69.4</td>\n      <td>1</td>\n      <td>3.16</td>\n      <td>0.0</td>\n      <td>1</td>\n      <td>1</td>\n      <td>1</td>\n    </tr>\n    <tr>\n      <th>7</th>\n      <td>17</td>\n      <td>89U7PF3</td>\n      <td>2021-05-02</td>\n      <td>2</td>\n      <td>67.8</td>\n      <td>0</td>\n      <td>NaN</td>\n      <td>0.0</td>\n      <td>0</td>\n      <td>0</td>\n      <td>0</td>\n    </tr>\n    <tr>\n      <th>8</th>\n      <td>18</td>\n      <td>OBO0LTC</td>\n      <td>2021-02-09</td>\n      <td>47</td>\n      <td>59.5</td>\n      <td>1</td>\n      <td>3.00</td>\n      <td>0.0</td>\n      <td>1</td>\n      <td>0</td>\n      <td>0</td>\n    </tr>\n    <tr>\n      <th>9</th>\n      <td>20</td>\n      <td>H9C85JV</td>\n      <td>2021-05-14</td>\n      <td>9</td>\n      <td>60.6</td>\n      <td>1</td>\n      <td>2.31</td>\n      <td>0.0</td>\n      <td>0</td>\n      <td>0</td>\n      <td>0</td>\n    </tr>\n  </tbody>\n</table>\n</div>"
          },
          "metadata": {}
        }
      ],
      "execution_count": 8
    },
    {
      "cell_type": "markdown",
      "source": "# COALESCE()\n\nConvertie la valeur Null en une une valeur définie par l'utilisateur\n```sql\n-- convertir toutes les valeurs qui sont Null dans la colonne RAIN par 0 , et laisser les autres valeurs tels quelles sont\nCOALESCE(RAIN,0)\n```\n",
      "metadata": {
        "id": "MC-eHGLY9D0N"
      }
    },
    {
      "cell_type": "code",
      "source": "sql =\"\"\"\nSELECT RAIN,COALESCE(RAIN,0) AS COALESCE_  FROM WEATHER_MONITOR\n\"\"\"\npd.read_sql(sql,conn).head(20)",
      "metadata": {
        "colab": {
          "base_uri": "https://localhost:8080/",
          "height": 676
        },
        "id": "8BMjrr8d8vQE",
        "outputId": "38374d39-ec60-40a4-d821-6fa68f4a145b",
        "trusted": true
      },
      "outputs": [
        {
          "execution_count": 9,
          "output_type": "execute_result",
          "data": {
            "text/plain": "    RAIN  COALESCE_\n0   3.74       3.74\n1   0.00       0.00\n2   1.58       1.58\n3   0.00       0.00\n4   0.00       0.00\n5   0.00       0.00\n6   0.00       0.00\n7   1.45       1.45\n8    NaN       0.00\n9   0.00       0.00\n10  0.00       0.00\n11  0.00       0.00\n12  0.00       0.00\n13  2.92       2.92\n14  2.45       2.45\n15  3.16       3.16\n16   NaN       0.00\n17  3.00       3.00\n18  0.00       0.00\n19  2.31       2.31",
            "text/html": "<div>\n<style scoped>\n    .dataframe tbody tr th:only-of-type {\n        vertical-align: middle;\n    }\n\n    .dataframe tbody tr th {\n        vertical-align: top;\n    }\n\n    .dataframe thead th {\n        text-align: right;\n    }\n</style>\n<table border=\"1\" class=\"dataframe\">\n  <thead>\n    <tr style=\"text-align: right;\">\n      <th></th>\n      <th>RAIN</th>\n      <th>COALESCE_</th>\n    </tr>\n  </thead>\n  <tbody>\n    <tr>\n      <th>0</th>\n      <td>3.74</td>\n      <td>3.74</td>\n    </tr>\n    <tr>\n      <th>1</th>\n      <td>0.00</td>\n      <td>0.00</td>\n    </tr>\n    <tr>\n      <th>2</th>\n      <td>1.58</td>\n      <td>1.58</td>\n    </tr>\n    <tr>\n      <th>3</th>\n      <td>0.00</td>\n      <td>0.00</td>\n    </tr>\n    <tr>\n      <th>4</th>\n      <td>0.00</td>\n      <td>0.00</td>\n    </tr>\n    <tr>\n      <th>5</th>\n      <td>0.00</td>\n      <td>0.00</td>\n    </tr>\n    <tr>\n      <th>6</th>\n      <td>0.00</td>\n      <td>0.00</td>\n    </tr>\n    <tr>\n      <th>7</th>\n      <td>1.45</td>\n      <td>1.45</td>\n    </tr>\n    <tr>\n      <th>8</th>\n      <td>NaN</td>\n      <td>0.00</td>\n    </tr>\n    <tr>\n      <th>9</th>\n      <td>0.00</td>\n      <td>0.00</td>\n    </tr>\n    <tr>\n      <th>10</th>\n      <td>0.00</td>\n      <td>0.00</td>\n    </tr>\n    <tr>\n      <th>11</th>\n      <td>0.00</td>\n      <td>0.00</td>\n    </tr>\n    <tr>\n      <th>12</th>\n      <td>0.00</td>\n      <td>0.00</td>\n    </tr>\n    <tr>\n      <th>13</th>\n      <td>2.92</td>\n      <td>2.92</td>\n    </tr>\n    <tr>\n      <th>14</th>\n      <td>2.45</td>\n      <td>2.45</td>\n    </tr>\n    <tr>\n      <th>15</th>\n      <td>3.16</td>\n      <td>3.16</td>\n    </tr>\n    <tr>\n      <th>16</th>\n      <td>NaN</td>\n      <td>0.00</td>\n    </tr>\n    <tr>\n      <th>17</th>\n      <td>3.00</td>\n      <td>3.00</td>\n    </tr>\n    <tr>\n      <th>18</th>\n      <td>0.00</td>\n      <td>0.00</td>\n    </tr>\n    <tr>\n      <th>19</th>\n      <td>2.31</td>\n      <td>2.31</td>\n    </tr>\n  </tbody>\n</table>\n</div>"
          },
          "metadata": {}
        }
      ],
      "execution_count": 9
    },
    {
      "cell_type": "code",
      "source": "sql = \"\"\"\nSELECT REPORT_CODE,\n       RAIN,\n       COALESCE(RAIN, -1) COALESCE_RAIN\nFROM WEATHER_MONITOR\nWHERE REPORT_CODE IN ('G0UINBG', 'PJVNOSP')\n\"\"\"\npd.read_sql(sql,conn)",
      "metadata": {
        "colab": {
          "base_uri": "https://localhost:8080/",
          "height": 112
        },
        "id": "jqVaf-FP9eAP",
        "outputId": "86e88bed-b99c-49c0-a8d7-45ae2dbe215c",
        "trusted": true
      },
      "outputs": [
        {
          "execution_count": 10,
          "output_type": "execute_result",
          "data": {
            "text/plain": "  REPORT_CODE  RAIN  COALESCE_RAIN\n0     PJVNOSP  1.58           1.58\n1     G0UINBG   NaN          -1.00",
            "text/html": "<div>\n<style scoped>\n    .dataframe tbody tr th:only-of-type {\n        vertical-align: middle;\n    }\n\n    .dataframe tbody tr th {\n        vertical-align: top;\n    }\n\n    .dataframe thead th {\n        text-align: right;\n    }\n</style>\n<table border=\"1\" class=\"dataframe\">\n  <thead>\n    <tr style=\"text-align: right;\">\n      <th></th>\n      <th>REPORT_CODE</th>\n      <th>RAIN</th>\n      <th>COALESCE_RAIN</th>\n    </tr>\n  </thead>\n  <tbody>\n    <tr>\n      <th>0</th>\n      <td>PJVNOSP</td>\n      <td>1.58</td>\n      <td>1.58</td>\n    </tr>\n    <tr>\n      <th>1</th>\n      <td>G0UINBG</td>\n      <td>NaN</td>\n      <td>-1.00</td>\n    </tr>\n  </tbody>\n</table>\n</div>"
          },
          "metadata": {}
        }
      ],
      "execution_count": 10
    },
    {
      "cell_type": "markdown",
      "source": "# CASE",
      "metadata": {
        "id": "jJV4gjEXBBds"
      }
    },
    {
      "cell_type": "code",
      "source": "sql =\"\"\"\nSELECT REPORT_CODE,\n      TEMPERATURE\nFROM WEATHER_MONITOR\n\"\"\"\npd.read_sql(sql,conn)",
      "metadata": {
        "colab": {
          "base_uri": "https://localhost:8080/",
          "height": 423
        },
        "id": "5BQ2rFTRAI1t",
        "outputId": "56da1311-2f0e-493d-d459-eb98c9101fbe",
        "trusted": true
      },
      "outputs": [
        {
          "execution_count": 11,
          "output_type": "execute_result",
          "data": {
            "text/plain": "     REPORT_CODE  TEMPERATURE\n0        UVYMMWW         66.0\n1        7VVYE2L         61.3\n2        PJVNOSP         61.6\n3        3B19P7S         66.3\n4        EHVUPGY         58.5\n...          ...          ...\n2995     RWG4DY4        106.6\n2996     9A9EQNQ         85.8\n2997     C7ALVIK         96.8\n2998     V660AWC        103.6\n2999     IC35HCE         64.0\n\n[3000 rows x 2 columns]",
            "text/html": "<div>\n<style scoped>\n    .dataframe tbody tr th:only-of-type {\n        vertical-align: middle;\n    }\n\n    .dataframe tbody tr th {\n        vertical-align: top;\n    }\n\n    .dataframe thead th {\n        text-align: right;\n    }\n</style>\n<table border=\"1\" class=\"dataframe\">\n  <thead>\n    <tr style=\"text-align: right;\">\n      <th></th>\n      <th>REPORT_CODE</th>\n      <th>TEMPERATURE</th>\n    </tr>\n  </thead>\n  <tbody>\n    <tr>\n      <th>0</th>\n      <td>UVYMMWW</td>\n      <td>66.0</td>\n    </tr>\n    <tr>\n      <th>1</th>\n      <td>7VVYE2L</td>\n      <td>61.3</td>\n    </tr>\n    <tr>\n      <th>2</th>\n      <td>PJVNOSP</td>\n      <td>61.6</td>\n    </tr>\n    <tr>\n      <th>3</th>\n      <td>3B19P7S</td>\n      <td>66.3</td>\n    </tr>\n    <tr>\n      <th>4</th>\n      <td>EHVUPGY</td>\n      <td>58.5</td>\n    </tr>\n    <tr>\n      <th>...</th>\n      <td>...</td>\n      <td>...</td>\n    </tr>\n    <tr>\n      <th>2995</th>\n      <td>RWG4DY4</td>\n      <td>106.6</td>\n    </tr>\n    <tr>\n      <th>2996</th>\n      <td>9A9EQNQ</td>\n      <td>85.8</td>\n    </tr>\n    <tr>\n      <th>2997</th>\n      <td>C7ALVIK</td>\n      <td>96.8</td>\n    </tr>\n    <tr>\n      <th>2998</th>\n      <td>V660AWC</td>\n      <td>103.6</td>\n    </tr>\n    <tr>\n      <th>2999</th>\n      <td>IC35HCE</td>\n      <td>64.0</td>\n    </tr>\n  </tbody>\n</table>\n<p>3000 rows × 2 columns</p>\n</div>"
          },
          "metadata": {}
        }
      ],
      "execution_count": 11
    },
    {
      "cell_type": "markdown",
      "source": "* AFFICHER ceci\n  - SI la température >=78 --> HOT\n  - SI la température >=60 et < 78 --> MILD\n  - SI la température < 60 --> COLD\n\n-----------\n\n\n|      | REPORT_CODE   |   TEMPERATURE | TEMPERATURE_LABEL   |\n|-----:|:--------------|--------------:|:--------------------|\n|    0 | UVYMMWW       |          66   | MILD                |\n|    1 | 7VVYE2L       |          61.3 | MILD                |\n|    2 | PJVNOSP       |          61.6 | MILD                |\n|    3 | 3B19P7S       |          66.3 | MILD                |\n|    4 | EHVUPGY       |          58.5 | COLD                |\n|    5 | ZBAHLGO       |          65   | MILD                |",
      "metadata": {
        "id": "i4k0Si1iBY7q"
      }
    },
    {
      "cell_type": "code",
      "source": "sql = \"\"\"\nSELECT REPORT_CODE,\n      TEMPERATURE,\n      CASE\n        WHEN TEMPERATURE >=78 THEN 'HOT'\n        WHEN TEMPERATURE >=60 THEN 'MILD'\n        ELSE 'COLD'\n      END AS TEMPERATURE_LABEL\nFROM WEATHER_MONITOR\n\"\"\"\npd.read_sql(sql,conn)",
      "metadata": {
        "colab": {
          "base_uri": "https://localhost:8080/",
          "height": 423
        },
        "id": "VzHtHzPGBPYP",
        "outputId": "6841fb30-1112-4ce7-8256-4834b121ffbc",
        "trusted": true
      },
      "outputs": [
        {
          "execution_count": 12,
          "output_type": "execute_result",
          "data": {
            "text/plain": "     REPORT_CODE  TEMPERATURE TEMPERATURE_LABEL\n0        UVYMMWW         66.0              MILD\n1        7VVYE2L         61.3              MILD\n2        PJVNOSP         61.6              MILD\n3        3B19P7S         66.3              MILD\n4        EHVUPGY         58.5              COLD\n...          ...          ...               ...\n2995     RWG4DY4        106.6               HOT\n2996     9A9EQNQ         85.8               HOT\n2997     C7ALVIK         96.8               HOT\n2998     V660AWC        103.6               HOT\n2999     IC35HCE         64.0              MILD\n\n[3000 rows x 3 columns]",
            "text/html": "<div>\n<style scoped>\n    .dataframe tbody tr th:only-of-type {\n        vertical-align: middle;\n    }\n\n    .dataframe tbody tr th {\n        vertical-align: top;\n    }\n\n    .dataframe thead th {\n        text-align: right;\n    }\n</style>\n<table border=\"1\" class=\"dataframe\">\n  <thead>\n    <tr style=\"text-align: right;\">\n      <th></th>\n      <th>REPORT_CODE</th>\n      <th>TEMPERATURE</th>\n      <th>TEMPERATURE_LABEL</th>\n    </tr>\n  </thead>\n  <tbody>\n    <tr>\n      <th>0</th>\n      <td>UVYMMWW</td>\n      <td>66.0</td>\n      <td>MILD</td>\n    </tr>\n    <tr>\n      <th>1</th>\n      <td>7VVYE2L</td>\n      <td>61.3</td>\n      <td>MILD</td>\n    </tr>\n    <tr>\n      <th>2</th>\n      <td>PJVNOSP</td>\n      <td>61.6</td>\n      <td>MILD</td>\n    </tr>\n    <tr>\n      <th>3</th>\n      <td>3B19P7S</td>\n      <td>66.3</td>\n      <td>MILD</td>\n    </tr>\n    <tr>\n      <th>4</th>\n      <td>EHVUPGY</td>\n      <td>58.5</td>\n      <td>COLD</td>\n    </tr>\n    <tr>\n      <th>...</th>\n      <td>...</td>\n      <td>...</td>\n      <td>...</td>\n    </tr>\n    <tr>\n      <th>2995</th>\n      <td>RWG4DY4</td>\n      <td>106.6</td>\n      <td>HOT</td>\n    </tr>\n    <tr>\n      <th>2996</th>\n      <td>9A9EQNQ</td>\n      <td>85.8</td>\n      <td>HOT</td>\n    </tr>\n    <tr>\n      <th>2997</th>\n      <td>C7ALVIK</td>\n      <td>96.8</td>\n      <td>HOT</td>\n    </tr>\n    <tr>\n      <th>2998</th>\n      <td>V660AWC</td>\n      <td>103.6</td>\n      <td>HOT</td>\n    </tr>\n    <tr>\n      <th>2999</th>\n      <td>IC35HCE</td>\n      <td>64.0</td>\n      <td>MILD</td>\n    </tr>\n  </tbody>\n</table>\n<p>3000 rows × 3 columns</p>\n</div>"
          },
          "metadata": {}
        }
      ],
      "execution_count": 12
    },
    {
      "cell_type": "code",
      "source": "%load_ext sql",
      "metadata": {
        "trusted": true
      },
      "outputs": [],
      "execution_count": 15
    },
    {
      "cell_type": "code",
      "source": "%sql sqlite:///data/company_operations.db",
      "metadata": {
        "trusted": true
      },
      "outputs": [],
      "execution_count": 17
    },
    {
      "cell_type": "code",
      "source": "%%sql\nSELECT REPORT_CODE,\n      TEMPERATURE,\n      CASE\n        WHEN TEMPERATURE >=78 THEN 'HOT'\n        WHEN TEMPERATURE >=60 THEN 'MILD'\n        ELSE 'COLD'\n      END AS TEMPERATURE_LABEL\nFROM WEATHER_MONITOR\nLIMIT 5",
      "metadata": {
        "colab": {
          "base_uri": "https://localhost:8080/",
          "height": 182
        },
        "id": "laFa-FJQDO3B",
        "outputId": "ec9447ef-b206-49f0-b3eb-e1e64a1f62af",
        "trusted": true
      },
      "outputs": [
        {
          "name": "stdout",
          "text": " * sqlite:///data/company_operations.db\nDone.\n",
          "output_type": "stream"
        },
        {
          "execution_count": 18,
          "output_type": "execute_result",
          "data": {
            "text/plain": "[('UVYMMWW', 66.0, 'MILD'),\n ('7VVYE2L', 61.3, 'MILD'),\n ('PJVNOSP', 61.6, 'MILD'),\n ('3B19P7S', 66.3, 'MILD'),\n ('EHVUPGY', 58.5, 'COLD')]",
            "text/html": "<table>\n    <thead>\n        <tr>\n            <th>REPORT_CODE</th>\n            <th>TEMPERATURE</th>\n            <th>TEMPERATURE_LABEL</th>\n        </tr>\n    </thead>\n    <tbody>\n        <tr>\n            <td>UVYMMWW</td>\n            <td>66.0</td>\n            <td>MILD</td>\n        </tr>\n        <tr>\n            <td>7VVYE2L</td>\n            <td>61.3</td>\n            <td>MILD</td>\n        </tr>\n        <tr>\n            <td>PJVNOSP</td>\n            <td>61.6</td>\n            <td>MILD</td>\n        </tr>\n        <tr>\n            <td>3B19P7S</td>\n            <td>66.3</td>\n            <td>MILD</td>\n        </tr>\n        <tr>\n            <td>EHVUPGY</td>\n            <td>58.5</td>\n            <td>COLD</td>\n        </tr>\n    </tbody>\n</table>"
          },
          "metadata": {}
        }
      ],
      "execution_count": 18
    },
    {
      "cell_type": "markdown",
      "source": "```sql\nSELECT REPORT_CODE,\n      TEMPERATURE,\n      CASE\n        WHEN TEMPERATURE >=78 THEN 'HOT'\n        WHEN TEMPERATURE >=60 THEN 'MILD'\n        ELSE 'COLD'\n      END AS TEMPERATURE_LABEL\nFROM WEATHER_MONITOR\n```\n\nDans le code SQL précédent le ELSE affecte 'COLD' aux valeurs de temperatures qui sont < 60 et aussi les valeur NULL",
      "metadata": {
        "id": "Upk0jyTmD8NW"
      }
    },
    {
      "cell_type": "code",
      "source": "sql = \"\"\"\nSELECT REPORT_CODE,\n      TEMPERATURE,\n      CASE\n        WHEN TEMPERATURE >=78 THEN 'HOT'\n        WHEN TEMPERATURE >=60 THEN 'MILD'\n        WHEN TEMPERATURE < 60 THEN 'COLD'\n        -- ELSE traite seulement les valeurs Null\n        ELSE 'N/A'\n      END AS TEMPERATURE_LABEL\nFROM WEATHER_MONITOR\n\"\"\"\npd.read_sql(sql,conn)",
      "metadata": {
        "colab": {
          "base_uri": "https://localhost:8080/",
          "height": 423
        },
        "id": "gt_t3LLBDbqo",
        "outputId": "a5ce562b-31a3-4752-d876-4aa910b78e9c",
        "trusted": true
      },
      "outputs": [
        {
          "execution_count": 19,
          "output_type": "execute_result",
          "data": {
            "text/plain": "     REPORT_CODE  TEMPERATURE TEMPERATURE_LABEL\n0        UVYMMWW         66.0              MILD\n1        7VVYE2L         61.3              MILD\n2        PJVNOSP         61.6              MILD\n3        3B19P7S         66.3              MILD\n4        EHVUPGY         58.5              COLD\n...          ...          ...               ...\n2995     RWG4DY4        106.6               HOT\n2996     9A9EQNQ         85.8               HOT\n2997     C7ALVIK         96.8               HOT\n2998     V660AWC        103.6               HOT\n2999     IC35HCE         64.0              MILD\n\n[3000 rows x 3 columns]",
            "text/html": "<div>\n<style scoped>\n    .dataframe tbody tr th:only-of-type {\n        vertical-align: middle;\n    }\n\n    .dataframe tbody tr th {\n        vertical-align: top;\n    }\n\n    .dataframe thead th {\n        text-align: right;\n    }\n</style>\n<table border=\"1\" class=\"dataframe\">\n  <thead>\n    <tr style=\"text-align: right;\">\n      <th></th>\n      <th>REPORT_CODE</th>\n      <th>TEMPERATURE</th>\n      <th>TEMPERATURE_LABEL</th>\n    </tr>\n  </thead>\n  <tbody>\n    <tr>\n      <th>0</th>\n      <td>UVYMMWW</td>\n      <td>66.0</td>\n      <td>MILD</td>\n    </tr>\n    <tr>\n      <th>1</th>\n      <td>7VVYE2L</td>\n      <td>61.3</td>\n      <td>MILD</td>\n    </tr>\n    <tr>\n      <th>2</th>\n      <td>PJVNOSP</td>\n      <td>61.6</td>\n      <td>MILD</td>\n    </tr>\n    <tr>\n      <th>3</th>\n      <td>3B19P7S</td>\n      <td>66.3</td>\n      <td>MILD</td>\n    </tr>\n    <tr>\n      <th>4</th>\n      <td>EHVUPGY</td>\n      <td>58.5</td>\n      <td>COLD</td>\n    </tr>\n    <tr>\n      <th>...</th>\n      <td>...</td>\n      <td>...</td>\n      <td>...</td>\n    </tr>\n    <tr>\n      <th>2995</th>\n      <td>RWG4DY4</td>\n      <td>106.6</td>\n      <td>HOT</td>\n    </tr>\n    <tr>\n      <th>2996</th>\n      <td>9A9EQNQ</td>\n      <td>85.8</td>\n      <td>HOT</td>\n    </tr>\n    <tr>\n      <th>2997</th>\n      <td>C7ALVIK</td>\n      <td>96.8</td>\n      <td>HOT</td>\n    </tr>\n    <tr>\n      <th>2998</th>\n      <td>V660AWC</td>\n      <td>103.6</td>\n      <td>HOT</td>\n    </tr>\n    <tr>\n      <th>2999</th>\n      <td>IC35HCE</td>\n      <td>64.0</td>\n      <td>MILD</td>\n    </tr>\n  </tbody>\n</table>\n<p>3000 rows × 3 columns</p>\n</div>"
          },
          "metadata": {}
        }
      ],
      "execution_count": 19
    },
    {
      "cell_type": "code",
      "source": "df = pd.read_sql(sql,conn)",
      "metadata": {
        "id": "n8Aq2I6sEv6D",
        "trusted": true
      },
      "outputs": [],
      "execution_count": 20
    },
    {
      "cell_type": "code",
      "source": "df[df['TEMPERATURE_LABEL'] == 'N/A']",
      "metadata": {
        "colab": {
          "base_uri": "https://localhost:8080/",
          "height": 143
        },
        "id": "dlvWJrQNFC2v",
        "outputId": "7b325359-534d-4c25-debb-1ef5f2426b55",
        "trusted": true
      },
      "outputs": [
        {
          "execution_count": 21,
          "output_type": "execute_result",
          "data": {
            "text/plain": "    REPORT_CODE  TEMPERATURE TEMPERATURE_LABEL\n465     U91W7VE          NaN               N/A\n616     RDEU2AW          NaN               N/A\n997     5LC6JX2          NaN               N/A",
            "text/html": "<div>\n<style scoped>\n    .dataframe tbody tr th:only-of-type {\n        vertical-align: middle;\n    }\n\n    .dataframe tbody tr th {\n        vertical-align: top;\n    }\n\n    .dataframe thead th {\n        text-align: right;\n    }\n</style>\n<table border=\"1\" class=\"dataframe\">\n  <thead>\n    <tr style=\"text-align: right;\">\n      <th></th>\n      <th>REPORT_CODE</th>\n      <th>TEMPERATURE</th>\n      <th>TEMPERATURE_LABEL</th>\n    </tr>\n  </thead>\n  <tbody>\n    <tr>\n      <th>465</th>\n      <td>U91W7VE</td>\n      <td>NaN</td>\n      <td>N/A</td>\n    </tr>\n    <tr>\n      <th>616</th>\n      <td>RDEU2AW</td>\n      <td>NaN</td>\n      <td>N/A</td>\n    </tr>\n    <tr>\n      <th>997</th>\n      <td>5LC6JX2</td>\n      <td>NaN</td>\n      <td>N/A</td>\n    </tr>\n  </tbody>\n</table>\n</div>"
          },
          "metadata": {}
        }
      ],
      "execution_count": 21
    },
    {
      "cell_type": "markdown",
      "source": "# REMARQUES COALESCE() et CASE\n* Remplacer `COALESCE(RAIN,0)` par `CASE`\n```sql\nSELECT RAIN,COALESCE(RAIN,0) AS COALESCE_  FROM WEATHER_MONITOR\n```\n\n",
      "metadata": {
        "id": "NF3G77Yubol3"
      }
    },
    {
      "cell_type": "code",
      "source": "sql =\"\"\"\nSELECT RAIN,COALESCE(RAIN,0) AS COALESCE_  FROM WEATHER_MONITOR\n\"\"\"\npd.read_sql(sql,conn).head(20)",
      "metadata": {
        "colab": {
          "base_uri": "https://localhost:8080/",
          "height": 676
        },
        "id": "waLCQo53FDRa",
        "outputId": "b008a1d9-8f0c-4034-bfa5-70dfa566a2e8",
        "trusted": true
      },
      "outputs": [
        {
          "execution_count": 22,
          "output_type": "execute_result",
          "data": {
            "text/plain": "    RAIN  COALESCE_\n0   3.74       3.74\n1   0.00       0.00\n2   1.58       1.58\n3   0.00       0.00\n4   0.00       0.00\n5   0.00       0.00\n6   0.00       0.00\n7   1.45       1.45\n8    NaN       0.00\n9   0.00       0.00\n10  0.00       0.00\n11  0.00       0.00\n12  0.00       0.00\n13  2.92       2.92\n14  2.45       2.45\n15  3.16       3.16\n16   NaN       0.00\n17  3.00       3.00\n18  0.00       0.00\n19  2.31       2.31",
            "text/html": "<div>\n<style scoped>\n    .dataframe tbody tr th:only-of-type {\n        vertical-align: middle;\n    }\n\n    .dataframe tbody tr th {\n        vertical-align: top;\n    }\n\n    .dataframe thead th {\n        text-align: right;\n    }\n</style>\n<table border=\"1\" class=\"dataframe\">\n  <thead>\n    <tr style=\"text-align: right;\">\n      <th></th>\n      <th>RAIN</th>\n      <th>COALESCE_</th>\n    </tr>\n  </thead>\n  <tbody>\n    <tr>\n      <th>0</th>\n      <td>3.74</td>\n      <td>3.74</td>\n    </tr>\n    <tr>\n      <th>1</th>\n      <td>0.00</td>\n      <td>0.00</td>\n    </tr>\n    <tr>\n      <th>2</th>\n      <td>1.58</td>\n      <td>1.58</td>\n    </tr>\n    <tr>\n      <th>3</th>\n      <td>0.00</td>\n      <td>0.00</td>\n    </tr>\n    <tr>\n      <th>4</th>\n      <td>0.00</td>\n      <td>0.00</td>\n    </tr>\n    <tr>\n      <th>5</th>\n      <td>0.00</td>\n      <td>0.00</td>\n    </tr>\n    <tr>\n      <th>6</th>\n      <td>0.00</td>\n      <td>0.00</td>\n    </tr>\n    <tr>\n      <th>7</th>\n      <td>1.45</td>\n      <td>1.45</td>\n    </tr>\n    <tr>\n      <th>8</th>\n      <td>NaN</td>\n      <td>0.00</td>\n    </tr>\n    <tr>\n      <th>9</th>\n      <td>0.00</td>\n      <td>0.00</td>\n    </tr>\n    <tr>\n      <th>10</th>\n      <td>0.00</td>\n      <td>0.00</td>\n    </tr>\n    <tr>\n      <th>11</th>\n      <td>0.00</td>\n      <td>0.00</td>\n    </tr>\n    <tr>\n      <th>12</th>\n      <td>0.00</td>\n      <td>0.00</td>\n    </tr>\n    <tr>\n      <th>13</th>\n      <td>2.92</td>\n      <td>2.92</td>\n    </tr>\n    <tr>\n      <th>14</th>\n      <td>2.45</td>\n      <td>2.45</td>\n    </tr>\n    <tr>\n      <th>15</th>\n      <td>3.16</td>\n      <td>3.16</td>\n    </tr>\n    <tr>\n      <th>16</th>\n      <td>NaN</td>\n      <td>0.00</td>\n    </tr>\n    <tr>\n      <th>17</th>\n      <td>3.00</td>\n      <td>3.00</td>\n    </tr>\n    <tr>\n      <th>18</th>\n      <td>0.00</td>\n      <td>0.00</td>\n    </tr>\n    <tr>\n      <th>19</th>\n      <td>2.31</td>\n      <td>2.31</td>\n    </tr>\n  </tbody>\n</table>\n</div>"
          },
          "metadata": {}
        }
      ],
      "execution_count": 22
    },
    {
      "cell_type": "code",
      "source": "sql = \"\"\"\nSELECT RAIN,\n      CASE\n          WHEN RAIN IS NULL THEN 1\n          ELSE RAIN\n      END AS COALESCE_\nFROM WEATHER_MONITOR\n\"\"\"\npd.read_sql(sql,conn).head(20)",
      "metadata": {
        "colab": {
          "base_uri": "https://localhost:8080/",
          "height": 676
        },
        "id": "Epy2qof0b1_o",
        "outputId": "86bef1d5-8267-44e3-c479-10bcca46e0d3",
        "trusted": true
      },
      "outputs": [
        {
          "execution_count": 23,
          "output_type": "execute_result",
          "data": {
            "text/plain": "    RAIN  COALESCE_\n0   3.74       3.74\n1   0.00       0.00\n2   1.58       1.58\n3   0.00       0.00\n4   0.00       0.00\n5   0.00       0.00\n6   0.00       0.00\n7   1.45       1.45\n8    NaN       1.00\n9   0.00       0.00\n10  0.00       0.00\n11  0.00       0.00\n12  0.00       0.00\n13  2.92       2.92\n14  2.45       2.45\n15  3.16       3.16\n16   NaN       1.00\n17  3.00       3.00\n18  0.00       0.00\n19  2.31       2.31",
            "text/html": "<div>\n<style scoped>\n    .dataframe tbody tr th:only-of-type {\n        vertical-align: middle;\n    }\n\n    .dataframe tbody tr th {\n        vertical-align: top;\n    }\n\n    .dataframe thead th {\n        text-align: right;\n    }\n</style>\n<table border=\"1\" class=\"dataframe\">\n  <thead>\n    <tr style=\"text-align: right;\">\n      <th></th>\n      <th>RAIN</th>\n      <th>COALESCE_</th>\n    </tr>\n  </thead>\n  <tbody>\n    <tr>\n      <th>0</th>\n      <td>3.74</td>\n      <td>3.74</td>\n    </tr>\n    <tr>\n      <th>1</th>\n      <td>0.00</td>\n      <td>0.00</td>\n    </tr>\n    <tr>\n      <th>2</th>\n      <td>1.58</td>\n      <td>1.58</td>\n    </tr>\n    <tr>\n      <th>3</th>\n      <td>0.00</td>\n      <td>0.00</td>\n    </tr>\n    <tr>\n      <th>4</th>\n      <td>0.00</td>\n      <td>0.00</td>\n    </tr>\n    <tr>\n      <th>5</th>\n      <td>0.00</td>\n      <td>0.00</td>\n    </tr>\n    <tr>\n      <th>6</th>\n      <td>0.00</td>\n      <td>0.00</td>\n    </tr>\n    <tr>\n      <th>7</th>\n      <td>1.45</td>\n      <td>1.45</td>\n    </tr>\n    <tr>\n      <th>8</th>\n      <td>NaN</td>\n      <td>1.00</td>\n    </tr>\n    <tr>\n      <th>9</th>\n      <td>0.00</td>\n      <td>0.00</td>\n    </tr>\n    <tr>\n      <th>10</th>\n      <td>0.00</td>\n      <td>0.00</td>\n    </tr>\n    <tr>\n      <th>11</th>\n      <td>0.00</td>\n      <td>0.00</td>\n    </tr>\n    <tr>\n      <th>12</th>\n      <td>0.00</td>\n      <td>0.00</td>\n    </tr>\n    <tr>\n      <th>13</th>\n      <td>2.92</td>\n      <td>2.92</td>\n    </tr>\n    <tr>\n      <th>14</th>\n      <td>2.45</td>\n      <td>2.45</td>\n    </tr>\n    <tr>\n      <th>15</th>\n      <td>3.16</td>\n      <td>3.16</td>\n    </tr>\n    <tr>\n      <th>16</th>\n      <td>NaN</td>\n      <td>1.00</td>\n    </tr>\n    <tr>\n      <th>17</th>\n      <td>3.00</td>\n      <td>3.00</td>\n    </tr>\n    <tr>\n      <th>18</th>\n      <td>0.00</td>\n      <td>0.00</td>\n    </tr>\n    <tr>\n      <th>19</th>\n      <td>2.31</td>\n      <td>2.31</td>\n    </tr>\n  </tbody>\n</table>\n</div>"
          },
          "metadata": {}
        }
      ],
      "execution_count": 23
    },
    {
      "cell_type": "markdown",
      "source": "# NULL CASE truc et astuces\n\n* Calculer Total `Rain` groupé par `YEAR` et `MONTH` seulement pour l'année  2021 ( de la table `WEATHER_MONITOR`)\n\n|    |   YEAR |   MONTH |   TOTAL_RAIN |\n|---:|-------:|--------:|-------------:|\n|  0 |   2021 |       1 |       316.27 |\n|  1 |   2021 |       2 |       138.07 |\n|  2 |   2021 |       3 |       129.03 |\n|  3 |   2021 |       4 |       153.79 |\n|  4 |   2021 |       5 |       158.24 |",
      "metadata": {
        "id": "aREu9SRIeHdP"
      }
    },
    {
      "cell_type": "code",
      "source": "%%sql\nSELECT * FROM WEATHER_MONITOR\nLIMIT 5",
      "metadata": {
        "colab": {
          "base_uri": "https://localhost:8080/",
          "height": 182
        },
        "id": "c15EaC68hiIR",
        "outputId": "715357df-9854-4d78-d85f-4616eebdadc8",
        "trusted": true
      },
      "outputs": [
        {
          "name": "stdout",
          "text": " * sqlite:///data/company_operations.db\nDone.\n",
          "output_type": "stream"
        },
        {
          "execution_count": 24,
          "output_type": "execute_result",
          "data": {
            "text/plain": "[(1, 'UVYMMWW', '2021-03-20', 0, 66.0, 1, 3.74, 0.0, 0, 0, 0),\n (2, '7VVYE2L', '2021-04-10', 24, 61.3, 0, 0.0, 0.0, 0, 0, 0),\n (3, 'PJVNOSP', '2021-02-26', 32, 61.6, 1, 1.58, 0.0, 0, 0, 0),\n (4, '3B19P7S', '2021-05-30', 39, 66.3, 0, 0.0, 0.0, 0, 0, 0),\n (5, 'EHVUPGY', '2021-04-09', 48, 58.5, 0, 0.0, 0.0, 0, 0, 0)]",
            "text/html": "<table>\n    <thead>\n        <tr>\n            <th>ID</th>\n            <th>REPORT_CODE</th>\n            <th>REPORT_DATE</th>\n            <th>LOCATION_ID</th>\n            <th>TEMPERATURE</th>\n            <th>OVERCAST</th>\n            <th>RAIN</th>\n            <th>SNOW</th>\n            <th>LIGHTNING</th>\n            <th>HAIL</th>\n            <th>TORNADO</th>\n        </tr>\n    </thead>\n    <tbody>\n        <tr>\n            <td>1</td>\n            <td>UVYMMWW</td>\n            <td>2021-03-20</td>\n            <td>0</td>\n            <td>66.0</td>\n            <td>1</td>\n            <td>3.74</td>\n            <td>0.0</td>\n            <td>0</td>\n            <td>0</td>\n            <td>0</td>\n        </tr>\n        <tr>\n            <td>2</td>\n            <td>7VVYE2L</td>\n            <td>2021-04-10</td>\n            <td>24</td>\n            <td>61.3</td>\n            <td>0</td>\n            <td>0.0</td>\n            <td>0.0</td>\n            <td>0</td>\n            <td>0</td>\n            <td>0</td>\n        </tr>\n        <tr>\n            <td>3</td>\n            <td>PJVNOSP</td>\n            <td>2021-02-26</td>\n            <td>32</td>\n            <td>61.6</td>\n            <td>1</td>\n            <td>1.58</td>\n            <td>0.0</td>\n            <td>0</td>\n            <td>0</td>\n            <td>0</td>\n        </tr>\n        <tr>\n            <td>4</td>\n            <td>3B19P7S</td>\n            <td>2021-05-30</td>\n            <td>39</td>\n            <td>66.3</td>\n            <td>0</td>\n            <td>0.0</td>\n            <td>0.0</td>\n            <td>0</td>\n            <td>0</td>\n            <td>0</td>\n        </tr>\n        <tr>\n            <td>5</td>\n            <td>EHVUPGY</td>\n            <td>2021-04-09</td>\n            <td>48</td>\n            <td>58.5</td>\n            <td>0</td>\n            <td>0.0</td>\n            <td>0.0</td>\n            <td>0</td>\n            <td>0</td>\n            <td>0</td>\n        </tr>\n    </tbody>\n</table>"
          },
          "metadata": {}
        }
      ],
      "execution_count": 24
    },
    {
      "cell_type": "code",
      "source": "%%sql\nSELECT CAST(strftime('%Y', REPORT_DATE) AS INTEGER) AS YEAR,\n       CAST(strftime('%m', REPORT_DATE) AS INTEGER ) AS MONTH,\n       SUM(RAIN) AS TOTAL_RAIN\nFROM WEATHER_MONITOR\nWHERE YEAR = 2021\nGROUP BY YEAR, MONTH\n",
      "metadata": {
        "colab": {
          "base_uri": "https://localhost:8080/",
          "height": 182
        },
        "id": "7eNIJUNjdCMR",
        "outputId": "6992418f-198a-4925-991c-409d8bf6c1cf",
        "trusted": true
      },
      "outputs": [
        {
          "name": "stdout",
          "text": " * sqlite:///data/company_operations.db\nDone.\n",
          "output_type": "stream"
        },
        {
          "execution_count": 25,
          "output_type": "execute_result",
          "data": {
            "text/plain": "[(2021, 1, 316.2699999999998),\n (2021, 2, 138.07000000000002),\n (2021, 3, 129.03),\n (2021, 4, 153.78999999999996),\n (2021, 5, 158.23999999999998)]",
            "text/html": "<table>\n    <thead>\n        <tr>\n            <th>YEAR</th>\n            <th>MONTH</th>\n            <th>TOTAL_RAIN</th>\n        </tr>\n    </thead>\n    <tbody>\n        <tr>\n            <td>2021</td>\n            <td>1</td>\n            <td>316.2699999999998</td>\n        </tr>\n        <tr>\n            <td>2021</td>\n            <td>2</td>\n            <td>138.07000000000002</td>\n        </tr>\n        <tr>\n            <td>2021</td>\n            <td>3</td>\n            <td>129.03</td>\n        </tr>\n        <tr>\n            <td>2021</td>\n            <td>4</td>\n            <td>153.78999999999996</td>\n        </tr>\n        <tr>\n            <td>2021</td>\n            <td>5</td>\n            <td>158.23999999999998</td>\n        </tr>\n    </tbody>\n</table>"
          },
          "metadata": {}
        }
      ],
      "execution_count": 25
    },
    {
      "cell_type": "code",
      "source": "sql = \"\"\"\nSELECT CAST(strftime('%Y', REPORT_DATE) AS INTEGER) AS YEAR,\n       CAST(strftime('%m', REPORT_DATE) AS INTEGER ) AS MONTH,\n       SUM(RAIN) AS TOTAL_RAIN\nFROM WEATHER_MONITOR\nWHERE YEAR = 2021\nGROUP BY YEAR, MONTH\n\"\"\"\npd.read_sql(sql,conn)",
      "metadata": {
        "colab": {
          "base_uri": "https://localhost:8080/",
          "height": 206
        },
        "id": "3JuD9VksiqdJ",
        "outputId": "2bca9fc4-2866-4e59-dc2a-6b4cab7d9c52",
        "trusted": true
      },
      "outputs": [
        {
          "execution_count": 26,
          "output_type": "execute_result",
          "data": {
            "text/plain": "   YEAR  MONTH  TOTAL_RAIN\n0  2021      1      316.27\n1  2021      2      138.07\n2  2021      3      129.03\n3  2021      4      153.79\n4  2021      5      158.24",
            "text/html": "<div>\n<style scoped>\n    .dataframe tbody tr th:only-of-type {\n        vertical-align: middle;\n    }\n\n    .dataframe tbody tr th {\n        vertical-align: top;\n    }\n\n    .dataframe thead th {\n        text-align: right;\n    }\n</style>\n<table border=\"1\" class=\"dataframe\">\n  <thead>\n    <tr style=\"text-align: right;\">\n      <th></th>\n      <th>YEAR</th>\n      <th>MONTH</th>\n      <th>TOTAL_RAIN</th>\n    </tr>\n  </thead>\n  <tbody>\n    <tr>\n      <th>0</th>\n      <td>2021</td>\n      <td>1</td>\n      <td>316.27</td>\n    </tr>\n    <tr>\n      <th>1</th>\n      <td>2021</td>\n      <td>2</td>\n      <td>138.07</td>\n    </tr>\n    <tr>\n      <th>2</th>\n      <td>2021</td>\n      <td>3</td>\n      <td>129.03</td>\n    </tr>\n    <tr>\n      <th>3</th>\n      <td>2021</td>\n      <td>4</td>\n      <td>153.79</td>\n    </tr>\n    <tr>\n      <th>4</th>\n      <td>2021</td>\n      <td>5</td>\n      <td>158.24</td>\n    </tr>\n  </tbody>\n</table>\n</div>"
          },
          "metadata": {}
        }
      ],
      "execution_count": 26
    },
    {
      "cell_type": "markdown",
      "source": "SQLITE\n\n```sql\nSELECT CAST(strftime('%Y', REPORT_DATE) AS INTEGER) AS YEAR,\n       CAST(strftime('%m', REPORT_DATE) AS INTEGER ) AS MONTH,\n       SUM(RAIN) AS TOTAL_RAIN\nFROM WEATHER_MONITOR\nWHERE YEAR = 2021\nGROUP BY YEAR, MONTH\n```\n\n\n\nORACLE SQL\n\n```sql\nSELECT\n    TO_NUMBER(TO_CHAR(REPORT_DATE, 'YYYY')) AS YEAR,\n    TO_NUMBER(TO_CHAR(REPORT_DATE, 'MM')) AS MONTH,\n    SUM(RAIN) AS TOTAL_RAIN\nFROM\n    WEATHER_MONITOR\nWHERE\n    EXTRACT(YEAR FROM REPORT_DATE) = 2021\nGROUP BY\n    TO_NUMBER(TO_CHAR(REPORT_DATE, 'YYYY')),\n    TO_NUMBER(TO_CHAR(REPORT_DATE, 'MM'));\n```\n\nSQL SERVER (T-SQL)\n\n```sql\nSELECT\n    YEAR(REPORT_DATE) AS YEAR,\n    MONTH(REPORT_DATE) AS MONTH,\n    SUM(RAIN) AS TOTAL_RAIN\nFROM\n    WEATHER_MONITOR\nWHERE\n    YEAR(REPORT_DATE) = 2021\nGROUP BY\n    YEAR(REPORT_DATE), MONTH(REPORT_DATE);\n```",
      "metadata": {
        "id": "fHDL-ySijhCb"
      }
    },
    {
      "cell_type": "markdown",
      "source": "* On veut diviser TOTAL_RAIN  en deux colonnes, une  quand  TORNADO = 1  et une autre  pour  TORNADO = 0. Quel est le problème ici ?\n\n| | ANNÉE | MOIS | TOTAL_TORNADO_RAIN | TOTAL_NON_TORNADO_RAIN |\n|---:|-------:|--------:|---------------------:|-------------------------:|\n|  0 |   2021 |       2 |                15.22 |                    15.22 |\n|  1 |   2021 |       3 |                24.92 |                    24.92 |\n|  2 |   2021 |       4 |                 9.87 |                     9.87 |\n|  3 |   2021 |       5 |                19.88 |                    19.88 |\n",
      "metadata": {
        "id": "jLYrEPuvlf0z"
      }
    },
    {
      "cell_type": "code",
      "source": "%%sql\n--by Kenza\nSELECT CAST(strftime('%Y', REPORT_DATE) AS INTEGER) AS YEAR,\n       CAST(strftime('%m', REPORT_DATE) AS INTEGER ) AS MONTH,\n       tornado,\n       round(SUM(RAIN),2) AS TOTAL_RAIN\nFROM WEATHER_MONITOR\nWHERE YEAR = 2021\nGROUP BY YEAR, MONTH, tornado",
      "metadata": {
        "colab": {
          "base_uri": "https://localhost:8080/",
          "height": 267
        },
        "id": "mfaMmkjCmshQ",
        "outputId": "f60092a0-d237-48d2-913d-1c5cf83e9bac",
        "trusted": true
      },
      "outputs": [
        {
          "name": "stdout",
          "text": " * sqlite:///data/company_operations.db\nDone.\n",
          "output_type": "stream"
        },
        {
          "execution_count": 27,
          "output_type": "execute_result",
          "data": {
            "text/plain": "[(2021, 1, 0, 316.27),\n (2021, 2, 0, 122.85),\n (2021, 2, 1, 15.22),\n (2021, 3, 0, 104.11),\n (2021, 3, 1, 24.92),\n (2021, 4, 0, 143.92),\n (2021, 4, 1, 9.87),\n (2021, 5, 0, 138.36),\n (2021, 5, 1, 19.88)]",
            "text/html": "<table>\n    <thead>\n        <tr>\n            <th>YEAR</th>\n            <th>MONTH</th>\n            <th>TORNADO</th>\n            <th>TOTAL_RAIN</th>\n        </tr>\n    </thead>\n    <tbody>\n        <tr>\n            <td>2021</td>\n            <td>1</td>\n            <td>0</td>\n            <td>316.27</td>\n        </tr>\n        <tr>\n            <td>2021</td>\n            <td>2</td>\n            <td>0</td>\n            <td>122.85</td>\n        </tr>\n        <tr>\n            <td>2021</td>\n            <td>2</td>\n            <td>1</td>\n            <td>15.22</td>\n        </tr>\n        <tr>\n            <td>2021</td>\n            <td>3</td>\n            <td>0</td>\n            <td>104.11</td>\n        </tr>\n        <tr>\n            <td>2021</td>\n            <td>3</td>\n            <td>1</td>\n            <td>24.92</td>\n        </tr>\n        <tr>\n            <td>2021</td>\n            <td>4</td>\n            <td>0</td>\n            <td>143.92</td>\n        </tr>\n        <tr>\n            <td>2021</td>\n            <td>4</td>\n            <td>1</td>\n            <td>9.87</td>\n        </tr>\n        <tr>\n            <td>2021</td>\n            <td>5</td>\n            <td>0</td>\n            <td>138.36</td>\n        </tr>\n        <tr>\n            <td>2021</td>\n            <td>5</td>\n            <td>1</td>\n            <td>19.88</td>\n        </tr>\n    </tbody>\n</table>"
          },
          "metadata": {}
        }
      ],
      "execution_count": 27
    },
    {
      "cell_type": "code",
      "source": "sql = \"\"\"\n---le filtre s'applique aux deux colonnes\nSELECT CAST(strftime('%Y', REPORT_DATE) AS INTEGER) AS YEAR,\n       CAST(strftime('%m', REPORT_DATE) AS INTEGER ) AS MONTH,\n       SUM(RAIN) AS TOTALTORNADO_RAIN,\n       SUM(RAIN) AS TOTAL_NON_TORNADO_RAIN\nFROM WEATHER_MONITOR\nWHERE TORNADO =0 AND YEAR = 2021\nGROUP BY YEAR, MONTH\n\"\"\"\npd.read_sql(sql,conn)",
      "metadata": {
        "colab": {
          "base_uri": "https://localhost:8080/",
          "height": 206
        },
        "id": "sjpMaplNjHHC",
        "outputId": "20e6d315-d962-4580-84c5-ddefe4889e1c",
        "trusted": true
      },
      "outputs": [
        {
          "execution_count": 28,
          "output_type": "execute_result",
          "data": {
            "text/plain": "   YEAR  MONTH  TOTALTORNADO_RAIN  TOTAL_NON_TORNADO_RAIN\n0  2021      1             316.27                  316.27\n1  2021      2             122.85                  122.85\n2  2021      3             104.11                  104.11\n3  2021      4             143.92                  143.92\n4  2021      5             138.36                  138.36",
            "text/html": "<div>\n<style scoped>\n    .dataframe tbody tr th:only-of-type {\n        vertical-align: middle;\n    }\n\n    .dataframe tbody tr th {\n        vertical-align: top;\n    }\n\n    .dataframe thead th {\n        text-align: right;\n    }\n</style>\n<table border=\"1\" class=\"dataframe\">\n  <thead>\n    <tr style=\"text-align: right;\">\n      <th></th>\n      <th>YEAR</th>\n      <th>MONTH</th>\n      <th>TOTALTORNADO_RAIN</th>\n      <th>TOTAL_NON_TORNADO_RAIN</th>\n    </tr>\n  </thead>\n  <tbody>\n    <tr>\n      <th>0</th>\n      <td>2021</td>\n      <td>1</td>\n      <td>316.27</td>\n      <td>316.27</td>\n    </tr>\n    <tr>\n      <th>1</th>\n      <td>2021</td>\n      <td>2</td>\n      <td>122.85</td>\n      <td>122.85</td>\n    </tr>\n    <tr>\n      <th>2</th>\n      <td>2021</td>\n      <td>3</td>\n      <td>104.11</td>\n      <td>104.11</td>\n    </tr>\n    <tr>\n      <th>3</th>\n      <td>2021</td>\n      <td>4</td>\n      <td>143.92</td>\n      <td>143.92</td>\n    </tr>\n    <tr>\n      <th>4</th>\n      <td>2021</td>\n      <td>5</td>\n      <td>138.36</td>\n      <td>138.36</td>\n    </tr>\n  </tbody>\n</table>\n</div>"
          },
          "metadata": {}
        }
      ],
      "execution_count": 28
    },
    {
      "cell_type": "code",
      "source": "sql = \"\"\"\n--Solution AVEC CASE\nSELECT CAST(strftime('%Y', REPORT_DATE) AS INTEGER) AS YEAR,\n       CAST(strftime('%m', REPORT_DATE) AS INTEGER ) AS MONTH,\n       SUM( CASE WHEN TORNADO = 1 THEN RAIN ELSE 0 END ) AS TOTALTORNADO_RAIN,\n       SUM( CASE WHEN TORNADO = 0 THEN RAIN ELSE 0 END ) AS TOTAL_NON_TORNADO_RAIN\nFROM WEATHER_MONITOR\nWHERE YEAR = 2021\nGROUP BY YEAR, MONTH\n\"\"\"\npd.read_sql(sql,conn)",
      "metadata": {
        "colab": {
          "base_uri": "https://localhost:8080/",
          "height": 206
        },
        "id": "g2p5dyl1nsB7",
        "outputId": "1305853b-ee11-4318-e27d-a1292fd1f41c",
        "trusted": true
      },
      "outputs": [
        {
          "execution_count": 29,
          "output_type": "execute_result",
          "data": {
            "text/plain": "   YEAR  MONTH  TOTALTORNADO_RAIN  TOTAL_NON_TORNADO_RAIN\n0  2021      1               0.00                  316.27\n1  2021      2              15.22                  122.85\n2  2021      3              24.92                  104.11\n3  2021      4               9.87                  143.92\n4  2021      5              19.88                  138.36",
            "text/html": "<div>\n<style scoped>\n    .dataframe tbody tr th:only-of-type {\n        vertical-align: middle;\n    }\n\n    .dataframe tbody tr th {\n        vertical-align: top;\n    }\n\n    .dataframe thead th {\n        text-align: right;\n    }\n</style>\n<table border=\"1\" class=\"dataframe\">\n  <thead>\n    <tr style=\"text-align: right;\">\n      <th></th>\n      <th>YEAR</th>\n      <th>MONTH</th>\n      <th>TOTALTORNADO_RAIN</th>\n      <th>TOTAL_NON_TORNADO_RAIN</th>\n    </tr>\n  </thead>\n  <tbody>\n    <tr>\n      <th>0</th>\n      <td>2021</td>\n      <td>1</td>\n      <td>0.00</td>\n      <td>316.27</td>\n    </tr>\n    <tr>\n      <th>1</th>\n      <td>2021</td>\n      <td>2</td>\n      <td>15.22</td>\n      <td>122.85</td>\n    </tr>\n    <tr>\n      <th>2</th>\n      <td>2021</td>\n      <td>3</td>\n      <td>24.92</td>\n      <td>104.11</td>\n    </tr>\n    <tr>\n      <th>3</th>\n      <td>2021</td>\n      <td>4</td>\n      <td>9.87</td>\n      <td>143.92</td>\n    </tr>\n    <tr>\n      <th>4</th>\n      <td>2021</td>\n      <td>5</td>\n      <td>19.88</td>\n      <td>138.36</td>\n    </tr>\n  </tbody>\n</table>\n</div>"
          },
          "metadata": {}
        }
      ],
      "execution_count": 29
    },
    {
      "cell_type": "markdown",
      "source": "Cependant, un 0 pour la condition fausse peut être problématique pour d'autres opérations d'agrégation comme MIN, MAX et AVG et COUNT car cela affectera ces calculs contrairement à SUM. Vous pouvez plutôt utiliser NULL car il sera ignoré par tous les opérateurs d'agrégation, y compris SUM.",
      "metadata": {
        "id": "X5cr2PYoqFVC"
      }
    },
    {
      "cell_type": "code",
      "source": "sql = \"\"\"\n--Solution AVEC CASE et NULL\nSELECT CAST(strftime('%Y', REPORT_DATE) AS INTEGER) AS YEAR,\n       CAST(strftime('%m', REPORT_DATE) AS INTEGER ) AS MONTH,\n       SUM( CASE WHEN TORNADO = 1 THEN RAIN ELSE NULL END ) AS TOTALTORNADO_RAIN,\n       SUM( CASE WHEN TORNADO = 0 THEN RAIN ELSE NULL END ) AS TOTAL_NON_TORNADO_RAIN\nFROM WEATHER_MONITOR\nWHERE YEAR = 2021\nGROUP BY YEAR, MONTH\n\"\"\"\npd.read_sql(sql,conn)",
      "metadata": {
        "colab": {
          "base_uri": "https://localhost:8080/",
          "height": 206
        },
        "id": "DW1ibihYqErs",
        "outputId": "dac542ca-8572-47a1-fa95-4af64e603f4c",
        "trusted": true
      },
      "outputs": [
        {
          "execution_count": 30,
          "output_type": "execute_result",
          "data": {
            "text/plain": "   YEAR  MONTH  TOTALTORNADO_RAIN  TOTAL_NON_TORNADO_RAIN\n0  2021      1                NaN                  316.27\n1  2021      2              15.22                  122.85\n2  2021      3              24.92                  104.11\n3  2021      4               9.87                  143.92\n4  2021      5              19.88                  138.36",
            "text/html": "<div>\n<style scoped>\n    .dataframe tbody tr th:only-of-type {\n        vertical-align: middle;\n    }\n\n    .dataframe tbody tr th {\n        vertical-align: top;\n    }\n\n    .dataframe thead th {\n        text-align: right;\n    }\n</style>\n<table border=\"1\" class=\"dataframe\">\n  <thead>\n    <tr style=\"text-align: right;\">\n      <th></th>\n      <th>YEAR</th>\n      <th>MONTH</th>\n      <th>TOTALTORNADO_RAIN</th>\n      <th>TOTAL_NON_TORNADO_RAIN</th>\n    </tr>\n  </thead>\n  <tbody>\n    <tr>\n      <th>0</th>\n      <td>2021</td>\n      <td>1</td>\n      <td>NaN</td>\n      <td>316.27</td>\n    </tr>\n    <tr>\n      <th>1</th>\n      <td>2021</td>\n      <td>2</td>\n      <td>15.22</td>\n      <td>122.85</td>\n    </tr>\n    <tr>\n      <th>2</th>\n      <td>2021</td>\n      <td>3</td>\n      <td>24.92</td>\n      <td>104.11</td>\n    </tr>\n    <tr>\n      <th>3</th>\n      <td>2021</td>\n      <td>4</td>\n      <td>9.87</td>\n      <td>143.92</td>\n    </tr>\n    <tr>\n      <th>4</th>\n      <td>2021</td>\n      <td>5</td>\n      <td>19.88</td>\n      <td>138.36</td>\n    </tr>\n  </tbody>\n</table>\n</div>"
          },
          "metadata": {}
        }
      ],
      "execution_count": 30
    },
    {
      "cell_type": "markdown",
      "source": "```sql\n--T sql\nSELECT\n    YEAR(REPORT_DATE) AS YEAR,\n    MONTH(REPORT_DATE) AS MONTH,\n    SUM(CASE WHEN TORNADO = 1 THEN RAIN ELSE 0 END) AS TOTALTORNADO_RAIN,\n    SUM(CASE WHEN TORNADO = 0 THEN RAIN ELSE 0 END) AS TOTAL_NON_TORNADO_RAIN\nFROM\n    WEATHER_MONITOR\nWHERE\n    YEAR(REPORT_DATE) = 2021\nGROUP BY\n    YEAR(REPORT_DATE), MONTH(REPORT_DATE);\n\n```",
      "metadata": {
        "id": "EL9x2r0ArWyl"
      }
    },
    {
      "cell_type": "markdown",
      "source": "# EXERCICE\nPour chaque LOCATION_ID, calculez la pluie totale de l'année précédente **PY_RAIN** (2020) et la pluie totale de l'année en cours **CY_RAIN** (2021).\n\n\n* Ceci est le résultat pour les 5 premières lignes\n\n| | LOCATION_ID | CY_RAIN | PY_RAIN |\n|---:|--------------:|----------:|----------:|\n|  0 |             0 |     18.99 |     24.72 |\n|  1 |             1 |     22.51 |     45.02 |\n|  2 |             2 |     30.72 |     16.04 |\n|  3 |             3 |     15.57 |     22.8  |\n|  4 |             4 |     30.17 |     30.15 |\n|  5 |             5 |     40.71 |      7.92 |",
      "metadata": {
        "id": "E8dFwO9Pr8yU"
      }
    },
    {
      "cell_type": "code",
      "source": "# by SYLVIE\nsql = \"\"\"\nSELECT\n  LOCATION_ID,\n  ROUND(SUM(CASE WHEN strftime('%Y', REPORT_DATE) = '2021' THEN RAIN ELSE NULL END), 2) AS CY_RAIN,\n  ROUND(SUM(CASE WHEN strftime('%Y', REPORT_DATE) = '2020' THEN RAIN ELSE NULL END), 2) AS PY_RAIN\nFROM WEATHER_MONITOR\nGROUP BY LOCATION_ID\nORDER BY LOCATION_ID\nLIMIT 6\"\"\"\npd.read_sql(sql,conn)",
      "metadata": {
        "colab": {
          "base_uri": "https://localhost:8080/",
          "height": 237
        },
        "id": "_esJxHl3pJF8",
        "outputId": "3492e09b-5db7-4da1-e24c-96b10a093967",
        "trusted": true
      },
      "outputs": [
        {
          "execution_count": 31,
          "output_type": "execute_result",
          "data": {
            "text/plain": "   LOCATION_ID  CY_RAIN  PY_RAIN\n0            0    18.99    24.72\n1            1    22.51    45.02\n2            2    30.72    16.04\n3            3    15.57    22.80\n4            4    30.17    30.15\n5            5    40.71     7.92",
            "text/html": "<div>\n<style scoped>\n    .dataframe tbody tr th:only-of-type {\n        vertical-align: middle;\n    }\n\n    .dataframe tbody tr th {\n        vertical-align: top;\n    }\n\n    .dataframe thead th {\n        text-align: right;\n    }\n</style>\n<table border=\"1\" class=\"dataframe\">\n  <thead>\n    <tr style=\"text-align: right;\">\n      <th></th>\n      <th>LOCATION_ID</th>\n      <th>CY_RAIN</th>\n      <th>PY_RAIN</th>\n    </tr>\n  </thead>\n  <tbody>\n    <tr>\n      <th>0</th>\n      <td>0</td>\n      <td>18.99</td>\n      <td>24.72</td>\n    </tr>\n    <tr>\n      <th>1</th>\n      <td>1</td>\n      <td>22.51</td>\n      <td>45.02</td>\n    </tr>\n    <tr>\n      <th>2</th>\n      <td>2</td>\n      <td>30.72</td>\n      <td>16.04</td>\n    </tr>\n    <tr>\n      <th>3</th>\n      <td>3</td>\n      <td>15.57</td>\n      <td>22.80</td>\n    </tr>\n    <tr>\n      <th>4</th>\n      <td>4</td>\n      <td>30.17</td>\n      <td>30.15</td>\n    </tr>\n    <tr>\n      <th>5</th>\n      <td>5</td>\n      <td>40.71</td>\n      <td>7.92</td>\n    </tr>\n  </tbody>\n</table>\n</div>"
          },
          "metadata": {}
        }
      ],
      "execution_count": 31
    },
    {
      "cell_type": "code",
      "source": "# by KENZA\nsql = \"\"\"\nSELECT LOCATION_ID,\n       SUM( CASE WHEN CAST(strftime('%Y', REPORT_DATE) AS INTEGER) = 2021 THEN RAIN ELSE null END ) AS PY_RAIN,\n       SUM( CASE WHEN CAST(strftime('%Y', REPORT_DATE) AS INTEGER) = 2020 THEN RAIN ELSE null END ) AS CY_RAIN\nFROM WEATHER_MONITOR\nGROUP BY LOCATION_ID\nLIMIT 6\n\"\"\"\npd.read_sql(sql,conn)",
      "metadata": {
        "colab": {
          "base_uri": "https://localhost:8080/",
          "height": 237
        },
        "id": "0yySf4x1vPEV",
        "outputId": "bd032d46-7f77-40d4-e427-34998a500770",
        "trusted": true
      },
      "outputs": [
        {
          "execution_count": 32,
          "output_type": "execute_result",
          "data": {
            "text/plain": "   LOCATION_ID  PY_RAIN  CY_RAIN\n0            0    18.99    24.72\n1            1    22.51    45.02\n2            2    30.72    16.04\n3            3    15.57    22.80\n4            4    30.17    30.15\n5            5    40.71     7.92",
            "text/html": "<div>\n<style scoped>\n    .dataframe tbody tr th:only-of-type {\n        vertical-align: middle;\n    }\n\n    .dataframe tbody tr th {\n        vertical-align: top;\n    }\n\n    .dataframe thead th {\n        text-align: right;\n    }\n</style>\n<table border=\"1\" class=\"dataframe\">\n  <thead>\n    <tr style=\"text-align: right;\">\n      <th></th>\n      <th>LOCATION_ID</th>\n      <th>PY_RAIN</th>\n      <th>CY_RAIN</th>\n    </tr>\n  </thead>\n  <tbody>\n    <tr>\n      <th>0</th>\n      <td>0</td>\n      <td>18.99</td>\n      <td>24.72</td>\n    </tr>\n    <tr>\n      <th>1</th>\n      <td>1</td>\n      <td>22.51</td>\n      <td>45.02</td>\n    </tr>\n    <tr>\n      <th>2</th>\n      <td>2</td>\n      <td>30.72</td>\n      <td>16.04</td>\n    </tr>\n    <tr>\n      <th>3</th>\n      <td>3</td>\n      <td>15.57</td>\n      <td>22.80</td>\n    </tr>\n    <tr>\n      <th>4</th>\n      <td>4</td>\n      <td>30.17</td>\n      <td>30.15</td>\n    </tr>\n    <tr>\n      <th>5</th>\n      <td>5</td>\n      <td>40.71</td>\n      <td>7.92</td>\n    </tr>\n  </tbody>\n</table>\n</div>"
          },
          "metadata": {}
        }
      ],
      "execution_count": 32
    },
    {
      "cell_type": "code",
      "source": "",
      "metadata": {
        "id": "84NtyAjGwJyP"
      },
      "outputs": [],
      "execution_count": null
    }
  ]
}