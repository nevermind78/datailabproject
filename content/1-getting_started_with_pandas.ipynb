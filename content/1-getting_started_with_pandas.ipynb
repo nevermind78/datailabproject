{
 "cells": [
  {
   "cell_type": "markdown",
   "id": "177d2370",
   "metadata": {},
   "source": [
    "![Datailab Logo](https://kajabi-storefronts-production.kajabi-cdn.com/kajabi-storefronts-production/file-uploads/themes/2155698250/settings_images/dd1ab6f-208-d4e5-d187-483a245d87_logo_header_Datailab.png)\n"
   ]
  },
  {
   "cell_type": "markdown",
   "id": "4eedaf6c-296c-442c-92ec-60b8a4595781",
   "metadata": {
    "slideshow": {
     "slide_type": "slide"
    },
    "tags": []
   },
   "source": [
    "# Section 1 : Débuter avec pandas avec Pandas\n",
    "\n",
    "Nous commencerons par introduire les classes `Series`, `DataFrame` et `Index`, qui sont les éléments de base de la bibliothèque pandas, et montrer comment travailler avec elles. À la fin de cette section, vous serez capable de créer des DataFrames et d'effectuer des opérations pour inspecter et filtrer les données.\n"
   ]
  },
  {
   "cell_type": "markdown",
   "id": "002b1f0a-a96e-424b-993a-8126452d31a1",
   "metadata": {
    "slideshow": {
     "slide_type": "slide"
    },
    "tags": []
   },
   "source": [
    "## Anatomie d'un DataFrame\n",
    "\n",
    "Un **DataFrame** est composé d'une ou plusieurs **Series**. Les noms des **Series** forment les noms des colonnes, et les étiquettes de ligne forment l'**Index**.\n"
   ]
  },
  {
   "cell_type": "code",
   "execution_count": null,
   "id": "c8c4e00d-8bbb-47ee-9c84-dba7b6c19636",
   "metadata": {
    "tags": []
   },
   "outputs": [],
   "source": [
    "import pandas as pd\n",
    "\n",
    "meteorites = pd.read_csv('data/Meteorite_Landings.csv', nrows=5)\n",
    "meteorites"
   ]
  },
  {
   "cell_type": "markdown",
   "id": "0f71bf2b-8ff6-4352-b764-ca323a4bcb5e",
   "metadata": {},
   "source": [
    "*Source: [NASA's Open Data Portal](https://data.nasa.gov/Space-Science/Meteorite-Landings/gh4g-9sfh)*"
   ]
  },
  {
   "cell_type": "markdown",
   "id": "a2cf49c1-944e-4dd9-82a6-7ba65282938d",
   "metadata": {
    "slideshow": {
     "slide_type": "subslide"
    },
    "tags": []
   },
   "source": [
    "#### Series:\n",
    "\n",
    "Pour accéder aux éléments de la séquences de la colonne name \n",
    "```python\n",
    "meteorites.name\n",
    "```\n"
   ]
  },
  {
   "cell_type": "code",
   "execution_count": null,
   "id": "e9481da8-a3b5-4f6e-b9fc-cdb049090dbe",
   "metadata": {
    "tags": []
   },
   "outputs": [],
   "source": [
    "meteorites.name"
   ]
  },
  {
   "cell_type": "markdown",
   "id": "5ad03f4e-5f74-4440-a825-cd8e964006d2",
   "metadata": {
    "slideshow": {
     "slide_type": "subslide"
    },
    "tags": []
   },
   "source": [
    "#### Columns:\n",
    "\n",
    "Pour donner la liste des colonnes \n",
    "```python\n",
    "meteorites.columns\n",
    "```"
   ]
  },
  {
   "cell_type": "code",
   "execution_count": null,
   "id": "2b8723c5-3e4d-4038-82c7-5c0e9651f01c",
   "metadata": {
    "tags": []
   },
   "outputs": [],
   "source": [
    "meteorites.columns"
   ]
  },
  {
   "cell_type": "markdown",
   "id": "649a8b50-2ff5-403b-8752-cbcf992de79f",
   "metadata": {
    "slideshow": {
     "slide_type": "fragment"
    },
    "tags": []
   },
   "source": [
    "#### Index:\n",
    "\n",
    "Pour afficher les indexes  \n",
    "```python\n",
    "meteorites.index\n",
    "```"
   ]
  },
  {
   "cell_type": "code",
   "execution_count": null,
   "id": "43a06370-f735-4a9d-a64f-493e03b2b2c7",
   "metadata": {
    "tags": []
   },
   "outputs": [],
   "source": [
    "meteorites.index"
   ]
  },
  {
   "cell_type": "markdown",
   "id": "49080335-73c4-4b21-a181-70370544f3aa",
   "metadata": {
    "slideshow": {
     "slide_type": "slide"
    },
    "tags": []
   },
   "source": [
    "## Création de DataFrames\n",
    "\n",
    "Nous pouvons créer des DataFrames à partir de diverses sources telles que d'autres objets Python, des fichiers plats, le web scraping et les requêtes API. Ici, nous verrons juste quelques exemples, mais assurez-vous de consulter [cette page](https://pandas.pydata.org/pandas-docs/stable/user_guide/io.html) dans la documentation pour une liste complète.\n"
   ]
  },
  {
   "cell_type": "markdown",
   "id": "a655f25f-c5ce-4286-a671-eee6c1eef663",
   "metadata": {
    "slideshow": {
     "slide_type": "subslide"
    },
    "tags": []
   },
   "source": [
    "### Utilisation d'un fichier plat\n"
   ]
  },
  {
   "cell_type": "code",
   "execution_count": null,
   "id": "96da3638-773f-4a4a-a766-b5f34da67f80",
   "metadata": {},
   "outputs": [],
   "source": [
    "import pandas as pd\n",
    "\n",
    "meteorites = pd.read_csv('data/Meteorite_Landings.csv')"
   ]
  },
  {
   "cell_type": "markdown",
   "id": "0ac0a6c5-9366-481f-87cc-5d84742cebf8",
   "metadata": {
    "slideshow": {
     "slide_type": "fragment"
    },
    "tags": []
   },
   "source": [
    "*Tip : Cette fonction possède de nombreux paramètres pour gérer un traitement initial lors de la lecture du fichier &ndash; assurez-vous de consulter la [documentation](https://pandas.pydata.org/docs/reference/api/pandas.read_csv.html).*\n"
   ]
  },
  {
   "cell_type": "markdown",
   "id": "8097800d-f20a-4a28-ab25-ec2218903cb3",
   "metadata": {
    "slideshow": {
     "slide_type": "subslide"
    },
    "tags": []
   },
   "source": [
    "### Utilisation de données depuis une API\n",
    "\n",
    "Collectez les données depuis le [Portail de données ouvertes de la NASA](https://data.nasa.gov/Space-Science/Meteorite-Landings/gh4g-9sfh) en utilisant l'API de données ouvertes Socrata (SODA) avec la bibliothèque `requests` :\n"
   ]
  },
  {
   "cell_type": "code",
   "execution_count": null,
   "id": "45bf1785-4f25-461b-b600-543ccb0fccff",
   "metadata": {
    "tags": []
   },
   "outputs": [],
   "source": [
    "import requests\n",
    "\n",
    "response = requests.get(\n",
    "    'https://data.nasa.gov/resource/gh4g-9sfh.json',\n",
    "    params={'$limit': 50_000}\n",
    ")\n",
    "\n",
    "if response.ok:\n",
    "    payload = response.json()\n",
    "else:\n",
    "    print(f'Request was not successful and returned code: {response.status_code}.')\n",
    "    payload = None"
   ]
  },
  {
   "cell_type": "markdown",
   "id": "575a0059-5f81-46cf-9a1c-7dc06d874a72",
   "metadata": {
    "slideshow": {
     "slide_type": "subslide"
    },
    "tags": []
   },
   "source": [
    "Créez le DataFrame avec la charge utile résultante payload:\n"
   ]
  },
  {
   "cell_type": "code",
   "execution_count": null,
   "id": "be644eb4-193e-4820-9855-3e959c899319",
   "metadata": {},
   "outputs": [],
   "source": [
    "import pandas as pd\n",
    "\n",
    "df = pd.DataFrame(payload)\n",
    "df.head(3)"
   ]
  },
  {
   "cell_type": "markdown",
   "id": "09f139e3-ae7a-4f53-96ae-5f8de4e641d2",
   "metadata": {
    "slideshow": {
     "slide_type": "fragment"
    },
    "tags": []
   },
   "source": [
    "*Astuce : `df.to_csv('data.csv')` écrit ces données dans un nouveau fichier nommé `data.csv`.*\n"
   ]
  },
  {
   "cell_type": "markdown",
   "id": "0a263d5a-d2c5-46c2-990c-3894b3ed39bf",
   "metadata": {
    "slideshow": {
     "slide_type": "slide"
    },
    "tags": []
   },
   "source": [
    "## Inspection des données\n",
    "Maintenant que nous avons des données, nous devons effectuer une inspection initiale. Cela nous donne des informations sur l'apparence des données, le nombre de lignes/colonnes, et la quantité de données que nous avons.\n"
   ]
  },
  {
   "cell_type": "markdown",
   "id": "f3e541dd-73d2-4f40-82e0-b8a59aa48b04",
   "metadata": {
    "slideshow": {
     "slide_type": "fragment"
    },
    "tags": []
   },
   "source": [
    "Inspectons les données des `météorites`.\n"
   ]
  },
  {
   "cell_type": "markdown",
   "id": "0246c277-5638-49a9-a7e1-6e82b1c15265",
   "metadata": {
    "slideshow": {
     "slide_type": "subslide"
    },
    "tags": []
   },
   "source": [
    "#### Combien y a-t-il de lignes et de colonnes ?\n"
   ]
  },
  {
   "cell_type": "code",
   "execution_count": null,
   "id": "d968d99d-dbf8-4402-a556-4200e13afe72",
   "metadata": {},
   "outputs": [],
   "source": [
    "meteorites.shape"
   ]
  },
  {
   "cell_type": "markdown",
   "id": "8ee994e7-25e0-4062-ae29-fadb0f698c88",
   "metadata": {
    "slideshow": {
     "slide_type": "fragment"
    },
    "tags": []
   },
   "source": [
    "#### Quels sont les noms des colonnes ?\n"
   ]
  },
  {
   "cell_type": "code",
   "execution_count": null,
   "id": "24045c3d-085f-485d-b5a7-422037b24272",
   "metadata": {},
   "outputs": [],
   "source": [
    "meteorites.columns"
   ]
  },
  {
   "cell_type": "markdown",
   "id": "3b138718-9c73-40f0-b4d2-7280a688fa89",
   "metadata": {
    "slideshow": {
     "slide_type": "subslide"
    },
    "tags": []
   },
   "source": [
    "#### Quel type de données chaque colonne contient-elle actuellement ?\n"
   ]
  },
  {
   "cell_type": "code",
   "execution_count": null,
   "id": "408c70cc-f900-45d2-828d-827ba6dd4123",
   "metadata": {},
   "outputs": [],
   "source": [
    "meteorites.dtypes"
   ]
  },
  {
   "cell_type": "markdown",
   "id": "d6011183-5228-4f1c-a7c4-3f4e1cc9a4db",
   "metadata": {
    "slideshow": {
     "slide_type": "subslide"
    },
    "tags": []
   },
   "source": [
    "#### À quoi ressemblent les données ?\n"
   ]
  },
  {
   "cell_type": "code",
   "execution_count": null,
   "id": "3de2f605-ca0a-4e5e-9add-76309296adf5",
   "metadata": {},
   "outputs": [],
   "source": [
    "meteorites.head()\n",
    "# .head() pour afficher les 5 premières lignes "
   ]
  },
  {
   "cell_type": "markdown",
   "id": "54e767f9-adb9-4921-86be-75426fb13846",
   "metadata": {
    "slideshow": {
     "slide_type": "subslide"
    },
    "tags": []
   },
   "source": [
    "Parfois, il peut y avoir des données superflues à la fin du fichier, donc vérifier les dernières lignes est également important :\n"
   ]
  },
  {
   "cell_type": "code",
   "execution_count": null,
   "id": "3b7f694d-c34c-4042-a051-07dc8759a11c",
   "metadata": {
    "tags": []
   },
   "outputs": [],
   "source": [
    "meteorites.tail()"
   ]
  },
  {
   "cell_type": "markdown",
   "id": "3f4989da-09bd-4f22-bb5a-b69d57e07b00",
   "metadata": {
    "slideshow": {
     "slide_type": "subslide"
    },
    "tags": []
   },
   "source": [
    "#### Obtenir des informations sur le DataFrame\n"
   ]
  },
  {
   "cell_type": "code",
   "execution_count": null,
   "id": "acbaa48e-0ebc-4412-b5ff-bded4f43e806",
   "metadata": {},
   "outputs": [],
   "source": [
    "meteorites.info()"
   ]
  },
  {
   "cell_type": "markdown",
   "id": "462f9df6-c1fc-4eaa-9c43-e810badb2257",
   "metadata": {},
   "source": [
    "### [Exercice 1.1](./workbook.ipynb#Exercice-1.1)\n",
    "\n",
    "##### Créez un DataFrame en lisant le fichier `2019_Yellow_Taxi_Trip_Data.csv`. Examinez les 5 premières lignes.\n"
   ]
  },
  {
   "cell_type": "code",
   "execution_count": null,
   "id": "317e4c45-7afe-425f-a7a2-cad55f20a91e",
   "metadata": {},
   "outputs": [],
   "source": [
    "# Complétez cet exercice dans le fichier workbook.ipynb\n",
    "# Cliquez sur `Exercice 1.1` ci-dessus pour ouvrir le fichier workbook.ipynb\n",
    "\n"
   ]
  },
  {
   "cell_type": "markdown",
   "id": "230a3c7f-8907-43d1-b7e0-9fe678c04d17",
   "metadata": {},
   "source": [
    "### [Exercice 1.2](./workbook.ipynb#Exercice-1.2)\n",
    "\n",
    "##### Trouvez les dimensions (nombre de lignes et nombre de colonnes) des données.\n"
   ]
  },
  {
   "cell_type": "code",
   "execution_count": null,
   "id": "ceab7259-c412-4f8b-b0be-e3cc801836b0",
   "metadata": {},
   "outputs": [],
   "source": [
    "# Complétez cet exercice dans le fichier workbook.ipynb\n",
    "# Cliquez sur `Exercice 1.2` ci-dessus pour ouvrir le fichier workbook.ipynb\n",
    "\n",
    "\n"
   ]
  },
  {
   "cell_type": "markdown",
   "id": "0d63f1c9-2b23-4585-8df0-358159b26801",
   "metadata": {
    "slideshow": {
     "slide_type": "slide"
    },
    "tags": []
   },
   "source": [
    "## Extraction de sous-ensembles\n",
    "\n",
    "Une partie cruciale du travail avec les DataFrames consiste à extraire des sous-ensembles de données : trouver des lignes qui répondent à certains critères, isoler des colonnes/lignes d'intérêt, etc. En réduisant nos données, nous nous rapprochons de la découverte d'informations clés. Cette section sera le fondement de nombreuses tâches d'analyse.\n"
   ]
  },
  {
   "cell_type": "markdown",
   "id": "9c1a3793-29f7-4c0e-90d3-230475c611f7",
   "metadata": {
    "slideshow": {
     "slide_type": "subslide"
    },
    "tags": []
   },
   "source": [
    "#### Sélection des colonnes\n",
    "\n",
    "Nous pouvons sélectionner des colonnes comme des attributs si leurs noms sont des variables Python valides :\n"
   ]
  },
  {
   "cell_type": "code",
   "execution_count": null,
   "id": "2a084a5d-3d1c-4bef-9704-7c7ec69a73b1",
   "metadata": {},
   "outputs": [],
   "source": [
    "meteorites.name"
   ]
  },
  {
   "cell_type": "markdown",
   "id": "ac335459-7a87-443f-b349-7a7b826a5ffa",
   "metadata": {
    "slideshow": {
     "slide_type": "subslide"
    },
    "tags": []
   },
   "source": [
    "Si ce n'est pas le cas, nous devons les sélectionner comme des clés. Cependant, nous pouvons sélectionner plusieurs colonnes à la fois de cette manière :\n"
   ]
  },
  {
   "cell_type": "code",
   "execution_count": null,
   "id": "df5c98ef-0227-44e4-8038-de151a9d8717",
   "metadata": {},
   "outputs": [],
   "source": [
    "meteorites[['name', 'mass (g)']]"
   ]
  },
  {
   "cell_type": "markdown",
   "id": "c3c390e8-1199-4cfe-a8f9-6998ddfa9f14",
   "metadata": {
    "slideshow": {
     "slide_type": "subslide"
    },
    "tags": []
   },
   "source": [
    "#### Sélection des lignes\n"
   ]
  },
  {
   "cell_type": "code",
   "execution_count": null,
   "id": "c1a63e64-8a01-4762-b1c2-79b2f1068ea9",
   "metadata": {},
   "outputs": [],
   "source": [
    "meteorites[100:104]"
   ]
  },
  {
   "cell_type": "markdown",
   "id": "84a61a58-50ca-4f10-ad26-36db5022ee9f",
   "metadata": {
    "slideshow": {
     "slide_type": "subslide"
    },
    "tags": []
   },
   "source": [
    "We use `loc[]` to select by name:"
   ]
  },
  {
   "cell_type": "code",
   "execution_count": null,
   "id": "50087ab8-2a1d-4312-a7c7-791bc7c35e9b",
   "metadata": {},
   "outputs": [],
   "source": [
    "meteorites.iloc[100:104, [0, 3, 4, 6]]"
   ]
  },
  {
   "cell_type": "markdown",
   "id": "1798f9cc-8f05-4147-a351-cb3f9f6b765c",
   "metadata": {
    "slideshow": {
     "slide_type": "fragment"
    },
    "tags": []
   },
   "source": [
    "Nous utilisons `loc[]` pour sélectionner par nom :\n"
   ]
  },
  {
   "cell_type": "code",
   "execution_count": null,
   "id": "eb7a1cdb-e0cc-4c58-ae96-1dabe4d5fad7",
   "metadata": {},
   "outputs": [],
   "source": [
    "meteorites.loc[100:104, 'mass (g)':'year']"
   ]
  },
  {
   "cell_type": "markdown",
   "id": "d601db18-6091-4234-916c-f5d5e6f8fd86",
   "metadata": {
    "slideshow": {
     "slide_type": "subslide"
    },
    "tags": []
   },
   "source": [
    "#### Filtrage avec des masques booléens\n",
    "\n",
    "Un **masque booléen** est une structure de type tableau contenant des valeurs booléennes &ndash; c'est une façon de spécifier quelles lignes/colonnes nous voulons sélectionner (`True`) et lesquelles nous ne voulons pas (`False`).\n"
   ]
  },
  {
   "cell_type": "markdown",
   "id": "753004e2-c9ef-4dbf-86cc-fd5d48babeb2",
   "metadata": {
    "slideshow": {
     "slide_type": "subslide"
    },
    "tags": []
   },
   "source": [
    "Voici un exemple de masque booléen pour les météorites pesant plus de 50 grammes qui ont été trouvées sur Terre (c'est-à-dire qu'elles n'ont pas été observées en train de tomber) :\n"
   ]
  },
  {
   "cell_type": "code",
   "execution_count": null,
   "id": "1f59f4cb-9f82-42ef-8c5f-c42d0f48447d",
   "metadata": {},
   "outputs": [],
   "source": [
    "(meteorites['mass (g)'] > 50) & (meteorites.fall == 'Found')"
   ]
  },
  {
   "cell_type": "markdown",
   "id": "26a1b2dd-08fc-40bc-a260-6445edc31382",
   "metadata": {
    "slideshow": {
     "slide_type": "fragment"
    },
    "tags": []
   },
   "source": [
    "**Important** : Notez la syntaxe ici. Nous entourons chaque condition de parenthèses, et nous utilisons les opérateurs bit à bit (`&`, `|`, `~`) plutôt que les opérateurs logiques (`and`, `or`, `not`).\n"
   ]
  },
  {
   "cell_type": "markdown",
   "id": "0086f863-cd77-4e0d-bea7-364b18d4ed6a",
   "metadata": {
    "slideshow": {
     "slide_type": "subslide"
    },
    "tags": []
   },
   "source": [
    "Nous pouvons utiliser un masque booléen pour sélectionner le sous-ensemble des météorites pesant plus d'un million de grammes (1 000 kilogrammes ou environ 2 205 livres) qui ont été observées en train de tomber :\n"
   ]
  },
  {
   "cell_type": "code",
   "execution_count": null,
   "id": "46727a7f-d5e7-4de9-b69a-762413de9567",
   "metadata": {},
   "outputs": [],
   "source": [
    "meteorites[(meteorites['mass (g)'] > 1e6) & (meteorites.fall == 'Fell')]"
   ]
  },
  {
   "cell_type": "markdown",
   "id": "055cc350-e9e0-42b2-839b-4ad45312e172",
   "metadata": {
    "slideshow": {
     "slide_type": "fragment"
    },
    "tags": []
   },
   "source": [
    "*Astuce : Les masques booléens peuvent être utilisés avec `loc[]` et `iloc[]`.*\n"
   ]
  },
  {
   "cell_type": "markdown",
   "id": "b4e791ea-92e5-4f30-974c-63b9195af1c2",
   "metadata": {
    "slideshow": {
     "slide_type": "subslide"
    },
    "tags": []
   },
   "source": [
    "Une alternative à cela est la méthode `query()` :\n"
   ]
  },
  {
   "cell_type": "code",
   "execution_count": null,
   "id": "bde8231a-3f4a-43e1-a90e-051a125a00af",
   "metadata": {},
   "outputs": [],
   "source": [
    "meteorites.query(\"`mass (g)` > 1e6 and fall == 'Fell'\")"
   ]
  },
  {
   "cell_type": "markdown",
   "id": "869e853c-9073-49fb-beb6-05a84c882d54",
   "metadata": {
    "slideshow": {
     "slide_type": "fragment"
    },
    "tags": []
   },
   "source": [
    "*Astuce : Ici, nous pouvons utiliser à la fois des opérateurs logiques et des opérateurs bit à bit.*\n"
   ]
  },
  {
   "cell_type": "markdown",
   "id": "619cd5be-db0e-4ce6-99fb-1ebe6328e693",
   "metadata": {
    "slideshow": {
     "slide_type": "slide"
    },
    "tags": []
   },
   "source": [
    "## Calcul des statistiques récapitulatives\n",
    "\n",
    "Dans la prochaine section de cet atelier, nous discuterons du nettoyage des données pour une analyse plus significative de nos ensembles de données. Cependant, nous pouvons déjà extraire des informations intéressantes des données sur les `météorites` en calculant des statistiques récapitulatives.\n"
   ]
  },
  {
   "cell_type": "markdown",
   "id": "2e45f672-cb84-4718-a9f1-6e7abf16252e",
   "metadata": {
    "slideshow": {
     "slide_type": "subslide"
    },
    "tags": []
   },
   "source": [
    "#### Combien de météorites ont été trouvées par rapport à celles observées en train de tomber ?\n"
   ]
  },
  {
   "cell_type": "code",
   "execution_count": null,
   "id": "01433b12-c3f2-4680-a654-bb20bc8c2157",
   "metadata": {},
   "outputs": [],
   "source": [
    "meteorites.fall.value_counts()"
   ]
  },
  {
   "cell_type": "markdown",
   "id": "9fb5584e-92f2-4b30-a7bd-1ed9edd28db2",
   "metadata": {
    "slideshow": {
     "slide_type": "fragment"
    },
    "tags": []
   },
   "source": [
    "*Astuce : Utilisez `normalize=True` pour voir ce résultat en pourcentages. Consultez la [documentation](https://pandas.pydata.org/docs/reference/api/pandas.Series.value_counts.html) pour des fonctionnalités supplémentaires.*\n"
   ]
  },
  {
   "cell_type": "markdown",
   "id": "ef8f5c35-57e4-4347-845e-39fa4de28075",
   "metadata": {
    "slideshow": {
     "slide_type": "subslide"
    },
    "tags": []
   },
   "source": [
    "#### Quel était le poids moyen d'une météorite ?\n"
   ]
  },
  {
   "cell_type": "code",
   "execution_count": null,
   "id": "b998653e-02dd-4540-ba66-dbc4b458b558",
   "metadata": {},
   "outputs": [],
   "source": [
    "meteorites['mass (g)'].mean()"
   ]
  },
  {
   "cell_type": "markdown",
   "id": "a398ecbe-10cc-4498-a7f1-91ea0bc736d2",
   "metadata": {
    "slideshow": {
     "slide_type": "fragment"
    },
    "tags": []
   },
   "source": [
    "**Important** : La moyenne n'est pas toujours la meilleure mesure de la tendance centrale. Si la distribution contient des valeurs aberrantes, la moyenne sera biaisée. Ici, la moyenne est tirée vers le haut par quelques météorites très lourdes &ndash; la distribution est [asymétrique vers la droite](https://www.analyticsvidhya.com/blog/2020/07/what-is-skewness-statistics/).\n"
   ]
  },
  {
   "cell_type": "markdown",
   "id": "7b0162c6-f48f-4687-9902-72325ebecc0d",
   "metadata": {
    "slideshow": {
     "slide_type": "subslide"
    },
    "tags": []
   },
   "source": [
    "En examinant certains quantiles aux extrémités de la distribution, on constate que la moyenne se situe entre le 95e et le 99e centile de la distribution, ce qui en fait une mauvaise mesure de la tendance centrale ici :\n"
   ]
  },
  {
   "cell_type": "code",
   "execution_count": null,
   "id": "b7379492-da17-4358-b357-2ae6e1a26e67",
   "metadata": {},
   "outputs": [],
   "source": [
    "meteorites['mass (g)'].quantile([0.01, 0.05, 0.5, 0.95, 0.99])"
   ]
  },
  {
   "cell_type": "markdown",
   "id": "2ca1c739-cf2b-4000-bedb-b66a3d11f071",
   "metadata": {
    "slideshow": {
     "slide_type": "fragment"
    },
    "tags": []
   },
   "source": [
    "Une meilleure mesure dans ce cas est la médiane (50e percentile), car elle est robuste aux valeurs aberrantes :\n"
   ]
  },
  {
   "cell_type": "code",
   "execution_count": null,
   "id": "bc2e62f3-899d-4a50-a2f4-8b2e73e1bc2f",
   "metadata": {},
   "outputs": [],
   "source": [
    "meteorites['mass (g)'].median()"
   ]
  },
  {
   "cell_type": "markdown",
   "id": "eebd8f14-f25b-453e-8d74-6e4b4d57aea2",
   "metadata": {
    "slideshow": {
     "slide_type": "subslide"
    },
    "tags": []
   },
   "source": [
    "#### Quel était le poids de la météorite la plus lourde ?\n"
   ]
  },
  {
   "cell_type": "code",
   "execution_count": null,
   "id": "585af605-e601-49b6-bd1f-4838ab993302",
   "metadata": {},
   "outputs": [],
   "source": [
    "meteorites['mass (g)'].max()"
   ]
  },
  {
   "cell_type": "markdown",
   "id": "6cb28eaf-0850-48f6-87c9-db3d8327e759",
   "metadata": {
    "slideshow": {
     "slide_type": "fragment"
    },
    "tags": []
   },
   "source": [
    "Examinons les informations sur cette météorite :\n"
   ]
  },
  {
   "cell_type": "code",
   "execution_count": null,
   "id": "29720ccc-3855-42f7-a0d0-e41a83cf1bef",
   "metadata": {},
   "outputs": [],
   "source": [
    "meteorites.loc[meteorites['mass (g)'].idxmax()]"
   ]
  },
  {
   "cell_type": "markdown",
   "id": "f2deea52-a1f9-4b5f-80bb-5074862783ec",
   "metadata": {
    "slideshow": {
     "slide_type": "subslide"
    },
    "tags": []
   },
   "source": [
    "#### Combien de types différents de classes de météorites sont représentés dans cet ensemble de données ?\n"
   ]
  },
  {
   "cell_type": "code",
   "execution_count": null,
   "id": "79c2a1db-0eeb-4173-964a-a38741c059ba",
   "metadata": {},
   "outputs": [],
   "source": [
    "meteorites.recclass.nunique()"
   ]
  },
  {
   "cell_type": "markdown",
   "id": "0c0929d1-d296-4e11-89fb-7f3e707be732",
   "metadata": {
    "slideshow": {
     "slide_type": "fragment"
    },
    "tags": []
   },
   "source": [
    "Some examples:"
   ]
  },
  {
   "cell_type": "code",
   "execution_count": null,
   "id": "3ac57de5-7734-478a-9772-feb82890d5ef",
   "metadata": {},
   "outputs": [],
   "source": [
    "meteorites.recclass.unique()[:14]"
   ]
  },
  {
   "cell_type": "markdown",
   "id": "1e0eecb1-a224-44b4-bde2-79d794a7eca8",
   "metadata": {},
   "source": [
    "*Note : Tous les champs précédés de \"rec\" sont les valeurs recommandées par la Société météoritique. Consultez [cet article Wikipedia](https://en.wikipedia.org/wiki/Meteorite_classification) pour des informations sur les classes de météorites.*\n"
   ]
  },
  {
   "cell_type": "markdown",
   "id": "a0755e36-3761-4eb1-a91d-0d6abe9e672f",
   "metadata": {
    "slideshow": {
     "slide_type": "subslide"
    },
    "tags": []
   },
   "source": [
    "#### Obtenir des statistiques récapitulatives sur les données elles-mêmes\n",
    "Nous pouvons obtenir des statistiques récapitulatives courantes pour toutes les colonnes à la fois. Par défaut, cela ne sera fait que pour les colonnes numériques, mais ici, nous résumerons tout ensemble :\n"
   ]
  },
  {
   "cell_type": "code",
   "execution_count": null,
   "id": "f0297d45-1d86-411f-ad8e-74cfaa3b2389",
   "metadata": {},
   "outputs": [],
   "source": [
    "meteorites.describe(include='all')"
   ]
  },
  {
   "cell_type": "markdown",
   "id": "96e7cd90-e515-4068-ae66-f4d2bcab6712",
   "metadata": {},
   "source": [
    "**Important** : Les valeurs `NaN` indiquent des données manquantes. Par exemple, la colonne `fall` contient des chaînes de caractères, donc il n'y a pas de valeur pour `moyenne`; de même, `masse (g)` est numérique, donc nous n'avons pas d'entrées pour les statistiques récapitulatives catégorielles (`unique`, `top`, `fréq`).\n"
   ]
  },
  {
   "cell_type": "markdown",
   "id": "7b290818-09d8-4646-94e3-b14f88d25b43",
   "metadata": {
    "slideshow": {
     "slide_type": "subslide"
    },
    "tags": []
   },
   "source": [
    "#### Consultez la documentation pour plus de statistiques descriptives :\n",
    "\n",
    "- [Series](https://pandas.pydata.org/docs/reference/series.html#computations-descriptive-stats)\n",
    "- [DataFrame](https://pandas.pydata.org/docs/reference/frame.html#computations-descriptive-stats)\n"
   ]
  },
  {
   "cell_type": "code",
   "execution_count": null,
   "id": "ea358244-0dce-4c0c-9383-edddebab30c1",
   "metadata": {},
   "outputs": [],
   "source": []
  }
 ],
 "metadata": {
  "kernelspec": {
   "display_name": "Python 3 (ipykernel)",
   "language": "python",
   "name": "python3"
  },
  "language_info": {
   "codemirror_mode": {
    "name": "ipython",
    "version": 3
   },
   "file_extension": ".py",
   "mimetype": "text/x-python",
   "name": "python",
   "nbconvert_exporter": "python",
   "pygments_lexer": "ipython3",
   "version": "3.11.5"
  }
 },
 "nbformat": 4,
 "nbformat_minor": 5
}
