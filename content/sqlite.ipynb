{
  "metadata": {
    "kernelspec": {
      "name": "python",
      "display_name": "Python (Pyodide)",
      "language": "python"
    },
    "language_info": {
      "codemirror_mode": {
        "name": "python",
        "version": 3
      },
      "file_extension": ".py",
      "mimetype": "text/x-python",
      "name": "python",
      "nbconvert_exporter": "python",
      "pygments_lexer": "ipython3",
      "version": "3.8"
    }
  },
  "nbformat_minor": 4,
  "nbformat": 4,
  "cells": [
    {
      "cell_type": "markdown",
      "source": "<div style=\"\n    color: red; \n    border: 2px solid black; \n    border-radius: 15px; \n    padding: 8px; \n    font-size: 24px; \n    font-weight: bold; \n    text-align: center; \n    margin: 20px 0;\">\n    <div style=\"\n        border: 2px solid red; \n        border-radius: 10px; \n        padding: 10px;\">\n        <img src=\"https://kajabi-storefronts-production.kajabi-cdn.com/kajabi-storefronts-production/file-uploads/themes/2155698250/settings_images/dd1ab6f-208-d4e5-d187-483a245d87_logo_header_Datailab.png\" alt=\"Datailab Logo\" style=\"max-width: 100%; height: auto;\">\n        <h2 style=\"color: black; margin-top: 10px;\">SQL , Jupyternotebook, SQLlite </h2>\n    </div>\n</div>",
      "metadata": {}
    },
    {
      "cell_type": "markdown",
      "source": "<div style=\"\n    color: red; \n    border: 2px solid black; \n    border-radius: 15px; \n    padding: 8px; \n    font-size: 18px; \n    font-weight: bold; \n    text-align: center; \n    margin: 20px 0;\">\n    <div style=\"\n        border: 2px solid red; \n        border-radius: 10px; \n        padding: 10px;\">\n       Prérequis\n    </div>\n</div>\nExécuter cette ceulle\n",
      "metadata": {}
    },
    {
      "cell_type": "code",
      "source": "%pip install -q ipython-sql mysql-connector-python ipywidgets ",
      "metadata": {
        "trusted": true
      },
      "outputs": [],
      "execution_count": 5
    },
    {
      "cell_type": "markdown",
      "source": "<div style=\"\n    color: red; \n    border: 2px solid black; \n    border-radius: 15px; \n    padding: 8px; \n    font-size: 18px; \n    font-weight: bold; \n    text-align: center; \n    margin: 20px 0;\">\n    <div style=\"\n        border: 2px solid red; \n        border-radius: 10px; \n        padding: 10px;\">\n       Charger SQL\n    </div>\n</div>",
      "metadata": {}
    },
    {
      "cell_type": "code",
      "source": "%load_ext sql",
      "metadata": {
        "trusted": true
      },
      "outputs": [],
      "execution_count": 7
    },
    {
      "cell_type": "markdown",
      "source": "<div style=\"\n    color: red; \n    border: 2px solid black; \n    border-radius: 15px; \n    padding: 8px; \n    font-size: 18px; \n    font-weight: bold; \n    text-align: center; \n    margin: 20px 0;\">\n    <div style=\"\n        border: 2px solid red; \n        border-radius: 10px; \n        padding: 10px;\">\n       Connexion à une base de données\n    </div>\n</div>",
      "metadata": {}
    },
    {
      "cell_type": "code",
      "source": "%sql sqlite:///data/company_operations.db\n",
      "metadata": {
        "trusted": true
      },
      "outputs": [],
      "execution_count": 8
    },
    {
      "cell_type": "markdown",
      "source": "<div style=\"\n    color: red; \n    border: 2px solid black; \n    border-radius: 15px; \n    padding: 8px; \n    font-size: 18px; \n    font-weight: bold; \n    text-align: center; \n    margin: 20px 0;\">\n    <div style=\"\n        border: 2px solid red; \n        border-radius: 10px; \n        padding: 10px;\">\n       Séléctionner les 5 premières lignes de la table Customer\n    </div>\n</div>",
      "metadata": {}
    },
    {
      "cell_type": "code",
      "source": "%%sql\nSELECT * FROM CUSTOMER\nLIMIT 5\n\n",
      "metadata": {
        "trusted": true
      },
      "outputs": [
        {
          "name": "stdout",
          "text": " * sqlite:///data/company_operations.db\nDone.\n",
          "output_type": "stream"
        },
        {
          "execution_count": 14,
          "output_type": "execute_result",
          "data": {
            "text/plain": "[(1, 'Alpha Medical', '18745 Train Dr', 'Dallas', 'TX', 75021, 'INDUSTRIAL'),\n (2, 'Oak Cliff Base', '2379 Cliff Ave', 'Abbevile', 'LA', 70510, 'GOVERNMENT'),\n (3, 'Sports Unlimited', '1605 Station Dr', 'Alexandrai', 'LA', 71301, 'COMMERCIAL'),\n (4, 'Riley Sporting Goods', '9854 Firefly Blvd', 'Austin', 'TX', 78701, 'COMMERCIAL'),\n (5, 'Lite Industrial', '462 Roadrunner Blvd', 'Houston', 'TX', 77254, 'INDUSTRIAL')]",
            "text/html": "<table>\n    <thead>\n        <tr>\n            <th>CUSTOMER_ID</th>\n            <th>CUSTOMER_NAME</th>\n            <th>ADDRESS</th>\n            <th>CITY</th>\n            <th>STATE</th>\n            <th>ZIP</th>\n            <th>CATEGORY</th>\n        </tr>\n    </thead>\n    <tbody>\n        <tr>\n            <td>1</td>\n            <td>Alpha Medical</td>\n            <td>18745 Train Dr</td>\n            <td>Dallas</td>\n            <td>TX</td>\n            <td>75021</td>\n            <td>INDUSTRIAL</td>\n        </tr>\n        <tr>\n            <td>2</td>\n            <td>Oak Cliff Base</td>\n            <td>2379 Cliff Ave</td>\n            <td>Abbevile</td>\n            <td>LA</td>\n            <td>70510</td>\n            <td>GOVERNMENT</td>\n        </tr>\n        <tr>\n            <td>3</td>\n            <td>Sports Unlimited</td>\n            <td>1605 Station Dr</td>\n            <td>Alexandrai</td>\n            <td>LA</td>\n            <td>71301</td>\n            <td>COMMERCIAL</td>\n        </tr>\n        <tr>\n            <td>4</td>\n            <td>Riley Sporting Goods</td>\n            <td>9854 Firefly Blvd</td>\n            <td>Austin</td>\n            <td>TX</td>\n            <td>78701</td>\n            <td>COMMERCIAL</td>\n        </tr>\n        <tr>\n            <td>5</td>\n            <td>Lite Industrial</td>\n            <td>462 Roadrunner Blvd</td>\n            <td>Houston</td>\n            <td>TX</td>\n            <td>77254</td>\n            <td>INDUSTRIAL</td>\n        </tr>\n    </tbody>\n</table>"
          },
          "metadata": {}
        }
      ],
      "execution_count": 14
    },
    {
      "cell_type": "markdown",
      "source": "<div style=\"\n    color: red; \n    border: 2px solid black; \n    border-radius: 15px; \n    padding: 8px; \n    font-size: 18px; \n    font-weight: bold; \n    text-align: center; \n    margin: 20px 0;\">\n    <div style=\"\n        border: 2px solid red; \n        border-radius: 10px; \n        padding: 10px;\">\n       Afficher le SCHEMA de la base de  donnée \n    </div>\n</div>",
      "metadata": {}
    },
    {
      "cell_type": "code",
      "source": "%%sql\n\nSELECT * FROM sqlite_master WHERE type='table'",
      "metadata": {
        "trusted": true
      },
      "outputs": [
        {
          "name": "stdout",
          "text": " * sqlite:///data/company_operations.db\nDone.\n",
          "output_type": "stream"
        },
        {
          "execution_count": 11,
          "output_type": "execute_result",
          "data": {
            "text/plain": "[('table', 'CALENDAR', 'CALENDAR', 2, 'CREATE TABLE CALENDAR (CALENDAR_DATE DATE PRIMARY KEY)'),\n ('table', 'CUSTOMER', 'CUSTOMER', 4, \"CREATE TABLE CUSTOMER (CUSTOMER_ID INTEGER PRIMARY KEY, CUSTOMER_NAME VARCHAR (30) NOT NULL, ADDRESS VARCHAR (50) NOT NULL, CITY VARCHAR (20) NOT NULL, STATE CHAR (2) NOT NULL, ZIP INTEGER, CATEGORY VARCHAR NOT NULL CHECK (CATEGORY IN ('GOVERNMENT', 'COMMERCIAL', 'INDUSTRIAL')))\"),\n ('table', 'EMPLOYEE', 'EMPLOYEE', 5, 'CREATE TABLE EMPLOYEE (ID INTEGER PRIMARY KEY, FIRST_NAME VARCHAR NOT NULL, LAST_NAME VARCHAR NOT NULL, TITLE VARCHAR NOT NULL, DEPARTMENT VARCHAR NOT NULL, HIRE_DATE DATE, DEPARTURE_DATE DATE, MANAGER_ID INTEGER)'),\n ('table', 'PRODUCT', 'PRODUCT', 6, 'CREATE TABLE PRODUCT (PRODUCT_ID INTEGER PRIMARY KEY NOT NULL, PRODUCT_NAME VARCHAR (30) NOT NULL, PRODUCT_GROUP VARCHAR, PRICE DECIMAL NOT NULL)'),\n ('table', 'CUSTOMER_ORDER', 'CUSTOMER_ORDER', 7, 'CREATE TABLE CUSTOMER_ORDER (CUSTOMER_ORDER_ID INTEGER PRIMARY KEY, CUSTOMER_ID INTEGER NOT NULL REFERENCES CUSTOMER (CUSTOMER_ID), ORDER_DATE DATE NOT NULL, PRODUCT_ID INTEGER NOT NULL, QUANTITY INTEGER NOT NULL, RUSH_SHIP BOOLEAN DEFAULT (0))'),\n ('table', 'EMPLOYEE_AIR_TRAVEL', 'EMPLOYEE_AIR_TRAVEL', 10, 'CREATE TABLE EMPLOYEE_AIR_TRAVEL (BOOKING_ID INTEGER PRIMARY KEY, BOOKED_EMPLOYEE_ID INTEGER NOT NULL REFERENCES EMPLOYEE (ID), DEPARTURE_DATE DATE N ... (31 characters truncated) ... LL, DESTINATION CHAR (3) NOT NULL, FARE_PRICE DOUBLE NOT NULL DEFAULT (0), NUM_OF_PASSENGERS INTEGER NOT NULL DEFAULT (1), RETURN_BOOKING_ID INTEGER)'),\n ('table', 'WEATHER_MONITOR', 'WEATHER_MONITOR', 11, 'CREATE TABLE WEATHER_MONITOR (ID INTEGER, REPORT_CODE TEXT, REPORT_DATE TIMESTAMP, LOCATION_ID INTEGER, TEMPERATURE REAL, OVERCAST INTEGER, RAIN REAL, SNOW REAL, LIGHTNING INTEGER, HAIL INTEGER, TORNADO INTEGER)')]",
            "text/html": "<table>\n    <thead>\n        <tr>\n            <th>type</th>\n            <th>name</th>\n            <th>tbl_name</th>\n            <th>rootpage</th>\n            <th>sql</th>\n        </tr>\n    </thead>\n    <tbody>\n        <tr>\n            <td>table</td>\n            <td>CALENDAR</td>\n            <td>CALENDAR</td>\n            <td>2</td>\n            <td>CREATE TABLE CALENDAR (CALENDAR_DATE DATE PRIMARY KEY)</td>\n        </tr>\n        <tr>\n            <td>table</td>\n            <td>CUSTOMER</td>\n            <td>CUSTOMER</td>\n            <td>4</td>\n            <td>CREATE TABLE CUSTOMER (CUSTOMER_ID INTEGER PRIMARY KEY, CUSTOMER_NAME VARCHAR (30) NOT NULL, ADDRESS VARCHAR (50) NOT NULL, CITY VARCHAR (20) NOT NULL, STATE CHAR (2) NOT NULL, ZIP INTEGER, CATEGORY VARCHAR NOT NULL CHECK (CATEGORY IN (&#x27;GOVERNMENT&#x27;, &#x27;COMMERCIAL&#x27;, &#x27;INDUSTRIAL&#x27;)))</td>\n        </tr>\n        <tr>\n            <td>table</td>\n            <td>EMPLOYEE</td>\n            <td>EMPLOYEE</td>\n            <td>5</td>\n            <td>CREATE TABLE EMPLOYEE (ID INTEGER PRIMARY KEY, FIRST_NAME VARCHAR NOT NULL, LAST_NAME VARCHAR NOT NULL, TITLE VARCHAR NOT NULL, DEPARTMENT VARCHAR NOT NULL, HIRE_DATE DATE, DEPARTURE_DATE DATE, MANAGER_ID INTEGER)</td>\n        </tr>\n        <tr>\n            <td>table</td>\n            <td>PRODUCT</td>\n            <td>PRODUCT</td>\n            <td>6</td>\n            <td>CREATE TABLE PRODUCT (PRODUCT_ID INTEGER PRIMARY KEY NOT NULL, PRODUCT_NAME VARCHAR (30) NOT NULL, PRODUCT_GROUP VARCHAR, PRICE DECIMAL NOT NULL)</td>\n        </tr>\n        <tr>\n            <td>table</td>\n            <td>CUSTOMER_ORDER</td>\n            <td>CUSTOMER_ORDER</td>\n            <td>7</td>\n            <td>CREATE TABLE CUSTOMER_ORDER (CUSTOMER_ORDER_ID INTEGER PRIMARY KEY, CUSTOMER_ID INTEGER NOT NULL REFERENCES CUSTOMER (CUSTOMER_ID), ORDER_DATE DATE NOT NULL, PRODUCT_ID INTEGER NOT NULL, QUANTITY INTEGER NOT NULL, RUSH_SHIP BOOLEAN DEFAULT (0))</td>\n        </tr>\n        <tr>\n            <td>table</td>\n            <td>EMPLOYEE_AIR_TRAVEL</td>\n            <td>EMPLOYEE_AIR_TRAVEL</td>\n            <td>10</td>\n            <td>CREATE TABLE EMPLOYEE_AIR_TRAVEL (BOOKING_ID INTEGER PRIMARY KEY, BOOKED_EMPLOYEE_ID INTEGER NOT NULL REFERENCES EMPLOYEE (ID), DEPARTURE_DATE DATE NOT NULL, ORIGIN CHAR (3) NOT NULL, DESTINATION CHAR (3) NOT NULL, FARE_PRICE DOUBLE NOT NULL DEFAULT (0), NUM_OF_PASSENGERS INTEGER NOT NULL DEFAULT (1), RETURN_BOOKING_ID INTEGER)</td>\n        </tr>\n        <tr>\n            <td>table</td>\n            <td>WEATHER_MONITOR</td>\n            <td>WEATHER_MONITOR</td>\n            <td>11</td>\n            <td>CREATE TABLE WEATHER_MONITOR (ID INTEGER, REPORT_CODE TEXT, REPORT_DATE TIMESTAMP, LOCATION_ID INTEGER, TEMPERATURE REAL, OVERCAST INTEGER, RAIN REAL, SNOW REAL, LIGHTNING INTEGER, HAIL INTEGER, TORNADO INTEGER)</td>\n        </tr>\n    </tbody>\n</table>"
          },
          "metadata": {}
        }
      ],
      "execution_count": 11
    },
    {
      "cell_type": "code",
      "source": "",
      "metadata": {
        "trusted": true
      },
      "outputs": [],
      "execution_count": null
    }
  ]
}