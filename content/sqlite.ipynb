{
  "metadata": {
    "kernelspec": {
      "name": "python",
      "display_name": "Python (Pyodide)",
      "language": "python"
    },
    "language_info": {
      "codemirror_mode": {
        "name": "python",
        "version": 3
      },
      "file_extension": ".py",
      "mimetype": "text/x-python",
      "name": "python",
      "nbconvert_exporter": "python",
      "pygments_lexer": "ipython3",
      "version": "3.8"
    }
  },
  "nbformat_minor": 4,
  "nbformat": 4,
  "cells": [
    {
      "cell_type": "markdown",
      "source": "<div style=\"\n    color: red; \n    border: 2px solid black; \n    border-radius: 15px; \n    padding: 8px; \n    font-size: 24px; \n    font-weight: bold; \n    text-align: center; \n    margin: 20px 0;\">\n    <div style=\"\n        border: 2px solid red; \n        border-radius: 10px; \n        padding: 10px;\">\n        <img src=\"https://kajabi-storefronts-production.kajabi-cdn.com/kajabi-storefronts-production/file-uploads/themes/2155698250/settings_images/dd1ab6f-208-d4e5-d187-483a245d87_logo_header_Datailab.png\" alt=\"Datailab Logo\" style=\"max-width: 100%; height: auto;\">\n        <h2 style=\"color: black; margin-top: 10px;\">SQL , Jupyternotebook, SQLlite </h2>\n    </div>\n</div>",
      "metadata": {}
    },
    {
      "cell_type": "markdown",
      "source": "<div style=\"\n    color: red; \n    border: 2px solid black; \n    border-radius: 15px; \n    padding: 8px; \n    font-size: 18px; \n    font-weight: bold; \n    text-align: center; \n    margin: 20px 0;\">\n    <div style=\"\n        border: 2px solid red; \n        border-radius: 10px; \n        padding: 10px;\">\n       Prérequis\n    </div>\n</div>\nExécuter cette ceulle\n",
      "metadata": {}
    },
    {
      "cell_type": "code",
      "source": "%pip install -q ipython-sql mysql-connector-python ipywidgets pandas matplotlib",
      "metadata": {
        "trusted": true
      },
      "outputs": [],
      "execution_count": null
    },
    {
      "cell_type": "markdown",
      "source": "<div style=\"\n    color: red; \n    border: 2px solid black; \n    border-radius: 15px; \n    padding: 8px; \n    font-size: 18px; \n    font-weight: bold; \n    text-align: center; \n    margin: 20px 0;\">\n    <div style=\"\n        border: 2px solid red; \n        border-radius: 10px; \n        padding: 10px;\">\n       Charger SQL\n    </div>\n</div>",
      "metadata": {}
    },
    {
      "cell_type": "code",
      "source": "%load_ext sql",
      "metadata": {
        "trusted": true
      },
      "outputs": [],
      "execution_count": null
    },
    {
      "cell_type": "markdown",
      "source": "<div style=\"\n    color: red; \n    border: 2px solid black; \n    border-radius: 15px; \n    padding: 8px; \n    font-size: 18px; \n    font-weight: bold; \n    text-align: center; \n    margin: 20px 0;\">\n    <div style=\"\n        border: 2px solid red; \n        border-radius: 10px; \n        padding: 10px;\">\n       Connexion à une base de données\n    </div>\n</div>",
      "metadata": {}
    },
    {
      "cell_type": "code",
      "source": "%sql sqlite:///data/company_operations.db\n",
      "metadata": {
        "trusted": true
      },
      "outputs": [],
      "execution_count": null
    },
    {
      "cell_type": "markdown",
      "source": "<div style=\"\n    color: red; \n    border: 2px solid black; \n    border-radius: 15px; \n    padding: 8px; \n    font-size: 18px; \n    font-weight: bold; \n    text-align: center; \n    margin: 20px 0;\">\n    <div style=\"\n        border: 2px solid red; \n        border-radius: 10px; \n        padding: 10px;\">\n       Séléctionner les 5 premières lignes de la table Customer\n    </div>\n</div>",
      "metadata": {}
    },
    {
      "cell_type": "code",
      "source": "%%sql\nSELECT * FROM CUSTOMER\nLIMIT 5\n\n",
      "metadata": {
        "trusted": true
      },
      "outputs": [],
      "execution_count": null
    },
    {
      "cell_type": "markdown",
      "source": "<div style=\"\n    color: red; \n    border: 2px solid black; \n    border-radius: 15px; \n    padding: 8px; \n    font-size: 18px; \n    font-weight: bold; \n    text-align: center; \n    margin: 20px 0;\">\n    <div style=\"\n        border: 2px solid red; \n        border-radius: 10px; \n        padding: 10px;\">\n       Afficher le SCHEMA de la base de  donnée \n    </div>\n</div>",
      "metadata": {}
    },
    {
      "cell_type": "code",
      "source": "%%sql\n\nSELECT * FROM sqlite_master WHERE type='table'",
      "metadata": {
        "trusted": true
      },
      "outputs": [],
      "execution_count": null
    },
    {
      "cell_type": "markdown",
      "source": "<div style=\"\n    color: red; \n    border: 2px solid black; \n    border-radius: 15px; \n    padding: 8px; \n    font-size: 18px; \n    font-weight: bold; \n    text-align: center; \n    margin: 20px 0;\">\n    <div style=\"\n        border: 2px solid red; \n        border-radius: 10px; \n        padding: 10px;\">\n       Transformer une requète en dataframe\n    </div>\n</div>",
      "metadata": {}
    },
    {
      "cell_type": "code",
      "source": "result = %sql SELECT * FROM CUSTOMER LIMIT 5",
      "metadata": {
        "trusted": true
      },
      "outputs": [],
      "execution_count": null
    },
    {
      "cell_type": "code",
      "source": "import pandas ",
      "metadata": {
        "trusted": true
      },
      "outputs": [],
      "execution_count": null
    },
    {
      "cell_type": "code",
      "source": "dataframe = result.DataFrame()",
      "metadata": {
        "trusted": true
      },
      "outputs": [],
      "execution_count": null
    },
    {
      "cell_type": "code",
      "source": "dataframe",
      "metadata": {
        "trusted": true
      },
      "outputs": [],
      "execution_count": null
    },
    {
      "cell_type": "markdown",
      "source": "<div style=\"\n    color: red; \n    border: 2px solid black; \n    border-radius: 15px; \n    padding: 8px; \n    font-size: 18px; \n    font-weight: bold; \n    text-align: center; \n    margin: 20px 0;\">\n    <div style=\"\n        border: 2px solid red; \n        border-radius: 10px; \n        padding: 10px;\">\n       Ajouter une colonne pour la réduction des prix\n    </div>\n</div>",
      "metadata": {}
    },
    {
      "cell_type": "code",
      "source": "%%sql\nSELECT PRODUCT_NAME,\n      PRICE,\n      PRICE*0.9 AS REDUCED_PRICE\nFROM  PRODUCT",
      "metadata": {
        "trusted": true
      },
      "outputs": [],
      "execution_count": null
    },
    {
      "cell_type": "markdown",
      "source": "<div style=\"\n    color: red; \n    border: 2px solid black; \n    border-radius: 15px; \n    padding: 8px; \n    font-size: 18px; \n    font-weight: bold; \n    text-align: center; \n    margin: 20px 0;\">\n    <div style=\"\n        border: 2px solid red; \n        border-radius: 10px; \n        padding: 10px;\">\n       Histogramme et Picharts\n    </div>\n</div>\n Afficher tous les produits de la table Products",
      "metadata": {}
    },
    {
      "cell_type": "code",
      "source": "%%sql \nSELECT * From PRODUCT",
      "metadata": {
        "trusted": true
      },
      "outputs": [],
      "execution_count": null
    },
    {
      "cell_type": "markdown",
      "source": "<div style=\"\n    color: red; \n    border: 2px solid black; \n    border-radius: 15px; \n    padding: 8px; \n    font-size: 18px; \n    font-weight: bold; \n    text-align: center; \n    margin: 20px 0;\">\n    <div style=\"\n        border: 2px solid red; \n        border-radius: 10px; \n        padding: 10px;\">\n       Compter les nombres de produits par PRODUCT_GROUP\n    </div>\n</div>\n",
      "metadata": {}
    },
    {
      "cell_type": "code",
      "source": "%%sql \nSELECT PRODUCT_GROUP, COUNT(*) as Total \nFROM  PRODUCT\nGroup By PRODUCT_GROUP",
      "metadata": {
        "trusted": true
      },
      "outputs": [],
      "execution_count": null
    },
    {
      "cell_type": "markdown",
      "source": "<div style=\"\n    color: red; \n    border: 2px solid black; \n    border-radius: 15px; \n    padding: 8px; \n    font-size: 18px; \n    font-weight: bold; \n    text-align: center; \n    margin: 20px 0;\">\n    <div style=\"\n        border: 2px solid red; \n        border-radius: 10px; \n        padding: 10px;\">\n       Utiliser matplotlib dans le backend pour construires des pies charts et des histogrammes\n    </div>\n</div>\n",
      "metadata": {}
    },
    {
      "cell_type": "code",
      "source": "result = %sql \\\nSELECT PRODUCT_GROUP, COUNT(*) as Total \\\nFROM  PRODUCT\\\nGroup By PRODUCT_GROUP",
      "metadata": {
        "trusted": true
      },
      "outputs": [],
      "execution_count": null
    },
    {
      "cell_type": "code",
      "source": "result.pie();",
      "metadata": {
        "trusted": true
      },
      "outputs": [],
      "execution_count": null
    },
    {
      "cell_type": "code",
      "source": "result.bar();",
      "metadata": {
        "trusted": true
      },
      "outputs": [],
      "execution_count": null
    },
    {
      "cell_type": "code",
      "source": "",
      "metadata": {
        "trusted": true
      },
      "outputs": [],
      "execution_count": null
    }
  ]
}